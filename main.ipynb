{
 "cells": [
  {
   "cell_type": "markdown",
   "metadata": {},
   "source": [
    "MCS - BeNeFri\n",
    "<br/>Social Media Analytics, Spring 2020\n",
    "<br/>Project - Community Detection in a Facebook network\n",
    "<br/>@authors: Guillaume Chacun, Fabien Vorpe"
   ]
  },
  {
   "cell_type": "markdown",
   "metadata": {},
   "source": [
    "# Community Detection in a Facebook network"
   ]
  },
  {
   "cell_type": "markdown",
   "metadata": {},
   "source": [
    "## Dataset"
   ]
  },
  {
   "cell_type": "code",
   "execution_count": 1,
   "metadata": {
    "ExecuteTime": {
     "end_time": "2020-03-31T15:04:41.072745Z",
     "start_time": "2020-03-31T15:04:40.302837Z"
    }
   },
   "outputs": [],
   "source": [
    "import networkx as nx\n",
    "from tqdm import tqdm"
   ]
  },
  {
   "cell_type": "code",
   "execution_count": 2,
   "metadata": {
    "ExecuteTime": {
     "end_time": "2020-03-31T15:04:41.081722Z",
     "start_time": "2020-03-31T15:04:41.074733Z"
    }
   },
   "outputs": [],
   "source": [
    "edges_filename = 'example.txt' #facebook_combined"
   ]
  },
  {
   "cell_type": "code",
   "execution_count": 3,
   "metadata": {
    "ExecuteTime": {
     "end_time": "2020-03-31T15:04:41.101668Z",
     "start_time": "2020-03-31T15:04:41.090692Z"
    },
    "scrolled": true
   },
   "outputs": [],
   "source": [
    "# Load the Facebook dataset\n",
    "graph = nx.read_edgelist(f'data/{edges_filename}')\n",
    "#graph = nx.gnp_random_graph(100, 0.2)\n",
    "\n",
    "edge_list = ['%i %i {\\'weight\\': %i}' % (int(d[0]), int(d[1]), int(d[2])) for d in list(graph.edges.data('weight', default=1))]\n",
    "graph = nx.parse_edgelist(edge_list)"
   ]
  },
  {
   "cell_type": "code",
   "execution_count": 4,
   "metadata": {
    "ExecuteTime": {
     "end_time": "2020-03-31T15:04:41.109640Z",
     "start_time": "2020-03-31T15:04:41.104653Z"
    }
   },
   "outputs": [],
   "source": [
    "# Explore the properties of the graph"
   ]
  },
  {
   "cell_type": "code",
   "execution_count": 5,
   "metadata": {
    "ExecuteTime": {
     "end_time": "2020-03-31T15:04:41.152533Z",
     "start_time": "2020-03-31T15:04:41.116621Z"
    },
    "scrolled": true
   },
   "outputs": [
    {
     "name": "stdout",
     "output_type": "stream",
     "text": [
      "Number of nodes: 16\n",
      "Number of edges: 28\n"
     ]
    }
   ],
   "source": [
    "# print number of nodes / edges\n",
    "print('Number of nodes:', graph.number_of_nodes())\n",
    "print('Number of edges:', graph.number_of_edges())"
   ]
  },
  {
   "cell_type": "code",
   "execution_count": 6,
   "metadata": {
    "ExecuteTime": {
     "end_time": "2020-03-31T15:04:41.510310Z",
     "start_time": "2020-03-31T15:04:41.156515Z"
    },
    "code_folding": [
     1
    ]
   },
   "outputs": [],
   "source": [
    "import matplotlib.pyplot as plt\n",
    "def draw_graph(graph):\n",
    "    print(graph.edges.data())\n",
    "    # visualize network\n",
    "    options = {\n",
    "        'node_color': (0,0,1,.6),\n",
    "        'node_size': 30,\n",
    "        'line_color': (.8,.8,.8,1),\n",
    "        'linewidths': 0,\n",
    "        'width': .1,\n",
    "        'with_labels': 'True',\n",
    "    }\n",
    "    nx.draw_networkx(graph, **options)\n",
    "    plt.show()"
   ]
  },
  {
   "cell_type": "raw",
   "metadata": {
    "ExecuteTime": {
     "end_time": "2020-03-26T16:17:10.518856Z",
     "start_time": "2020-03-26T16:17:10.511882Z"
    }
   },
   "source": [
    "from networkx.drawing.nx_agraph import to_agraph \n",
    "def draw_graph(graph):\n",
    "    graph.graph['edge'] = {'arrowsize': '0.6', 'splines': 'curved'}\n",
    "    graph.graph['graph'] = {'scale': '3'}\n",
    "    A = to_agraph(graph) \n",
    "    A.layout('dot')                                                                 \n",
    "    A.draw('test.png') "
   ]
  },
  {
   "cell_type": "markdown",
   "metadata": {},
   "source": [
    "## Algorithms implementation"
   ]
  },
  {
   "cell_type": "code",
   "execution_count": 7,
   "metadata": {
    "ExecuteTime": {
     "end_time": "2020-03-31T15:04:41.566676Z",
     "start_time": "2020-03-31T15:04:41.513303Z"
    },
    "code_folding": [
     0,
     13
    ]
   },
   "outputs": [],
   "source": [
    "# Implement the Louvain method for community detection.      \n",
    "def louvain_passage(graph):\n",
    "    \"\"\"\n",
    "    Performs one passage of Louvain's algorithm to detect communities in a graph.\n",
    "    :param graph: networkx graph\n",
    "    :returns: dictionary with graph's nodes as keys and communities' id as values\n",
    "    \"\"\"\n",
    "    m = sum([edge[2]['weight'] for edge in graph.edges().data()])\n",
    "    prev_communities = {}\n",
    "    communities = {i: i for i in graph.nodes} # keys: nodes' id, values: nodes' community id\n",
    "    while list(prev_communities.values()) != list(communities.values()): # while communities are changing\n",
    "        prev_communities = communities.copy()\n",
    "        \n",
    "        communities = {k: v \n",
    "                       for k, v in sorted(communities.items(), \n",
    "                                          key=lambda item: int(item[1]))} # sort by node id (keys)\n",
    "        for nodei in tqdm(communities.keys()):\n",
    "            communityi = communities[nodei]\n",
    "            di = sum([graph.get_edge_data(nodei, neighbor)['weight']\n",
    "                      for neighbor in graph.neighbors(nodei)])\n",
    "            neighbor_communities = set(communities[neighbor] for neighbor in graph.neighbors(nodei))\n",
    "            \n",
    "            # compute modularity gain for each neighbor community of nodei\n",
    "            modularity_gains = {} # keys: community' id, values: modularity gain\n",
    "            for communityj in neighbor_communities:\n",
    "                nodes_in_communityj = [node for node, community in communities.items() \n",
    "                                       if community == communityj]\n",
    "                dj = sum([graph.get_edge_data(node, neighbor)['weight'] \n",
    "                          for node in nodes_in_communityj\n",
    "                          for neighbor in graph.neighbors(node) \n",
    "                          if node != nodei])\n",
    "                # count number of neighbors of nodei that are in communityj\n",
    "                links_ij = [graph.get_edge_data(nodei, node)['weight'] if node in graph.neighbors(nodei) else 0 \n",
    "                            for node in nodes_in_communityj]\n",
    "                dij = 2 * sum(links_ij)\n",
    "                # compute modularity\n",
    "                modularity_gains[communityj] = 1 / (2 * m) * (dij - (di * dj / m))\n",
    "                \n",
    "            # update node's community\n",
    "            modularity_gains = {k: v \n",
    "                                for k, v in sorted(modularity_gains.items(), \n",
    "                                                   key=lambda item: item[1])} # sort by modularity gain (values)\n",
    "            communities[nodei] = list(modularity_gains.keys())[-1]\n",
    "    return communities"
   ]
  },
  {
   "cell_type": "code",
   "execution_count": 8,
   "metadata": {
    "ExecuteTime": {
     "end_time": "2020-03-31T15:04:41.587630Z",
     "start_time": "2020-03-31T15:04:41.570664Z"
    },
    "code_folding": [
     0
    ]
   },
   "outputs": [],
   "source": [
    "def louvain_create_hypernodes(graph, communities):\n",
    "    \"\"\"\n",
    "    Creates the hypernodes graph after one passage of Louvain's aglorithm.\n",
    "    :param graph: networkx graph\n",
    "    :param communities: dictionary with graph's nodes as keys and communityies' id as values\n",
    "    :returns: new networkx graph (communities became hypernodes)\n",
    "    \"\"\"\n",
    "    new_graph = nx.Graph()\n",
    "    # create hypernodes and reflective edges\n",
    "    for community in set(communities.values()):\n",
    "        new_graph.add_node(community)\n",
    "\n",
    "        # count number of edges in community\n",
    "        nodes_in_community = [n for n, c in communities.items() if community == c]\n",
    "        links_intra_community = [1 if neighbor in nodes_in_community else 0 \n",
    "                                 for node in nodes_in_community\n",
    "                                 for neighbor in graph.neighbors(node)]\n",
    "        new_graph.add_edge(community, community, weight=sum(links_intra_community)/2)\n",
    "\n",
    "    # create inter communities edges\n",
    "    for community in new_graph.nodes:\n",
    "        nodes_in_community = [n for n, c in communities.items() if community == c]\n",
    "        neighbors_of_community = [neighbor\n",
    "                                  for node in nodes_in_community\n",
    "                                  for neighbor in graph.neighbors(node) \n",
    "                                  if communities[neighbor] != community]\n",
    "        for other_community in set(communities.values()):\n",
    "            if other_community != community:\n",
    "                nodes_in_other_community = [n for n, c in communities.items() if other_community == c]\n",
    "                nodes_neighbors_in_other_community = [node for node in neighbors_of_community \n",
    "                                                      if node in nodes_in_other_community]\n",
    "                edge_weight = len(nodes_neighbors_in_other_community)\n",
    "                if other_community not in new_graph.neighbors(community) and edge_weight > 0:\n",
    "                    new_graph.add_edge(community, other_community, weight=edge_weight)\n",
    "    return new_graph"
   ]
  },
  {
   "cell_type": "code",
   "execution_count": 9,
   "metadata": {
    "ExecuteTime": {
     "end_time": "2020-03-31T15:04:41.600585Z",
     "start_time": "2020-03-31T15:04:41.591608Z"
    },
    "code_folding": [
     0
    ]
   },
   "outputs": [],
   "source": [
    "def louvain(graph):\n",
    "    \"\"\"\n",
    "    Louvain's algorithm to detect communities in a given graph.\n",
    "    :param graph: networkx graph\n",
    "    :returns: graph of communities and a dictionary with graph's nodes as keys and communities' id as values\n",
    "    \"\"\"\n",
    "    all_communities = []\n",
    "    communities_id = set(graph.nodes())\n",
    "    passage_id = 0\n",
    "    while True: # passage\n",
    "        communities = louvain_passage(graph)\n",
    "        all_communities.append(communities)\n",
    "\n",
    "        # check if modif\n",
    "        if communities_id == set(communities.values()):\n",
    "            break\n",
    "        communities_id = set(communities.values())\n",
    "        \n",
    "        graph = louvain_create_hypernodes(graph, communities)\n",
    "        \n",
    "        passage_id += 1\n",
    "        print('Graph after passage', passage_id)\n",
    "        draw_graph(graph)\n",
    "    return graph, all_communities"
   ]
  },
  {
   "cell_type": "code",
   "execution_count": 19,
   "metadata": {
    "ExecuteTime": {
     "end_time": "2020-03-31T15:15:02.326769Z",
     "start_time": "2020-03-31T15:15:02.317826Z"
    },
    "code_folding": []
   },
   "outputs": [],
   "source": [
    "# Implement the clustering coefficient for a graph.\n",
    "def clustering_coefficient(graph):\n",
    "    \"\"\"\n",
    "    Computes the clustering coefficient for each node in a given graph.\n",
    "    :param graph: networkx graph\n",
    "    :returns: dictionary with graph's nodes as keys and their clustering coefficient as values\n",
    "    \"\"\"\n",
    "    coeffs = {}\n",
    "    for v in graph.nodes(): # compute coeff for each node\n",
    "        neighbors = list(graph.neighbors(v))\n",
    "        \n",
    "        connected_pairs_neighbors = []\n",
    "        for n1 in neighbors: # for each neighbor n1 of node v\n",
    "            for n2 in graph.neighbors(n1): # for each neighbor n2 of neighbor n1 of node v\n",
    "                if n2 in neighbors: # if n2 is also a neighbor of node v: (n1,n2) is a connected pair of v's neighbors\n",
    "                    connected_pairs_neighbors.append((n1, n2))\n",
    "        # C(v) = #connected pairs of v's neighbors / #pairs of v's neighbors\n",
    "        nb_pairs_neighnbors = (len(neighbors) * (len(neighbors)-1))\n",
    "        coeffs[v] = len(connected_pairs_neighbors) / nb_pairs_neighnbors if nb_pairs_neighnbors > 0 else 0\n",
    "    return coeffs"
   ]
  },
  {
   "cell_type": "markdown",
   "metadata": {},
   "source": [
    "## Analysis"
   ]
  },
  {
   "cell_type": "code",
   "execution_count": 11,
   "metadata": {
    "ExecuteTime": {
     "end_time": "2020-03-31T15:04:42.488209Z",
     "start_time": "2020-03-31T15:04:41.619534Z"
    },
    "scrolled": true
   },
   "outputs": [
    {
     "name": "stderr",
     "output_type": "stream",
     "text": [
      "100%|████████████████████████████████████████████████████████████████████████████████| 16/16 [00:00<00:00, 8022.58it/s]\n",
      "100%|████████████████████████████████████████████████████████████████████████████████| 16/16 [00:00<00:00, 5346.89it/s]\n",
      "100%|████████████████████████████████████████████████████████████████████████████████| 16/16 [00:00<00:00, 8027.38it/s]\n",
      "100%|████████████████████████████████████████████████████████████████████████████████| 16/16 [00:00<00:00, 4007.46it/s]\n"
     ]
    },
    {
     "name": "stdout",
     "output_type": "stream",
     "text": [
      "Graph after passage 1\n",
      "[('13', '13', {'weight': 1.0}), ('13', '12', {'weight': 3}), ('13', '7', {'weight': 1}), ('13', '3', {'weight': 1}), ('12', '12', {'weight': 8.0}), ('12', '3', {'weight': 1}), ('7', '7', {'weight': 2.0}), ('7', '3', {'weight': 4}), ('3', '3', {'weight': 7.0})]\n"
     ]
    },
    {
     "data": {
      "image/png": "[encoded data removed]",
      "text/plain": [
       "<Figure size 432x288 with 1 Axes>"
      ]
     },
     "metadata": {},
     "output_type": "display_data"
    },
    {
     "name": "stderr",
     "output_type": "stream",
     "text": [
      "100%|████████████████████████████████████████████████████████████████████████████████████████████| 4/4 [00:00<?, ?it/s]\n",
      "100%|████████████████████████████████████████████████████████████████████████████████████████████| 4/4 [00:00<?, ?it/s]\n",
      "'c' argument looks like a single numeric RGB or RGBA sequence, which should be avoided as value-mapping will have precedence in case its length matches with 'x' & 'y'.  Please use a 2-D array with a single row if you really want to specify the same RGB or RGBA value for all points.\n"
     ]
    },
    {
     "name": "stdout",
     "output_type": "stream",
     "text": [
      "Graph after passage 2\n",
      "[('12', '12', {'weight': 2.0}), ('12', '3', {'weight': 3}), ('3', '3', {'weight': 2.0})]\n"
     ]
    },
    {
     "data": {
      "image/png": "[encoded data removed]",
      "text/plain": [
       "<Figure size 432x288 with 1 Axes>"
      ]
     },
     "metadata": {},
     "output_type": "display_data"
    },
    {
     "name": "stderr",
     "output_type": "stream",
     "text": [
      "100%|██████████████████████████████████████████████████████████████████████████████████| 2/2 [00:00<00:00, 2008.77it/s]\n",
      "100%|██████████████████████████████████████████████████████████████████████████████████| 2/2 [00:00<00:00, 2012.14it/s]\n"
     ]
    }
   ],
   "source": [
    "# Identify users’ communities in the Facebook network using Louvain\n",
    "new_graph, communities = louvain(graph)"
   ]
  },
  {
   "cell_type": "code",
   "execution_count": 12,
   "metadata": {
    "ExecuteTime": {
     "end_time": "2020-03-31T15:04:42.500177Z",
     "start_time": "2020-03-31T15:04:42.493196Z"
    },
    "scrolled": false
   },
   "outputs": [
    {
     "name": "stdout",
     "output_type": "stream",
     "text": [
      "There are 2 communities.\n"
     ]
    }
   ],
   "source": [
    "print(f'There are {len(set(communities[-1].values()))} communities.')\n",
    "#print(communities)"
   ]
  },
  {
   "cell_type": "code",
   "execution_count": 13,
   "metadata": {
    "ExecuteTime": {
     "end_time": "2020-03-31T15:04:42.535085Z",
     "start_time": "2020-03-31T15:04:42.503169Z"
    },
    "scrolled": true
   },
   "outputs": [
    {
     "name": "stdout",
     "output_type": "stream",
     "text": [
      "There are 2 communities according to Louvain' method.\n"
     ]
    }
   ],
   "source": [
    "import community\n",
    "louvain_communities = community.best_partition(graph)\n",
    "nb_louvain_communities = len(set(louvain_communities.values()))\n",
    "louvain_communities = {k: v for k, v in sorted(louvain_communities.items(), key=lambda item: item[0])} # sort by key (node id)\n",
    "print(f'There are {nb_louvain_communities} communities according to Louvain\\' method.')\n",
    "\n",
    "#dendo = community.generate_dendrogram(graph)\n",
    "#for level in range(len(dendo)) :\n",
    "#    print(\"partition at level\", level, \"is\", community.partition_at_level(dendo, level))"
   ]
  },
  {
   "cell_type": "code",
   "execution_count": 20,
   "metadata": {
    "ExecuteTime": {
     "end_time": "2020-03-31T15:15:06.682772Z",
     "start_time": "2020-03-31T15:15:06.673795Z"
    }
   },
   "outputs": [
    {
     "name": "stdout",
     "output_type": "stream",
     "text": [
      "{'0': 0.3333333333333333, '2': 0.3, '3': 0.0, '4': 0.3333333333333333, '5': 0.16666666666666666, '1': 0.3333333333333333, '6': 0.0, '7': 0.0, '10': 0.2, '11': 0.2, '8': 0.3, '13': 1.0, '12': 0.0, '14': 0.6666666666666666, '9': 0.3333333333333333, '15': 0}\n"
     ]
    }
   ],
   "source": [
    "# Identify the top k users with the highest clustering coefficient in the graph.\n",
    "# Experiment with different values of k and choose the most appropriate one.\n",
    "clustering_coefficients = clustering_coefficient(graph)\n",
    "print(clustering_coefficients)"
   ]
  },
  {
   "cell_type": "code",
   "execution_count": 21,
   "metadata": {
    "ExecuteTime": {
     "end_time": "2020-03-31T15:15:08.496945Z",
     "start_time": "2020-03-31T15:15:08.488966Z"
    }
   },
   "outputs": [
    {
     "data": {
      "text/plain": [
       "{'0': 0.3333333333333333,\n",
       " '2': 0.3,\n",
       " '3': 0,\n",
       " '4': 0.3333333333333333,\n",
       " '5': 0.16666666666666666,\n",
       " '1': 0.3333333333333333,\n",
       " '6': 0,\n",
       " '7': 0,\n",
       " '10': 0.2,\n",
       " '11': 0.2,\n",
       " '8': 0.3,\n",
       " '13': 1.0,\n",
       " '12': 0,\n",
       " '14': 0.6666666666666666,\n",
       " '9': 0.3333333333333333,\n",
       " '15': 0}"
      ]
     },
     "execution_count": 21,
     "metadata": {},
     "output_type": "execute_result"
    }
   ],
   "source": [
    "nx.clustering(graph)"
   ]
  },
  {
   "cell_type": "code",
   "execution_count": null,
   "metadata": {
    "ExecuteTime": {
     "end_time": "2020-03-31T15:04:43.019093Z",
     "start_time": "2020-03-31T15:04:40.384Z"
    }
   },
   "outputs": [],
   "source": [
    "# Evaluate different random walk strategies to spread a message across the network.\n",
    "# The message should reach as many different communities as possible."
   ]
  },
  {
   "cell_type": "markdown",
   "metadata": {},
   "source": [
    "## Visualization"
   ]
  },
  {
   "cell_type": "code",
   "execution_count": null,
   "metadata": {
    "ExecuteTime": {
     "end_time": "2020-03-31T15:04:43.020090Z",
     "start_time": "2020-03-31T15:04:40.386Z"
    }
   },
   "outputs": [],
   "source": [
    "# Visualize the output of Louvain by coloring the nodes according to their assigned Communities."
   ]
  },
  {
   "cell_type": "code",
   "execution_count": null,
   "metadata": {
    "ExecuteTime": {
     "end_time": "2020-03-31T15:04:43.023083Z",
     "start_time": "2020-03-31T15:04:40.389Z"
    }
   },
   "outputs": [],
   "source": [
    "# Visualize the output of applying Random Walk algorithm, by highlighting the sequence of nodes selected in a path."
   ]
  }
 ],
 "metadata": {
  "kernelspec": {
   "display_name": "Python 3",
   "language": "python",
   "name": "python3"
  },
  "language_info": {
   "codemirror_mode": {
    "name": "ipython",
    "version": 3
   },
   "file_extension": ".py",
   "mimetype": "text/x-python",
   "name": "python",
   "nbconvert_exporter": "python",
   "pygments_lexer": "ipython3",
   "version": "3.8.1"
  },
  "toc": {
   "base_numbering": 1,
   "nav_menu": {},
   "number_sections": true,
   "sideBar": true,
   "skip_h1_title": false,
   "title_cell": "Table of Contents",
   "title_sidebar": "Contents",
   "toc_cell": false,
   "toc_position": {},
   "toc_section_display": true,
   "toc_window_display": false
  }
 },
 "nbformat": 4,
 "nbformat_minor": 4
}
