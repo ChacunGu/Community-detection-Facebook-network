{
 "cells": [
  {
   "cell_type": "markdown",
   "metadata": {},
   "source": [
    "MCS - BeNeFri\n",
    "<br/>Social Media Analytics, Spring 2020\n",
    "<br/>Project - Community Detection in a Facebook network\n",
    "<br/>@authors: Guillaume Chacun, Fabien Vorpe"
   ]
  },
  {
   "cell_type": "markdown",
   "metadata": {},
   "source": [
    "# Community Detection in a Facebook network"
   ]
  },
  {
   "cell_type": "markdown",
   "metadata": {},
   "source": [
    "## Dataset"
   ]
  },
  {
   "cell_type": "markdown",
   "metadata": {},
   "source": [
    "### Load the graph"
   ]
  },
  {
   "cell_type": "code",
   "execution_count": 4,
   "metadata": {
    "ExecuteTime": {
     "end_time": "2020-04-01T16:28:27.054064Z",
     "start_time": "2020-04-01T16:28:26.551861Z"
    }
   },
   "outputs": [],
   "source": [
    "import networkx as nx\n",
    "from tqdm import tqdm"
   ]
  },
  {
   "cell_type": "code",
   "execution_count": 5,
   "metadata": {
    "ExecuteTime": {
     "end_time": "2020-04-01T16:28:27.061465Z",
     "start_time": "2020-04-01T16:28:27.056809Z"
    }
   },
   "outputs": [],
   "source": [
    "edges_filename = 'example.txt' #facebook_combined"
   ]
  },
  {
   "cell_type": "code",
   "execution_count": 6,
   "metadata": {
    "ExecuteTime": {
     "end_time": "2020-04-01T16:28:27.413390Z",
     "start_time": "2020-04-01T16:28:27.406503Z"
    },
    "scrolled": true
   },
   "outputs": [],
   "source": [
    "# Load the Facebook dataset\n",
    "graph = nx.read_edgelist(f'data/{edges_filename}')\n",
    "#graph = nx.gnp_random_graph(100, 0.2)\n",
    "\n",
    "edge_list = ['%i %i {\\'weight\\': %i}' % (int(d[0]), int(d[1]), int(d[2])) for d in list(graph.edges.data('weight', default=1))]\n",
    "graph = nx.parse_edgelist(edge_list)"
   ]
  },
  {
   "cell_type": "markdown",
   "metadata": {
    "ExecuteTime": {
     "end_time": "2020-04-01T12:18:16.010535Z",
     "start_time": "2020-04-01T12:18:16.006902Z"
    }
   },
   "source": [
    "### Explore the properties of the graph"
   ]
  },
  {
   "cell_type": "code",
   "execution_count": 7,
   "metadata": {
    "ExecuteTime": {
     "end_time": "2020-04-01T16:28:27.926181Z",
     "start_time": "2020-04-01T16:28:27.910306Z"
    },
    "scrolled": false
   },
   "outputs": [
    {
     "name": "stdout",
     "output_type": "stream",
     "text": [
      "Number of nodes: 16\n",
      "Number of edges: 28\n"
     ]
    }
   ],
   "source": [
    "# print number of nodes / edges\n",
    "print('Number of nodes:', graph.number_of_nodes())\n",
    "print('Number of edges:', graph.number_of_edges())"
   ]
  },
  {
   "cell_type": "code",
   "execution_count": 8,
   "metadata": {
    "ExecuteTime": {
     "end_time": "2020-04-01T16:28:28.745951Z",
     "start_time": "2020-04-01T16:28:28.406997Z"
    }
   },
   "outputs": [
    {
     "name": "stdout",
     "output_type": "stream",
     "text": [
      "Average shortest path length: 2.308333333333333\n",
      "Average degree: 3.5\n",
      "Radius: 3\n",
      "Diameter: 5\n",
      "Density: 0.23333333333333334\n"
     ]
    }
   ],
   "source": [
    "import statistics\n",
    "print('Average shortest path length:', nx.average_shortest_path_length(graph))\n",
    "print('Average degree:', statistics.mean([graph.degree(node) for node in graph.nodes()]))\n",
    "print('Radius:', nx.radius(graph))\n",
    "print('Diameter:', nx.diameter(graph))\n",
    "print('Density:', nx.density(graph))\n",
    "#print('Eccentricity:', nx.eccentricity(graph))\n",
    "#print('Center:', nx.center(graph))\n",
    "#print('Periphery:', nx.periphery(graph))"
   ]
  },
  {
   "cell_type": "markdown",
   "metadata": {},
   "source": [
    "## Algorithms implementation"
   ]
  },
  {
   "cell_type": "markdown",
   "metadata": {},
   "source": [
    "### Louvain\n",
    "\n",
    "Implement the Louvain method for community detection.  "
   ]
  },
  {
   "cell_type": "code",
   "execution_count": 9,
   "metadata": {
    "ExecuteTime": {
     "end_time": "2020-04-01T16:28:29.853285Z",
     "start_time": "2020-04-01T16:28:29.837700Z"
    },
    "code_folding": [
     0,
     12
    ]
   },
   "outputs": [],
   "source": [
    "def louvain_passage(graph):\n",
    "    \"\"\"\n",
    "    Performs one passage of Louvain's algorithm to detect communities in a graph.\n",
    "    :param graph: networkx graph\n",
    "    :returns: dictionary with graph's nodes as keys and communities' id as values\n",
    "    \"\"\"\n",
    "    m = sum([edge[2]['weight'] for edge in graph.edges().data()])\n",
    "    prev_communities = {}\n",
    "    communities = {i: i for i in graph.nodes} # keys: nodes' id, values: nodes' community id\n",
    "    while list(prev_communities.values()) != list(communities.values()): # while communities are changing\n",
    "        prev_communities = communities.copy()\n",
    "        \n",
    "        communities = {k: v \n",
    "                       for k, v in sorted(communities.items(), \n",
    "                                          key=lambda item: int(item[1]))} # sort by node id (keys)\n",
    "        for nodei in tqdm(communities.keys()):\n",
    "            communityi = communities[nodei]\n",
    "            di = sum([graph.get_edge_data(nodei, neighbor)['weight']\n",
    "                      for neighbor in graph.neighbors(nodei)])\n",
    "            neighbor_communities = set(communities[neighbor] for neighbor in graph.neighbors(nodei))\n",
    "            \n",
    "            # compute modularity gain for each neighbor community of nodei\n",
    "            modularity_gains = {} # keys: community' id, values: modularity gain\n",
    "            for communityj in neighbor_communities:\n",
    "                nodes_in_communityj = [node for node, community in communities.items() \n",
    "                                       if community == communityj]\n",
    "                dj = sum([graph.get_edge_data(node, neighbor)['weight'] \n",
    "                          for node in nodes_in_communityj\n",
    "                          for neighbor in graph.neighbors(node) \n",
    "                          if node != nodei])\n",
    "                # count number of neighbors of nodei that are in communityj\n",
    "                links_ij = [graph.get_edge_data(nodei, node)['weight'] if node in graph.neighbors(nodei) else 0 \n",
    "                            for node in nodes_in_communityj]\n",
    "                dij = 2 * sum(links_ij)\n",
    "                # compute modularity\n",
    "                modularity_gains[communityj] = 1 / (2 * m) * (dij - (di * dj / m))\n",
    "                \n",
    "            # update node's community\n",
    "            modularity_gains = {k: v \n",
    "                                for k, v in sorted(modularity_gains.items(), \n",
    "                                                   key=lambda item: item[1])} # sort by modularity gain (values)\n",
    "            communities[nodei] = list(modularity_gains.keys())[-1]\n",
    "    return communities"
   ]
  },
  {
   "cell_type": "code",
   "execution_count": 10,
   "metadata": {
    "ExecuteTime": {
     "end_time": "2020-04-01T16:28:30.069412Z",
     "start_time": "2020-04-01T16:28:30.055240Z"
    },
    "code_folding": [
     0
    ]
   },
   "outputs": [],
   "source": [
    "def louvain_create_hypernodes(graph, communities):\n",
    "    \"\"\"\n",
    "    Creates the hypernodes graph after one passage of Louvain's aglorithm.\n",
    "    :param graph: networkx graph\n",
    "    :param communities: dictionary with graph's nodes as keys and communityies' id as values\n",
    "    :returns: new networkx graph (communities became hypernodes)\n",
    "    \"\"\"\n",
    "    new_graph = nx.Graph()\n",
    "    # create hypernodes and reflective edges\n",
    "    for community in set(communities.values()):\n",
    "        new_graph.add_node(community)\n",
    "\n",
    "        # count number of edges in community\n",
    "        nodes_in_community = [n for n, c in communities.items() if community == c]\n",
    "        links_intra_community = [1 if neighbor in nodes_in_community else 0 \n",
    "                                 for node in nodes_in_community\n",
    "                                 for neighbor in graph.neighbors(node)]\n",
    "        new_graph.add_edge(community, community, weight=sum(links_intra_community)/2)\n",
    "\n",
    "    # create inter communities edges\n",
    "    for community in new_graph.nodes:\n",
    "        nodes_in_community = [n for n, c in communities.items() if community == c]\n",
    "        neighbors_of_community = [neighbor\n",
    "                                  for node in nodes_in_community\n",
    "                                  for neighbor in graph.neighbors(node) \n",
    "                                  if communities[neighbor] != community]\n",
    "        for other_community in set(communities.values()):\n",
    "            if other_community != community:\n",
    "                nodes_in_other_community = [n for n, c in communities.items() if other_community == c]\n",
    "                nodes_neighbors_in_other_community = [node for node in neighbors_of_community \n",
    "                                                      if node in nodes_in_other_community]\n",
    "                edge_weight = len(nodes_neighbors_in_other_community)\n",
    "                if other_community not in new_graph.neighbors(community) and edge_weight > 0:\n",
    "                    new_graph.add_edge(community, other_community, weight=edge_weight)\n",
    "    return new_graph"
   ]
  },
  {
   "cell_type": "code",
   "execution_count": 11,
   "metadata": {
    "ExecuteTime": {
     "end_time": "2020-04-01T16:28:30.267169Z",
     "start_time": "2020-04-01T16:28:30.254817Z"
    },
    "code_folding": [
     0
    ]
   },
   "outputs": [],
   "source": [
    "def louvain(graph):\n",
    "    \"\"\"\n",
    "    Louvain's algorithm to detect communities in a given graph.\n",
    "    :param graph: networkx graph\n",
    "    :returns: graph of communities, a dictionary with hypernodes as keys and communities' id as values and \n",
    "              a dictionary with graph's nodes as keys and communities' id as values\n",
    "    \"\"\"\n",
    "    all_communities_hypernodes = []\n",
    "    all_communities_nodes = [{node: node for node in list(graph.nodes())}]\n",
    "    communities_id = set(graph.nodes())\n",
    "    passage_id = 0\n",
    "    while True: # passage\n",
    "        communities = louvain_passage(graph)\n",
    "        all_communities_hypernodes.append(communities)\n",
    "\n",
    "        # check if modif\n",
    "        if communities_id == set(communities.values()):\n",
    "            break\n",
    "        communities_id = set(communities.values())\n",
    "        \n",
    "        new_passage_communities = {node: all_communities_hypernodes[passage_id][all_communities_nodes[passage_id][node]] \n",
    "                                   for node in all_communities_nodes[passage_id].keys()}\n",
    "        all_communities_nodes.append(new_passage_communities)\n",
    "        \n",
    "        graph = louvain_create_hypernodes(graph, communities)\n",
    "        \n",
    "        passage_id += 1\n",
    "        print('Graph after passage', passage_id)\n",
    "        draw_graph(graph)\n",
    "        \n",
    "    \n",
    "    return graph, all_communities_hypernodes, all_communities_nodes[1:]"
   ]
  },
  {
   "cell_type": "markdown",
   "metadata": {},
   "source": [
    "### Clustering coefficient\n",
    "Implement the clustering coefficient for a graph."
   ]
  },
  {
   "cell_type": "code",
   "execution_count": 12,
   "metadata": {
    "ExecuteTime": {
     "end_time": "2020-04-01T16:28:30.660703Z",
     "start_time": "2020-04-01T16:28:30.654546Z"
    },
    "code_folding": [
     0
    ]
   },
   "outputs": [],
   "source": [
    "def average_clustering_coefficient(graph):\n",
    "    \"\"\"\n",
    "    Computes the average clustering coefficient for a given graph.\n",
    "    :param graph: networkx graph\n",
    "    :returns: the average clustering coefficient of the given graph\n",
    "    \"\"\"\n",
    "    return statistics.mean(clustering_coefficient(graph).values())"
   ]
  },
  {
   "cell_type": "code",
   "execution_count": 13,
   "metadata": {
    "ExecuteTime": {
     "end_time": "2020-04-01T16:28:30.869373Z",
     "start_time": "2020-04-01T16:28:30.858033Z"
    },
    "code_folding": [
     0
    ]
   },
   "outputs": [],
   "source": [
    "def clustering_coefficient(graph, top_k=None):\n",
    "    \"\"\"\n",
    "    Computes the clustering coefficient for each node in a given graph.\n",
    "    :param graph: networkx graph\n",
    "    :param top_k: top k nodes with highest clustering coefficient to return. If None returns all users.\n",
    "    :returns: dictionary with graph's nodes as keys and their clustering coefficient as values\n",
    "    \"\"\"\n",
    "    coeffs = {}\n",
    "    for v in graph.nodes(): # compute coeff for each node\n",
    "        neighbors = list(graph.neighbors(v))\n",
    "        \n",
    "        connected_pairs_neighbors = []\n",
    "        for n1 in neighbors: # for each neighbor n1 of node v\n",
    "            for n2 in graph.neighbors(n1): # for each neighbor n2 of neighbor n1 of node v\n",
    "                if n2 in neighbors: # if n2 is also a neighbor of node v: (n1,n2) is a connected pair of v's neighbors\n",
    "                    connected_pairs_neighbors.append((n1, n2))\n",
    "        # C(v) = #connected pairs of v's neighbors / #pairs of v's neighbors\n",
    "        nb_pairs_neighnbors = (len(neighbors) * (len(neighbors)-1))\n",
    "        coeffs[v] = len(connected_pairs_neighbors) / nb_pairs_neighnbors if nb_pairs_neighnbors > 0 else 0\n",
    "        \n",
    "    coeffs = {k: v \n",
    "              for k, v in sorted(coeffs.items(), \n",
    "                                 key=lambda item: item[1], \n",
    "                                 reverse=True)} # order by coeffs (values)\n",
    "    return dict(list(coeffs.items())[:top_k if top_k else -1])"
   ]
  },
  {
   "cell_type": "markdown",
   "metadata": {},
   "source": [
    "### Random walk"
   ]
  },
  {
   "cell_type": "code",
   "execution_count": 14,
   "metadata": {
    "ExecuteTime": {
     "end_time": "2020-04-01T16:28:31.295335Z",
     "start_time": "2020-04-01T16:28:31.290543Z"
    },
    "code_folding": [
     0
    ]
   },
   "outputs": [],
   "source": [
    "def percentage_visited_communities(visited_nodes, communities):\n",
    "    \"\"\"\n",
    "    Computes the percentages of visited communities from the given list of visited nodes.\n",
    "    :param visited_nodes: list of visited nodes\n",
    "    :param communities: dictionary with nodes as keys and communities as values\n",
    "    :returns: percentage of visited communities\n",
    "    \"\"\"\n",
    "    return len(set(communities[node] for node in visited_nodes)) / len(set(communities.values())) * 100"
   ]
  },
  {
   "cell_type": "code",
   "execution_count": 15,
   "metadata": {
    "ExecuteTime": {
     "end_time": "2020-04-01T16:28:31.492916Z",
     "start_time": "2020-04-01T16:28:31.486693Z"
    },
    "code_folding": [
     0
    ]
   },
   "outputs": [],
   "source": [
    "def random_walk(graph, starting_node, steps, random_walk_strategy):\n",
    "    \"\"\"\n",
    "    Visits a graph with a given random walk strategy.\n",
    "    :param graph: networkx graph\n",
    "    :param starting_node: node of the given graph which serves as the starting point of the random walk\n",
    "    :param steps: number of steps to perform\n",
    "    :param random_walk_strategy: function receiving a graph and a node and returning a node's neighbor to visit\n",
    "    :returns: list of nodes in their order of visit\n",
    "    \"\"\"\n",
    "    path = [starting_node]\n",
    "    node = path[0]\n",
    "    for _ in range(steps):\n",
    "        node = random_walk_strategy(graph, node)\n",
    "        path.append(node)\n",
    "    return path"
   ]
  },
  {
   "cell_type": "code",
   "execution_count": 16,
   "metadata": {
    "ExecuteTime": {
     "end_time": "2020-04-01T16:28:32.045114Z",
     "start_time": "2020-04-01T16:28:32.039521Z"
    }
   },
   "outputs": [],
   "source": [
    "from random import randrange, choices"
   ]
  },
  {
   "cell_type": "code",
   "execution_count": 17,
   "metadata": {
    "ExecuteTime": {
     "end_time": "2020-04-01T16:28:32.278848Z",
     "start_time": "2020-04-01T16:28:32.271257Z"
    },
    "code_folding": [
     0
    ]
   },
   "outputs": [],
   "source": [
    "def rw_strategy_degree(graph, node):\n",
    "    \"\"\"\n",
    "    Random walk strategy - the degree of a neighbor influences the probability to move to this neighbor.\n",
    "    :param graph: networkx graph\n",
    "    :param node: node of the given graph from which we search a neighbor to move to\n",
    "    :returns: node's neighbor to move to\n",
    "    \"\"\"\n",
    "    neighbors = list(graph.neighbors(node))\n",
    "    probs = [graph.degree(neighbor) for neighbor in neighbors]\n",
    "    probs = [p/sum(probs) for p in probs]\n",
    "    return choices(list(neighbors), probs)[0]"
   ]
  },
  {
   "cell_type": "code",
   "execution_count": 18,
   "metadata": {
    "ExecuteTime": {
     "end_time": "2020-04-01T16:28:32.473222Z",
     "start_time": "2020-04-01T16:28:32.467340Z"
    },
    "code_folding": [
     0
    ]
   },
   "outputs": [],
   "source": [
    "def rw_strategy_random(graph, node):\n",
    "    \"\"\"\n",
    "    Random walk strategy - completely random.\n",
    "    :param graph: networkx graph\n",
    "    :param node: node of the given graph from which we search a neighbor to move to\n",
    "    :returns: node's neighbor to move to\n",
    "    \"\"\"\n",
    "    neighbors = list(graph.neighbors(node))\n",
    "    rdm_idx = randrange(len(neighbors)-1)\n",
    "    return neighbors[rdm_idx]"
   ]
  },
  {
   "cell_type": "code",
   "execution_count": 19,
   "metadata": {
    "ExecuteTime": {
     "end_time": "2020-04-01T16:28:32.721528Z",
     "start_time": "2020-04-01T16:28:32.714348Z"
    },
    "code_folding": [
     0
    ]
   },
   "outputs": [],
   "source": [
    "def rw_strategy_connected_neighbors(graph, node):\n",
    "    \"\"\"\n",
    "    Random walk strategy - the inverse number of connected neighbors influences the probability to move to this neighbor.\n",
    "    :param graph: networkx graph\n",
    "    :param node: node of the given graph from which we search a neighbor to move to\n",
    "    :returns: node's neighbor to move to\n",
    "    \"\"\"\n",
    "    neighbors = list(graph.neighbors(node))\n",
    "    probs = [len([neighbor_of_neighbor \n",
    "                  for neighbor_of_neighbor in list(graph.neighbors(neighbor)) \n",
    "                  if neighbor_of_neighbor in neighbors]) \n",
    "             for neighbor in neighbors]\n",
    "    probs = [sum(probs)-p for p in probs]\n",
    "    probs = [p/sum(probs) if sum(probs) > 0 else 1/len(probs) for p in probs]\n",
    "    return choices(list(neighbors), probs)[0]"
   ]
  },
  {
   "cell_type": "markdown",
   "metadata": {},
   "source": [
    "### Utils"
   ]
  },
  {
   "cell_type": "code",
   "execution_count": 20,
   "metadata": {
    "ExecuteTime": {
     "end_time": "2020-04-01T16:28:33.482008Z",
     "start_time": "2020-04-01T16:28:33.163097Z"
    },
    "code_folding": [
     1
    ]
   },
   "outputs": [],
   "source": [
    "import matplotlib.pyplot as plt\n",
    "def draw_graph(graph):\n",
    "    print(graph.edges.data())\n",
    "    # visualize network\n",
    "    options = {\n",
    "        'node_color': (0,0,1,.6),\n",
    "        'node_size': 30,\n",
    "        'line_color': (.8,.8,.8,1),\n",
    "        'linewidths': 0,\n",
    "        'width': .1,\n",
    "        'with_labels': 'True',\n",
    "    }\n",
    "    nx.draw_networkx(graph, **options)\n",
    "    plt.show()"
   ]
  },
  {
   "cell_type": "raw",
   "metadata": {
    "ExecuteTime": {
     "end_time": "2020-03-26T16:17:10.518856Z",
     "start_time": "2020-03-26T16:17:10.511882Z"
    }
   },
   "source": [
    "from networkx.drawing.nx_agraph import to_agraph \n",
    "def draw_graph(graph):\n",
    "    graph.graph['edge'] = {'arrowsize': '0.6', 'splines': 'curved'}\n",
    "    graph.graph['graph'] = {'scale': '3'}\n",
    "    A = to_agraph(graph) \n",
    "    A.layout('dot')                                                                 \n",
    "    A.draw('test.png') "
   ]
  },
  {
   "cell_type": "markdown",
   "metadata": {},
   "source": [
    "## Analysis"
   ]
  },
  {
   "cell_type": "code",
   "execution_count": 21,
   "metadata": {
    "ExecuteTime": {
     "end_time": "2020-04-01T16:28:34.418152Z",
     "start_time": "2020-04-01T16:28:33.799476Z"
    },
    "scrolled": true
   },
   "outputs": [
    {
     "name": "stderr",
     "output_type": "stream",
     "text": [
      "100%|████████████████████████████████████████████████████████████████████████████████| 16/16 [00:00<00:00, 4747.37it/s]\n",
      "100%|████████████████████████████████████████████████████████████████████████████████| 16/16 [00:00<00:00, 5010.74it/s]\n",
      "100%|██████████████████████████████████████████████████████████████████████████████████████████| 16/16 [00:00<?, ?it/s]\n",
      "100%|████████████████████████████████████████████████████████████████████████████████| 16/16 [00:00<00:00, 7594.08it/s]\n"
     ]
    },
    {
     "name": "stdout",
     "output_type": "stream",
     "text": [
      "Graph after passage 1\n",
      "[('12', '12', {'weight': 8.0}), ('12', '4', {'weight': 1}), ('12', '13', {'weight': 3}), ('7', '7', {'weight': 2.0}), ('7', '4', {'weight': 4}), ('7', '13', {'weight': 1}), ('4', '4', {'weight': 7.0}), ('4', '13', {'weight': 1}), ('13', '13', {'weight': 1.0})]\n"
     ]
    },
    {
     "data": {
      "image/png": "[encoded data removed]",
      "text/plain": [
       "<Figure size 432x288 with 1 Axes>"
      ]
     },
     "metadata": {},
     "output_type": "display_data"
    },
    {
     "name": "stderr",
     "output_type": "stream",
     "text": [
      "100%|██████████████████████████████████████████████████████████████████████████████████| 4/4 [00:00<00:00, 1359.03it/s]\n",
      "100%|██████████████████████████████████████████████████████████████████████████████████| 4/4 [00:00<00:00, 9243.65it/s]\n",
      "'c' argument looks like a single numeric RGB or RGBA sequence, which should be avoided as value-mapping will have precedence in case its length matches with 'x' & 'y'.  Please use a 2-D array with a single row if you really want to specify the same RGB or RGBA value for all points.\n"
     ]
    },
    {
     "name": "stdout",
     "output_type": "stream",
     "text": [
      "Graph after passage 2\n",
      "[('12', '12', {'weight': 2.0}), ('12', '4', {'weight': 3}), ('4', '4', {'weight': 2.0})]\n"
     ]
    },
    {
     "data": {
      "image/png": "[encoded data removed]",
      "text/plain": [
       "<Figure size 432x288 with 1 Axes>"
      ]
     },
     "metadata": {},
     "output_type": "display_data"
    },
    {
     "name": "stderr",
     "output_type": "stream",
     "text": [
      "100%|██████████████████████████████████████████████████████████████████████████████████| 2/2 [00:00<00:00, 3675.99it/s]\n",
      "100%|██████████████████████████████████████████████████████████████████████████████████| 2/2 [00:00<00:00, 2003.97it/s]\n"
     ]
    }
   ],
   "source": [
    "# Identify users’ communities in the Facebook network using Louvain\n",
    "new_graph, communities_hypernodes, communities_nodes = louvain(graph)"
   ]
  },
  {
   "cell_type": "code",
   "execution_count": 22,
   "metadata": {
    "ExecuteTime": {
     "end_time": "2020-04-01T16:28:34.425378Z",
     "start_time": "2020-04-01T16:28:34.419148Z"
    },
    "scrolled": false
   },
   "outputs": [
    {
     "name": "stdout",
     "output_type": "stream",
     "text": [
      "There are 2 communities.\n",
      "{'0': '4', '2': '4', '3': '4', '4': '4', '5': '4', '1': '4', '6': '4', '7': '4', '10': '12', '11': '12', '8': '12', '13': '12', '12': '12', '14': '12', '9': '12', '15': '12'}\n"
     ]
    }
   ],
   "source": [
    "print(f'There are {len(set(communities_nodes[-1].values()))} communities.')\n",
    "print(communities_nodes[-1])"
   ]
  },
  {
   "cell_type": "code",
   "execution_count": 23,
   "metadata": {
    "ExecuteTime": {
     "end_time": "2020-04-01T16:28:40.500718Z",
     "start_time": "2020-04-01T16:28:40.477872Z"
    },
    "code_folding": [
     7
    ],
    "scrolled": true
   },
   "outputs": [
    {
     "name": "stdout",
     "output_type": "stream",
     "text": [
      "There are 2 communities according to Louvain' method.\n",
      "partition at level 0 is {'0': 0, '2': 0, '3': 1, '4': 0, '5': 0, '1': 0, '6': 1, '7': 1, '10': 2, '11': 3, '8': 2, '13': 3, '12': 2, '14': 2, '9': 2, '15': 2}\n",
      "partition at level 1 is {'0': 0, '2': 0, '3': 0, '4': 0, '5': 0, '1': 0, '6': 0, '7': 0, '10': 1, '11': 1, '8': 1, '13': 1, '12': 1, '14': 1, '9': 1, '15': 1}\n"
     ]
    }
   ],
   "source": [
    "import community\n",
    "louvain_communities = community.best_partition(graph)\n",
    "nb_louvain_communities = len(set(louvain_communities.values()))\n",
    "louvain_communities = {k: v for k, v in sorted(louvain_communities.items(), key=lambda item: item[0])} # sort by key (node id)\n",
    "print(f'There are {nb_louvain_communities} communities according to Louvain\\' method.')\n",
    "\n",
    "dendo = community.generate_dendrogram(graph)\n",
    "for level in range(len(dendo)) :\n",
    "    print(\"partition at level\", level, \"is\", community.partition_at_level(dendo, level))"
   ]
  },
  {
   "cell_type": "code",
   "execution_count": 24,
   "metadata": {
    "ExecuteTime": {
     "end_time": "2020-04-01T16:28:41.663243Z",
     "start_time": "2020-04-01T16:28:41.659466Z"
    },
    "code_folding": []
   },
   "outputs": [
    {
     "name": "stdout",
     "output_type": "stream",
     "text": [
      "Average clustering coefficient: 0.2777777777777778\n",
      "Top k=3 users with highest clustering coefficients: {'13': 1.0, '14': 0.6666666666666666, '0': 0.3333333333333333}\n"
     ]
    }
   ],
   "source": [
    "# Identify the top k users with the highest clustering coefficient in the graph.\n",
    "# Experiment with different values of k and choose the most appropriate one.\n",
    "print('Average clustering coefficient:', average_clustering_coefficient(graph))\n",
    "print('Top k=3 users with highest clustering coefficients:', clustering_coefficient(graph, top_k=3))"
   ]
  },
  {
   "cell_type": "code",
   "execution_count": 25,
   "metadata": {
    "ExecuteTime": {
     "end_time": "2020-04-01T16:28:42.658220Z",
     "start_time": "2020-04-01T16:28:42.650538Z"
    },
    "scrolled": false
   },
   "outputs": [
    {
     "data": {
      "text/plain": [
       "{'0': 0.3333333333333333,\n",
       " '2': 0.3,\n",
       " '3': 0,\n",
       " '4': 0.3333333333333333,\n",
       " '5': 0.16666666666666666,\n",
       " '1': 0.3333333333333333,\n",
       " '6': 0,\n",
       " '7': 0,\n",
       " '10': 0.2,\n",
       " '11': 0.2,\n",
       " '8': 0.3,\n",
       " '13': 1.0,\n",
       " '12': 0,\n",
       " '14': 0.6666666666666666,\n",
       " '9': 0.3333333333333333,\n",
       " '15': 0}"
      ]
     },
     "execution_count": 25,
     "metadata": {},
     "output_type": "execute_result"
    }
   ],
   "source": [
    "nx.clustering(graph)"
   ]
  },
  {
   "cell_type": "code",
   "execution_count": 26,
   "metadata": {
    "ExecuteTime": {
     "end_time": "2020-04-01T16:28:43.410587Z",
     "start_time": "2020-04-01T16:28:43.402790Z"
    }
   },
   "outputs": [
    {
     "name": "stdout",
     "output_type": "stream",
     "text": [
      "Percentage of visited communities with the degree based rw strategy: 100.0 %\n",
      "Percentage of visited communities with full random rw strategy: 100.0 %\n",
      "Percentage of visited communities with the connected neighbors rw strategy: 100.0 %\n"
     ]
    }
   ],
   "source": [
    "# Evaluate different random walk strategies to spread a message across the network.\n",
    "# The message should reach as many different communities as possible.\n",
    "starting_node = list(graph.nodes())[0]\n",
    "steps = 10\n",
    "rw_result_strategy_degree = random_walk(graph, starting_node, steps, rw_strategy_degree)\n",
    "rw_result_strategy_random = random_walk(graph, starting_node, steps, rw_strategy_random)\n",
    "rw_result_stategy_connected_neighbors = random_walk(graph, starting_node, steps, rw_strategy_connected_neighbors)\n",
    "\n",
    "print('Percentage of visited communities with the degree based rw strategy:', percentage_visited_communities(rw_result_strategy_degree, communities_nodes[-1]), '%')\n",
    "print('Percentage of visited communities with full random rw strategy:', percentage_visited_communities(rw_result_strategy_random, communities_nodes[-1]), '%')\n",
    "print('Percentage of visited communities with the connected neighbors rw strategy:' ,percentage_visited_communities(rw_result_stategy_connected_neighbors, communities_nodes[-1]), '%')"
   ]
  },
  {
   "cell_type": "markdown",
   "metadata": {},
   "source": [
    "## Visualization"
   ]
  },
  {
   "cell_type": "code",
   "execution_count": 32,
   "metadata": {
    "ExecuteTime": {
     "end_time": "2020-04-01T16:30:07.276837Z",
     "start_time": "2020-04-01T16:30:07.264058Z"
    },
    "code_folding": []
   },
   "outputs": [],
   "source": [
    "def draw_communities(graph, communities, pos_param=None):\n",
    "    nodes_community = [int(community) for community in communities.values()]\n",
    "    if pos_param:\n",
    "        nx.draw(graph, cmap=plt.get_cmap('viridis'), node_color=nodes_community, with_labels=True, font_color='white', pos=pos_param)\n",
    "    else:\n",
    "        nx.draw(graph, cmap=plt.get_cmap('viridis'), node_color=nodes_community, with_labels=True, font_color='white')\n",
    "    plt.show()"
   ]
  },
  {
   "cell_type": "code",
   "execution_count": 33,
   "metadata": {
    "ExecuteTime": {
     "end_time": "2020-04-01T16:30:07.551182Z",
     "start_time": "2020-04-01T16:30:07.543373Z"
    }
   },
   "outputs": [],
   "source": [
    "def draw_path(graph, path, pos_param=None):\n",
    "    edges_path = []\n",
    "    for i in range(len(path)-1):\n",
    "        edges_path.append((path[i], path[i+1]))\n",
    "    pos = nx.spring_layout(graph)\n",
    "    if pos_param:\n",
    "        pos = pos_param\n",
    "    nx.draw(graph, pos=pos, with_labels=True)\n",
    "    nx.draw_networkx_nodes(graph, pos, nodelist=path[1:], node_color='r')\n",
    "    nx.draw_networkx_nodes(graph, pos, nodelist=[path[0]], node_color='g')\n",
    "    nx.draw_networkx_edges(graph, pos, edgelist=edges_path, width=2.0, edge_color='r')"
   ]
  },
  {
   "cell_type": "code",
   "execution_count": 34,
   "metadata": {
    "ExecuteTime": {
     "end_time": "2020-04-01T16:30:08.328414Z",
     "start_time": "2020-04-01T16:30:07.812448Z"
    }
   },
   "outputs": [
    {
     "data": {
      "image/png": "[encoded data removed]",
      "text/plain": [
       "<Figure size 432x288 with 1 Axes>"
      ]
     },
     "metadata": {},
     "output_type": "display_data"
    },
    {
     "data": {
      "image/png": "[encoded data removed]",
      "text/plain": [
       "<Figure size 432x288 with 1 Axes>"
      ]
     },
     "metadata": {},
     "output_type": "display_data"
    }
   ],
   "source": [
    "pos = nx.spring_layout(graph)\n",
    "\n",
    "# Visualize the output of Louvain by coloring the nodes according to their assigned Communities.\n",
    "draw_communities(graph, communities_nodes[-1], pos)\n",
    "\n",
    "# Visualize the output of applying Random Walk algorithm, by highlighting the sequence of nodes selected in a path.\n",
    "draw_path(graph, rw_result_strategy_degree, pos)"
   ]
  },
  {
   "cell_type": "code",
   "execution_count": null,
   "metadata": {},
   "outputs": [],
   "source": []
  }
 ],
 "metadata": {
  "kernelspec": {
   "display_name": "Python 3",
   "language": "python",
   "name": "python3"
  },
  "toc": {
   "base_numbering": 1,
   "nav_menu": {},
   "number_sections": true,
   "sideBar": true,
   "skip_h1_title": false,
   "title_cell": "Table of Contents",
   "title_sidebar": "Contents",
   "toc_cell": false,
   "toc_position": {},
   "toc_section_display": true,
   "toc_window_display": false
  }
 },
 "nbformat": 4,
 "nbformat_minor": 4
}
