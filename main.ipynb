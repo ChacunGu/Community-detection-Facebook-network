{
 "cells": [
  {
   "cell_type": "raw",
   "metadata": {},
   "source": [
    "MCS - BeNeFri\n",
    "Social Media Analytics, Spring 2020\n",
    "Project - Community Detection in a Facebook network\n",
    "@authors: Guillaume Chacun, Fabien Vorpe"
   ]
  },
  {
   "cell_type": "markdown",
   "metadata": {},
   "source": [
    "# Community Detection in a Facebook network"
   ]
  },
  {
   "cell_type": "markdown",
   "metadata": {},
   "source": [
    "## Dataset"
   ]
  },
  {
   "cell_type": "code",
   "execution_count": 1,
   "metadata": {
    "ExecuteTime": {
     "end_time": "2020-03-25T12:54:39.348484Z",
     "start_time": "2020-03-25T12:54:38.784277Z"
    }
   },
   "outputs": [],
   "source": [
    "import networkx as nx"
   ]
  },
  {
   "cell_type": "code",
   "execution_count": 2,
   "metadata": {
    "ExecuteTime": {
     "end_time": "2020-03-25T12:54:40.110677Z",
     "start_time": "2020-03-25T12:54:40.098442Z"
    }
   },
   "outputs": [],
   "source": [
    "edges_filename = '0.edges'"
   ]
  },
  {
   "cell_type": "code",
   "execution_count": 3,
   "metadata": {
    "ExecuteTime": {
     "end_time": "2020-03-25T12:54:40.836225Z",
     "start_time": "2020-03-25T12:54:40.713919Z"
    }
   },
   "outputs": [],
   "source": [
    "# Load the Facebook dataset\n",
    "graph = nx.read_edgelist(f'data/{edges_filename}')"
   ]
  },
  {
   "cell_type": "code",
   "execution_count": null,
   "metadata": {},
   "outputs": [],
   "source": [
    "# Explore the properties of the graph"
   ]
  },
  {
   "cell_type": "code",
   "execution_count": 4,
   "metadata": {
    "ExecuteTime": {
     "end_time": "2020-03-25T12:54:53.784147Z",
     "start_time": "2020-03-25T12:54:53.759011Z"
    },
    "scrolled": true
   },
   "outputs": [
    {
     "name": "stdout",
     "output_type": "stream",
     "text": [
      "Number of nodes: 333\n",
      "Number of edges: 2519\n"
     ]
    }
   ],
   "source": [
    "# print number of nodes / edges\n",
    "print('Number of nodes:', graph.number_of_nodes())\n",
    "print('Number of edges:', graph.number_of_edges())"
   ]
  },
  {
   "cell_type": "markdown",
   "metadata": {},
   "source": [
    "## Algorithms implementation"
   ]
  },
  {
   "cell_type": "code",
   "execution_count": 5,
   "metadata": {
    "ExecuteTime": {
     "end_time": "2020-03-25T13:02:57.803982Z",
     "start_time": "2020-03-25T13:02:57.795181Z"
    }
   },
   "outputs": [],
   "source": [
    "# Implement the Louvain method for community detection."
   ]
  },
  {
   "cell_type": "code",
   "execution_count": 6,
   "metadata": {
    "ExecuteTime": {
     "end_time": "2020-03-25T13:03:08.160427Z",
     "start_time": "2020-03-25T13:03:08.151811Z"
    }
   },
   "outputs": [],
   "source": [
    "# Implement the average clustering coefficient for a graph."
   ]
  },
  {
   "cell_type": "markdown",
   "metadata": {},
   "source": [
    "## Analysis"
   ]
  },
  {
   "cell_type": "code",
   "execution_count": 7,
   "metadata": {
    "ExecuteTime": {
     "end_time": "2020-03-25T13:03:47.649830Z",
     "start_time": "2020-03-25T13:03:47.642710Z"
    }
   },
   "outputs": [],
   "source": [
    "# Identify users’ communities in the Facebook network using Louvain"
   ]
  },
  {
   "cell_type": "code",
   "execution_count": null,
   "metadata": {},
   "outputs": [],
   "source": [
    "# Identify the top k users with the highest clustering coefficient in the graph.\n",
    "# Experiment with different values of k and choose the most appropriate one."
   ]
  },
  {
   "cell_type": "code",
   "execution_count": null,
   "metadata": {},
   "outputs": [],
   "source": [
    "# Evaluate different random walk strategies to spread a message across the network.\n",
    "# The message should reach as many different communities as possible."
   ]
  },
  {
   "cell_type": "markdown",
   "metadata": {},
   "source": [
    "## Visualization"
   ]
  },
  {
   "cell_type": "code",
   "execution_count": 8,
   "metadata": {
    "ExecuteTime": {
     "end_time": "2020-03-25T13:04:29.491262Z",
     "start_time": "2020-03-25T13:04:29.482940Z"
    }
   },
   "outputs": [],
   "source": [
    "# Visualize the output of Louvain by coloring the nodes according to their assigned Communities."
   ]
  },
  {
   "cell_type": "code",
   "execution_count": null,
   "metadata": {},
   "outputs": [],
   "source": [
    "# Visualize the output of applying Random Walk algorithm, by highlighting the sequence of nodes selected in a path."
   ]
  }
 ],
 "metadata": {
  "kernelspec": {
   "display_name": "Python 3",
   "language": "python",
   "name": "python3"
  },
  "language_info": {
   "codemirror_mode": {
    "name": "ipython",
    "version": 3
   },
   "file_extension": ".py",
   "mimetype": "text/x-python",
   "name": "python",
   "nbconvert_exporter": "python",
   "pygments_lexer": "ipython3",
   "version": "3.8.1"
  },
  "toc": {
   "base_numbering": 1,
   "nav_menu": {},
   "number_sections": true,
   "sideBar": true,
   "skip_h1_title": false,
   "title_cell": "Table of Contents",
   "title_sidebar": "Contents",
   "toc_cell": false,
   "toc_position": {},
   "toc_section_display": true,
   "toc_window_display": false
  }
 },
 "nbformat": 4,
 "nbformat_minor": 4
}
