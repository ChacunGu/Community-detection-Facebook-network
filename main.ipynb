{
 "cells": [
  {
   "cell_type": "raw",
   "metadata": {},
   "source": [
    "MCS - BeNeFri\n",
    "Social Media Analytics, Spring 2020\n",
    "Project - Community Detection in a Facebook network\n",
    "@authors: Guillaume Chacun, Fabien Vorpe"
   ]
  },
  {
   "cell_type": "markdown",
   "metadata": {},
   "source": [
    "# Community Detection in a Facebook network"
   ]
  },
  {
   "cell_type": "markdown",
   "metadata": {},
   "source": [
    "## Dataset"
   ]
  },
  {
   "cell_type": "code",
   "execution_count": 1,
   "metadata": {
    "ExecuteTime": {
     "end_time": "2020-03-25T15:01:27.807943Z",
     "start_time": "2020-03-25T15:01:27.254468Z"
    }
   },
   "outputs": [],
   "source": [
    "import networkx as nx"
   ]
  },
  {
   "cell_type": "code",
   "execution_count": 49,
   "metadata": {
    "ExecuteTime": {
     "end_time": "2020-03-25T15:33:06.806221Z",
     "start_time": "2020-03-25T15:33:06.802231Z"
    }
   },
   "outputs": [],
   "source": [
    "edges_filename = 'example.txt'"
   ]
  },
  {
   "cell_type": "code",
   "execution_count": 50,
   "metadata": {
    "ExecuteTime": {
     "end_time": "2020-03-25T15:33:07.235934Z",
     "start_time": "2020-03-25T15:33:07.229950Z"
    },
    "scrolled": true
   },
   "outputs": [],
   "source": [
    "# Load the Facebook dataset\n",
    "graph = nx.read_edgelist(f'data/{edges_filename}')"
   ]
  },
  {
   "cell_type": "code",
   "execution_count": 51,
   "metadata": {
    "ExecuteTime": {
     "end_time": "2020-03-25T15:33:07.380662Z",
     "start_time": "2020-03-25T15:33:07.377704Z"
    }
   },
   "outputs": [],
   "source": [
    "# Explore the properties of the graph"
   ]
  },
  {
   "cell_type": "code",
   "execution_count": 52,
   "metadata": {
    "ExecuteTime": {
     "end_time": "2020-03-25T15:33:07.526999Z",
     "start_time": "2020-03-25T15:33:07.521019Z"
    },
    "scrolled": true
   },
   "outputs": [
    {
     "name": "stdout",
     "output_type": "stream",
     "text": [
      "Number of nodes: 16\n",
      "Number of edges: 28\n"
     ]
    }
   ],
   "source": [
    "# print number of nodes / edges\n",
    "print('Number of nodes:', graph.number_of_nodes())\n",
    "print('Number of edges:', graph.number_of_edges())"
   ]
  },
  {
   "cell_type": "markdown",
   "metadata": {},
   "source": [
    "## Algorithms implementation"
   ]
  },
  {
   "cell_type": "code",
   "execution_count": 53,
   "metadata": {
    "ExecuteTime": {
     "end_time": "2020-03-25T15:33:07.796077Z",
     "start_time": "2020-03-25T15:33:07.764083Z"
    },
    "code_folding": [
     13
    ]
   },
   "outputs": [],
   "source": [
    "# Implement the Louvain method for community detection.\n",
    "'''\n",
    "For each passage:\n",
    "Step 1: Initialization: node = community\n",
    "Step 2: Remove node vi from its community\n",
    "Step 3: Insert vi\n",
    "in a neighboring community that\n",
    "maximizes ∆Q\n",
    "Step 4: Repeat Step 1 until the partition does not evolve\n",
    "Step 5: Transform the communities into (hyper)nodes and\n",
    "Repeat Step 1\n",
    "We do passages until convergence\n",
    "\n",
    "while communities change:\n",
    "    for each community i:\n",
    "        for each community j that is a neighbor of i:\n",
    "            dij = 2 * #links_between_communities\n",
    "            di = #neighbors_of_i\n",
    "            dj = #neighbors_of_j\n",
    "        merge community i with the community j which gave the biggest modularity gain\n",
    "'''\n",
    "        \n",
    "def louvain_community_detection(graph):\n",
    "    \"\"\"\n",
    "    Louvain's algorithm to detect communities in a graph.\n",
    "    :param graph: networkx graph\n",
    "    :returns: dictionary with graph's nodes as keys and community's id as values\n",
    "    \"\"\"\n",
    "    m = graph.number_of_nodes()\n",
    "    prev_communities = {}\n",
    "    communities = {i: i for i in graph.nodes} # keys: nodes' id, values: nodes' community id\n",
    "    while list(prev_communities.values()) != list(communities.values()): # while communities are changing\n",
    "        prev_communities = communities.copy()\n",
    "        \n",
    "        communities = {k: v for k, v in sorted(communities.items(), key=lambda item: int(item[1]))} # sort by node id (keys)\n",
    "        for nodei in communities.keys():\n",
    "            communityi = communities[nodei]\n",
    "            di = len(list(graph.neighbors(nodei)))\n",
    "            neighbor_communities = set(communities[neighbor] for neighbor in graph.neighbors(nodei))\n",
    "            \n",
    "            # compute modularity gain for each neighbor community of nodei\n",
    "            modularity_gains = {} # keys: community' id, values: modularity gain\n",
    "            for communityj in neighbor_communities:\n",
    "                nodes_in_communityj = [node for node, community in communities.items() if community == communityj]\n",
    "                dj = sum([len(list(graph.neighbors(node))) for node in nodes_in_communityj if node != nodei])\n",
    "                # count number of neighbors of nodei that are in communityj\n",
    "                links_ij = [1 if node in graph.neighbors(nodei) else 0 for node in nodes_in_communityj]\n",
    "                dij = 2 * sum(links_ij)\n",
    "                # compute modularity\n",
    "                modularity_gains[communityj] = 1 / (2 * m) * (dij - (di * dj / m))\n",
    "                \n",
    "            # update node's community\n",
    "            modularity_gains = {k: v for k, v in sorted(modularity_gains.items(), key=lambda item: item[1])} # sort by modularity gain (values)\n",
    "            communities[nodei] = list(modularity_gains.keys())[-1]\n",
    "        break\n",
    "    return communities"
   ]
  },
  {
   "cell_type": "code",
   "execution_count": 54,
   "metadata": {
    "ExecuteTime": {
     "end_time": "2020-03-25T15:33:07.905283Z",
     "start_time": "2020-03-25T15:33:07.902290Z"
    }
   },
   "outputs": [],
   "source": [
    "# Implement the average clustering coefficient for a graph.\n",
    "#C(v) = #connected pairs of v's neighbors / #pairs of v's neighbors"
   ]
  },
  {
   "cell_type": "markdown",
   "metadata": {},
   "source": [
    "## Analysis"
   ]
  },
  {
   "cell_type": "code",
   "execution_count": 55,
   "metadata": {
    "ExecuteTime": {
     "end_time": "2020-03-25T15:33:09.091897Z",
     "start_time": "2020-03-25T15:33:09.085890Z"
    }
   },
   "outputs": [
    {
     "data": {
      "text/plain": [
       "{'0': '3',\n",
       " '1': '4',\n",
       " '2': '4',\n",
       " '3': '3',\n",
       " '4': '4',\n",
       " '5': '7',\n",
       " '6': '11',\n",
       " '7': '7',\n",
       " '8': '15',\n",
       " '9': '12',\n",
       " '10': '13',\n",
       " '11': '13',\n",
       " '12': '12',\n",
       " '13': '13',\n",
       " '14': '12',\n",
       " '15': '15'}"
      ]
     },
     "execution_count": 55,
     "metadata": {},
     "output_type": "execute_result"
    }
   ],
   "source": [
    "# Identify users’ communities in the Facebook network using Louvain\n",
    "louvain_community_detection(graph)"
   ]
  },
  {
   "cell_type": "code",
   "execution_count": 9,
   "metadata": {
    "ExecuteTime": {
     "end_time": "2020-03-25T15:01:27.947564Z",
     "start_time": "2020-03-25T15:01:27.943573Z"
    }
   },
   "outputs": [],
   "source": [
    "# Identify the top k users with the highest clustering coefficient in the graph.\n",
    "# Experiment with different values of k and choose the most appropriate one."
   ]
  },
  {
   "cell_type": "code",
   "execution_count": 10,
   "metadata": {
    "ExecuteTime": {
     "end_time": "2020-03-25T15:01:27.960531Z",
     "start_time": "2020-03-25T15:01:27.953551Z"
    }
   },
   "outputs": [],
   "source": [
    "# Evaluate different random walk strategies to spread a message across the network.\n",
    "# The message should reach as many different communities as possible."
   ]
  },
  {
   "cell_type": "markdown",
   "metadata": {},
   "source": [
    "## Visualization"
   ]
  },
  {
   "cell_type": "code",
   "execution_count": 11,
   "metadata": {
    "ExecuteTime": {
     "end_time": "2020-03-25T15:01:27.970501Z",
     "start_time": "2020-03-25T15:01:27.964518Z"
    }
   },
   "outputs": [],
   "source": [
    "# Visualize the output of Louvain by coloring the nodes according to their assigned Communities."
   ]
  },
  {
   "cell_type": "code",
   "execution_count": 12,
   "metadata": {
    "ExecuteTime": {
     "end_time": "2020-03-25T15:01:27.979477Z",
     "start_time": "2020-03-25T15:01:27.973492Z"
    }
   },
   "outputs": [],
   "source": [
    "# Visualize the output of applying Random Walk algorithm, by highlighting the sequence of nodes selected in a path."
   ]
  }
 ],
 "metadata": {
  "kernelspec": {
   "display_name": "Python 3",
   "language": "python",
   "name": "python3"
  },
  "language_info": {
   "codemirror_mode": {
    "name": "ipython",
    "version": 3
   },
   "file_extension": ".py",
   "mimetype": "text/x-python",
   "name": "python",
   "nbconvert_exporter": "python",
   "pygments_lexer": "ipython3",
   "version": "3.8.1"
  },
  "toc": {
   "base_numbering": 1,
   "nav_menu": {},
   "number_sections": true,
   "sideBar": true,
   "skip_h1_title": false,
   "title_cell": "Table of Contents",
   "title_sidebar": "Contents",
   "toc_cell": false,
   "toc_position": {},
   "toc_section_display": true,
   "toc_window_display": false
  }
 },
 "nbformat": 4,
 "nbformat_minor": 4
}
