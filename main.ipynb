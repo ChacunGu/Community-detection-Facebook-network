{
 "cells": [
  {
   "cell_type": "markdown",
   "metadata": {},
   "source": [
    "MCS - BeNeFri\n",
    "<br/>Social Media Analytics, Spring 2020\n",
    "<br/>Project - Community Detection in a Facebook network\n",
    "<br/>@authors: Guillaume Chacun, Fabien Vorpe"
   ]
  },
  {
   "cell_type": "markdown",
   "metadata": {},
   "source": [
    "# Community Detection in a Facebook network"
   ]
  },
  {
   "cell_type": "markdown",
   "metadata": {},
   "source": [
    "## Dataset"
   ]
  },
  {
   "cell_type": "code",
   "execution_count": 1,
   "metadata": {
    "ExecuteTime": {
     "end_time": "2020-03-31T12:50:07.866768Z",
     "start_time": "2020-03-31T12:50:06.957826Z"
    }
   },
   "outputs": [],
   "source": [
    "import networkx as nx"
   ]
  },
  {
   "cell_type": "code",
   "execution_count": 2,
   "metadata": {
    "ExecuteTime": {
     "end_time": "2020-03-31T12:50:07.873667Z",
     "start_time": "2020-03-31T12:50:07.869480Z"
    }
   },
   "outputs": [],
   "source": [
    "edges_filename = 'example.txt'"
   ]
  },
  {
   "cell_type": "code",
   "execution_count": 3,
   "metadata": {
    "ExecuteTime": {
     "end_time": "2020-03-31T12:50:07.898435Z",
     "start_time": "2020-03-31T12:50:07.877657Z"
    },
    "scrolled": true
   },
   "outputs": [],
   "source": [
    "# Load the Facebook dataset\n",
    "graph = nx.read_edgelist(f'data/{edges_filename}')\n",
    "\n",
    "edge_list = ['%i %i {\\'weight\\': %i}' % (int(d[0]), int(d[1]), int(d[2])) for d in list(graph.edges.data('weight', default=1))]\n",
    "graph = nx.parse_edgelist(edge_list)"
   ]
  },
  {
   "cell_type": "code",
   "execution_count": 4,
   "metadata": {
    "ExecuteTime": {
     "end_time": "2020-03-31T12:50:07.908858Z",
     "start_time": "2020-03-31T12:50:07.904724Z"
    }
   },
   "outputs": [],
   "source": [
    "# Explore the properties of the graph"
   ]
  },
  {
   "cell_type": "code",
   "execution_count": 5,
   "metadata": {
    "ExecuteTime": {
     "end_time": "2020-03-31T12:50:07.932885Z",
     "start_time": "2020-03-31T12:50:07.916639Z"
    },
    "scrolled": true
   },
   "outputs": [
    {
     "name": "stdout",
     "output_type": "stream",
     "text": [
      "Number of nodes: 16\n",
      "Number of edges: 28\n"
     ]
    }
   ],
   "source": [
    "# print number of nodes / edges\n",
    "print('Number of nodes:', graph.number_of_nodes())\n",
    "print('Number of edges:', graph.number_of_edges())"
   ]
  },
  {
   "cell_type": "code",
   "execution_count": 6,
   "metadata": {
    "ExecuteTime": {
     "end_time": "2020-03-31T12:50:08.447475Z",
     "start_time": "2020-03-31T12:50:07.935876Z"
    },
    "code_folding": [
     1
    ]
   },
   "outputs": [],
   "source": [
    "import matplotlib.pyplot as plt\n",
    "def draw_graph(graph):\n",
    "    print(graph.edges.data())\n",
    "    # visualize network\n",
    "    options = {\n",
    "        'node_color': (0,0,1,.6),\n",
    "        'node_size': 30,\n",
    "        'line_color': (.8,.8,.8,1),\n",
    "        'linewidths': 0,\n",
    "        'width': .1,\n",
    "        'with_labels': 'True',\n",
    "    }\n",
    "    nx.draw_networkx(graph, **options)\n",
    "    plt.show()"
   ]
  },
  {
   "cell_type": "raw",
   "metadata": {
    "ExecuteTime": {
     "end_time": "2020-03-26T16:17:10.518856Z",
     "start_time": "2020-03-26T16:17:10.511882Z"
    }
   },
   "source": [
    "from networkx.drawing.nx_agraph import to_agraph \n",
    "def draw_graph(graph):\n",
    "    graph.graph['edge'] = {'arrowsize': '0.6', 'splines': 'curved'}\n",
    "    graph.graph['graph'] = {'scale': '3'}\n",
    "    A = to_agraph(graph) \n",
    "    A.layout('dot')                                                                 \n",
    "    A.draw('test.png') "
   ]
  },
  {
   "cell_type": "markdown",
   "metadata": {},
   "source": [
    "## Algorithms implementation"
   ]
  },
  {
   "cell_type": "code",
   "execution_count": 7,
   "metadata": {
    "ExecuteTime": {
     "end_time": "2020-03-31T12:50:08.537470Z",
     "start_time": "2020-03-31T12:50:08.453464Z"
    },
    "code_folding": [
     13
    ]
   },
   "outputs": [],
   "source": [
    "# Implement the Louvain method for community detection.      \n",
    "def louvain_passage(graph):\n",
    "    \"\"\"\n",
    "    Performs one passage of Louvain's algorithm to detect communities in a graph.\n",
    "    :param graph: networkx graph\n",
    "    :returns: dictionary with graph's nodes as keys and communities' id as values\n",
    "    \"\"\"\n",
    "    m = graph.number_of_edges()\n",
    "    prev_communities = {}\n",
    "    communities = {i: i for i in graph.nodes} # keys: nodes' id, values: nodes' community id\n",
    "    while list(prev_communities.values()) != list(communities.values()): # while communities are changing\n",
    "        prev_communities = communities.copy()\n",
    "        \n",
    "        communities = {k: v \n",
    "                       for k, v in sorted(communities.items(), \n",
    "                                          key=lambda item: int(item[1]))} # sort by node id (keys)\n",
    "        for nodei in communities.keys():\n",
    "            #print(\"====\")\n",
    "            #print('Node, Neighbor community, di, dj, dij, gain, m')\n",
    "            communityi = communities[nodei]\n",
    "            di = sum([graph.get_edge_data(nodei, neighbor)['weight']\n",
    "                      for neighbor in graph.neighbors(nodei)])\n",
    "            neighbor_communities = set(communities[neighbor] for neighbor in graph.neighbors(nodei))\n",
    "            \n",
    "            # compute modularity gain for each neighbor community of nodei\n",
    "            modularity_gains = {} # keys: community' id, values: modularity gain\n",
    "            for communityj in neighbor_communities:\n",
    "                nodes_in_communityj = [node for node, community in communities.items() \n",
    "                                       if community == communityj]\n",
    "                dj = sum([graph.get_edge_data(node, neighbor)['weight'] \n",
    "                          for node in nodes_in_communityj\n",
    "                          for neighbor in graph.neighbors(node) \n",
    "                          if node != nodei])\n",
    "                # count number of neighbors of nodei that are in communityj\n",
    "                links_ij = [graph.get_edge_data(nodei, node)['weight'] if node in graph.neighbors(nodei) else 0 \n",
    "                            for node in nodes_in_communityj]\n",
    "                dij = 2 * sum(links_ij)\n",
    "                # compute modularity\n",
    "                modularity_gains[communityj] = 1 / (2 * m) * (dij - (di * dj / m))\n",
    "                \n",
    "                #print(\"---\")\n",
    "                #print(nodei, communityj, di, dj, dij, modularity_gains[communityj], m)\n",
    "                \n",
    "            # update node's community\n",
    "            modularity_gains = {k: v \n",
    "                                for k, v in sorted(modularity_gains.items(), \n",
    "                                                   key=lambda item: item[1])} # sort by modularity gain (values)\n",
    "            communities[nodei] = list(modularity_gains.keys())[-1]\n",
    "            print(communities[nodei])\n",
    "    return communities"
   ]
  },
  {
   "cell_type": "code",
   "execution_count": 39,
   "metadata": {
    "ExecuteTime": {
     "end_time": "2020-03-31T13:52:26.964582Z",
     "start_time": "2020-03-31T13:52:26.943638Z"
    },
    "code_folding": []
   },
   "outputs": [],
   "source": [
    "def louvain_create_hypernodes(graph, communities):\n",
    "    \"\"\"\n",
    "    Creates the hypernodes graph after one passage of Louvain's aglorithm.\n",
    "    :param graph: networkx graph\n",
    "    :param communities: dictionary with graph's nodes as keys and communityies' id as values\n",
    "    :returns: new networkx graph (communities became hypernodes)\n",
    "    \"\"\"\n",
    "    new_graph = nx.Graph()\n",
    "    # create hypernodes and reflective edges\n",
    "    for community in set(communities.values()):\n",
    "        new_graph.add_node(community)\n",
    "\n",
    "        # count number of edges in community\n",
    "        nodes_in_community = [n for n, c in communities.items() if community == c]\n",
    "        links_intra_community = [1 if neighbor in nodes_in_community else 0 \n",
    "                                 for node in nodes_in_community\n",
    "                                 for neighbor in graph.neighbors(node)]\n",
    "        new_graph.add_edge(community, community, weight=sum(links_intra_community))\n",
    "\n",
    "    # create inter communities edges\n",
    "    for community in new_graph.nodes:\n",
    "        nodes_in_community = [n for n, c in communities.items() if community == c]\n",
    "        neighbors_of_community = [neighbor\n",
    "                                  for node in nodes_in_community\n",
    "                                  for neighbor in graph.neighbors(node) \n",
    "                                  if communities[neighbor] != community]\n",
    "        for other_community in set(communities.values()):\n",
    "            if other_community != community:\n",
    "                nodes_in_other_community = [n for n, c in communities.items() if other_community == c]\n",
    "                nodes_neighbors_in_other_community = [node for node in neighbors_of_community \n",
    "                                                      if node in nodes_in_other_community]\n",
    "                edge_weight = len(nodes_neighbors_in_other_community)\n",
    "                if other_community not in new_graph.neighbors(community) and edge_weight > 0:\n",
    "                    new_graph.add_edge(community, other_community, weight=edge_weight)\n",
    "    return new_graph"
   ]
  },
  {
   "cell_type": "code",
   "execution_count": 36,
   "metadata": {
    "ExecuteTime": {
     "end_time": "2020-03-31T13:07:43.055087Z",
     "start_time": "2020-03-31T13:07:43.044116Z"
    },
    "code_folding": [
     0
    ]
   },
   "outputs": [],
   "source": [
    "def louvain(graph):\n",
    "    \"\"\"\n",
    "    Louvain's algorithm to detect communities in a given graph.\n",
    "    :param graph: networkx graph\n",
    "    :returns: graph of communities and a dictionary with graph's nodes as keys and communities' id as values\n",
    "    \"\"\"\n",
    "    all_communities = []\n",
    "    communities_id = set(graph.nodes())\n",
    "    passage_id = 0\n",
    "    while True: # passage\n",
    "        communities = louvain_passage(graph)\n",
    "        all_communities.append(communities)\n",
    "\n",
    "        # check if modif\n",
    "        if communities_id == set(communities.values()):\n",
    "            break\n",
    "        communities_id = set(communities.values())\n",
    "        \n",
    "        graph = louvain_create_hypernodes(graph, communities)\n",
    "        \n",
    "        passage_id += 1\n",
    "        print('Graph after passage', passage_id)\n",
    "        draw_graph(graph)\n",
    "    return graph, all_communities"
   ]
  },
  {
   "cell_type": "code",
   "execution_count": 10,
   "metadata": {
    "ExecuteTime": {
     "end_time": "2020-03-31T12:50:08.621584Z",
     "start_time": "2020-03-31T12:50:08.608863Z"
    },
    "code_folding": [
     0
    ]
   },
   "outputs": [],
   "source": [
    "# Implement the average clustering coefficient for a graph.\n",
    "#C(v) = #connected pairs of v's neighbors / #pairs of v's neighbors"
   ]
  },
  {
   "cell_type": "markdown",
   "metadata": {},
   "source": [
    "## Analysis"
   ]
  },
  {
   "cell_type": "code",
   "execution_count": 40,
   "metadata": {
    "ExecuteTime": {
     "end_time": "2020-03-31T13:52:30.273243Z",
     "start_time": "2020-03-31T13:52:29.795279Z"
    },
    "scrolled": false
   },
   "outputs": [
    {
     "name": "stdout",
     "output_type": "stream",
     "text": [
      "====\n",
      "Node, Neighbor community, di, dj, dij, gain, m\n",
      "---\n",
      "0 3 4 2 2 0.030612244897959183 28\n",
      "---\n",
      "0 4 4 4 2 0.025510204081632654 28\n",
      "---\n",
      "0 2 4 5 2 0.022959183673469385 28\n",
      "---\n",
      "0 5 4 4 2 0.025510204081632654 28\n",
      "3\n",
      "====\n",
      "Node, Neighbor community, di, dj, dij, gain, m\n",
      "---\n",
      "1 7 3 4 2 0.028061224489795915 28\n",
      "---\n",
      "1 4 3 4 2 0.028061224489795915 28\n",
      "---\n",
      "1 2 3 5 2 0.02614795918367347 28\n",
      "4\n",
      "====\n",
      "Node, Neighbor community, di, dj, dij, gain, m\n",
      "---\n",
      "2 3 5 6 2 0.016581632653061226 28\n",
      "---\n",
      "2 4 5 7 4 0.049107142857142856 28\n",
      "---\n",
      "2 5 5 4 2 0.022959183673469385 28\n",
      "---\n",
      "2 6 5 3 2 0.02614795918367347 28\n",
      "4\n",
      "====\n",
      "Node, Neighbor community, di, dj, dij, gain, m\n",
      "---\n",
      "3 7 2 4 2 0.030612244897959183 28\n",
      "---\n",
      "3 3 2 4 2 0.030612244897959183 28\n",
      "3\n",
      "====\n",
      "Node, Neighbor community, di, dj, dij, gain, m\n",
      "---\n",
      "4 10 4 6 2 0.02040816326530612 28\n",
      "---\n",
      "4 3 4 6 2 0.02040816326530612 28\n",
      "---\n",
      "4 4 4 8 4 0.05102040816326531 28\n",
      "4\n",
      "====\n",
      "Node, Neighbor community, di, dj, dij, gain, m\n",
      "---\n",
      "5 7 4 4 2 0.025510204081632654 28\n",
      "---\n",
      "5 3 4 6 2 0.02040816326530612 28\n",
      "---\n",
      "5 4 4 12 2 0.005102040816326532 28\n",
      "---\n",
      "5 11 4 5 2 0.022959183673469385 28\n",
      "7\n",
      "====\n",
      "Node, Neighbor community, di, dj, dij, gain, m\n",
      "---\n",
      "6 7 3 8 2 0.02040816326530612 28\n",
      "---\n",
      "6 4 3 12 2 0.012755102040816323 28\n",
      "---\n",
      "6 11 3 5 2 0.02614795918367347 28\n",
      "11\n",
      "====\n",
      "Node, Neighbor community, di, dj, dij, gain, m\n",
      "---\n",
      "7 7 4 4 2 0.025510204081632654 28\n",
      "---\n",
      "7 3 4 6 2 0.02040816326530612 28\n",
      "---\n",
      "7 4 4 12 2 0.005102040816326532 28\n",
      "---\n",
      "7 11 4 8 2 0.015306122448979591 28\n",
      "7\n",
      "====\n",
      "Node, Neighbor community, di, dj, dij, gain, m\n",
      "---\n",
      "8 10 5 6 2 0.016581632653061226 28\n",
      "---\n",
      "8 14 5 3 2 0.02614795918367347 28\n",
      "---\n",
      "8 11 5 8 2 0.01020408163265306 28\n",
      "---\n",
      "8 9 5 3 2 0.02614795918367347 28\n",
      "---\n",
      "8 15 5 1 2 0.03252551020408163 28\n",
      "15\n",
      "====\n",
      "Node, Neighbor community, di, dj, dij, gain, m\n",
      "---\n",
      "9 14 3 3 2 0.029974489795918366 28\n",
      "---\n",
      "9 15 3 6 2 0.02423469387755102 28\n",
      "---\n",
      "9 12 3 2 2 0.03188775510204082 28\n",
      "12\n",
      "====\n",
      "Node, Neighbor community, di, dj, dij, gain, m\n",
      "---\n",
      "10 13 6 2 2 0.028061224489795915 28\n",
      "---\n",
      "10 14 6 3 2 0.02423469387755102 28\n",
      "---\n",
      "10 11 6 8 2 0.005102040816326532 28\n",
      "---\n",
      "10 12 6 5 2 0.016581632653061226 28\n",
      "---\n",
      "10 4 6 12 2 -0.010204081632653064 28\n",
      "---\n",
      "10 15 6 6 2 0.012755102040816323 28\n",
      "13\n",
      "====\n",
      "Node, Neighbor community, di, dj, dij, gain, m\n",
      "---\n",
      "11 13 5 8 4 0.04591836734693877 28\n",
      "---\n",
      "11 7 5 8 2 0.01020408163265306 28\n",
      "---\n",
      "11 15 5 6 2 0.016581632653061226 28\n",
      "---\n",
      "11 11 5 3 2 0.02614795918367347 28\n",
      "13\n",
      "====\n",
      "Node, Neighbor community, di, dj, dij, gain, m\n",
      "---\n",
      "12 13 2 13 2 0.019132653061224487 28\n",
      "---\n",
      "12 12 2 3 2 0.03188775510204082 28\n",
      "12\n",
      "====\n",
      "Node, Neighbor community, di, dj, dij, gain, m\n",
      "---\n",
      "13 13 2 11 4 0.05739795918367347 28\n",
      "13\n",
      "====\n",
      "Node, Neighbor community, di, dj, dij, gain, m\n",
      "---\n",
      "14 13 3 13 2 0.010841836734693877 28\n",
      "---\n",
      "14 15 3 6 2 0.02423469387755102 28\n",
      "---\n",
      "14 12 3 5 2 0.02614795918367347 28\n",
      "12\n",
      "====\n",
      "Node, Neighbor community, di, dj, dij, gain, m\n",
      "---\n",
      "15 15 1 5 2 0.03252551020408163 28\n",
      "15\n",
      "====\n",
      "Node, Neighbor community, di, dj, dij, gain, m\n",
      "---\n",
      "0 7 4 8 2 0.015306122448979591 28\n",
      "---\n",
      "0 3 4 2 2 0.030612244897959183 28\n",
      "---\n",
      "0 4 4 12 4 0.04081632653061224 28\n",
      "4\n",
      "====\n",
      "Node, Neighbor community, di, dj, dij, gain, m\n",
      "---\n",
      "3 7 2 8 2 0.025510204081632654 28\n",
      "---\n",
      "3 4 2 16 2 0.015306122448979591 28\n",
      "7\n",
      "====\n",
      "Node, Neighbor community, di, dj, dij, gain, m\n",
      "---\n",
      "1 7 3 10 2 0.016581632653061226 28\n",
      "---\n",
      "1 4 3 13 4 0.04655612244897959 28\n",
      "4\n",
      "====\n",
      "Node, Neighbor community, di, dj, dij, gain, m\n",
      "---\n",
      "2 7 5 10 2 0.003826530612244896 28\n",
      "---\n",
      "2 4 5 11 6 0.07206632653061223 28\n",
      "---\n",
      "2 11 5 3 2 0.02614795918367347 28\n",
      "4\n",
      "====\n",
      "Node, Neighbor community, di, dj, dij, gain, m\n",
      "---\n",
      "4 13 4 13 2 0.0025510204081632642 28\n",
      "---\n",
      "4 4 4 12 6 0.07653061224489795 28\n",
      "4\n",
      "====\n",
      "Node, Neighbor community, di, dj, dij, gain, m\n",
      "---\n",
      "5 7 4 6 2 0.02040816326530612 28\n",
      "---\n",
      "5 13 4 13 2 0.0025510204081632642 28\n",
      "---\n",
      "5 4 4 16 4 0.030612244897959183 28\n",
      "4\n",
      "====\n",
      "Node, Neighbor community, di, dj, dij, gain, m\n",
      "---\n",
      "7 7 4 2 2 0.030612244897959183 28\n",
      "---\n",
      "7 4 4 20 4 0.02040816326530612 28\n",
      "---\n",
      "7 11 4 3 2 0.028061224489795915 28\n",
      "7\n",
      "====\n",
      "Node, Neighbor community, di, dj, dij, gain, m\n",
      "---\n",
      "6 7 3 6 2 0.02423469387755102 28\n",
      "---\n",
      "6 13 3 13 2 0.010841836734693877 28\n",
      "---\n",
      "6 4 3 20 2 -0.0025510204081632642 28\n",
      "7\n",
      "====\n",
      "Node, Neighbor community, di, dj, dij, gain, m\n",
      "---\n",
      "9 15 3 6 2 0.02423469387755102 28\n",
      "---\n",
      "9 12 3 5 4 0.06186224489795918 28\n",
      "12\n",
      "====\n",
      "Node, Neighbor community, di, dj, dij, gain, m\n",
      "---\n",
      "12 13 2 13 2 0.019132653061224487 28\n",
      "---\n",
      "12 12 2 6 2 0.028061224489795915 28\n",
      "12\n",
      "====\n",
      "Node, Neighbor community, di, dj, dij, gain, m\n",
      "---\n",
      "14 13 3 13 2 0.010841836734693877 28\n",
      "---\n",
      "14 15 3 6 2 0.02423469387755102 28\n",
      "---\n",
      "14 12 3 5 2 0.02614795918367347 28\n",
      "12\n",
      "====\n",
      "Node, Neighbor community, di, dj, dij, gain, m\n",
      "---\n",
      "10 13 6 7 4 0.04464285714285714 28\n",
      "---\n",
      "10 4 6 20 2 -0.04081632653061224 28\n",
      "---\n",
      "10 15 6 6 2 0.012755102040816323 28\n",
      "---\n",
      "10 12 6 8 4 0.04081632653061224 28\n",
      "13\n",
      "====\n",
      "Node, Neighbor community, di, dj, dij, gain, m\n",
      "---\n",
      "11 7 5 9 2 0.007015306122448978 28\n",
      "---\n",
      "11 13 5 8 4 0.04591836734693877 28\n",
      "---\n",
      "11 4 5 20 2 -0.028061224489795922 28\n",
      "---\n",
      "11 15 5 6 2 0.016581632653061226 28\n",
      "13\n",
      "====\n",
      "Node, Neighbor community, di, dj, dij, gain, m\n",
      "---\n",
      "13 13 2 11 4 0.05739795918367347 28\n",
      "13\n",
      "====\n",
      "Node, Neighbor community, di, dj, dij, gain, m\n",
      "---\n",
      "8 13 5 13 4 0.029974489795918362 28\n",
      "---\n",
      "8 15 5 1 2 0.03252551020408163 28\n",
      "---\n",
      "8 12 5 8 4 0.04591836734693877 28\n",
      "12\n",
      "====\n",
      "Node, Neighbor community, di, dj, dij, gain, m\n",
      "---\n",
      "15 12 1 13 2 0.027423469387755098 28\n",
      "12\n",
      "====\n",
      "Node, Neighbor community, di, dj, dij, gain, m\n",
      "---\n",
      "0 7 4 9 2 0.012755102040816323 28\n",
      "---\n",
      "0 4 4 16 6 0.0663265306122449 28\n",
      "4\n",
      "====\n",
      "Node, Neighbor community, di, dj, dij, gain, m\n",
      "---\n",
      "1 7 3 9 2 0.01849489795918367 28\n",
      "---\n",
      "1 4 3 17 4 0.0389030612244898 28\n",
      "4\n",
      "====\n",
      "Node, Neighbor community, di, dj, dij, gain, m\n",
      "---\n",
      "2 7 5 9 2 0.007015306122448978 28\n",
      "---\n",
      "2 4 5 15 8 0.09502551020408162 28\n",
      "4\n",
      "====\n",
      "Node, Neighbor community, di, dj, dij, gain, m\n",
      "---\n",
      "4 13 4 13 2 0.0025510204081632642 28\n",
      "---\n",
      "4 4 4 16 6 0.0663265306122449 28\n",
      "4\n",
      "====\n",
      "Node, Neighbor community, di, dj, dij, gain, m\n",
      "---\n",
      "5 7 4 9 2 0.012755102040816323 28\n",
      "---\n",
      "5 13 4 13 2 0.0025510204081632642 28\n",
      "---\n",
      "5 4 4 16 4 0.030612244897959183 28\n",
      "4\n",
      "====\n",
      "Node, Neighbor community, di, dj, dij, gain, m\n",
      "---\n",
      "3 7 2 7 2 0.026785714285714284 28\n",
      "---\n",
      "3 4 2 20 2 0.01020408163265306 28\n",
      "7\n",
      "====\n",
      "Node, Neighbor community, di, dj, dij, gain, m\n",
      "---\n",
      "7 7 4 5 4 0.0586734693877551 28\n",
      "---\n",
      "7 4 4 20 4 0.02040816326530612 28\n",
      "7\n",
      "====\n",
      "Node, Neighbor community, di, dj, dij, gain, m\n",
      "---\n",
      "6 7 3 6 2 0.02423469387755102 28\n",
      "---\n",
      "6 13 3 13 2 0.010841836734693877 28\n",
      "---\n",
      "6 4 3 20 2 -0.0025510204081632642 28\n",
      "7\n",
      "====\n",
      "Node, Neighbor community, di, dj, dij, gain, m\n",
      "---\n",
      "9 12 3 11 6 0.0860969387755102 28\n",
      "12\n",
      "====\n",
      "Node, Neighbor community, di, dj, dij, gain, m\n",
      "---\n",
      "12 13 2 13 2 0.019132653061224487 28\n",
      "---\n",
      "12 12 2 12 2 0.02040816326530612 28\n",
      "12\n",
      "====\n",
      "Node, Neighbor community, di, dj, dij, gain, m\n",
      "---\n",
      "14 13 3 13 2 0.010841836734693877 28\n",
      "---\n",
      "14 12 3 11 4 0.05038265306122448 28\n",
      "12\n",
      "====\n",
      "Node, Neighbor community, di, dj, dij, gain, m\n",
      "---\n",
      "8 13 5 13 4 0.029974489795918362 28\n",
      "---\n",
      "8 12 5 9 6 0.07844387755102039 28\n",
      "12\n",
      "====\n",
      "Node, Neighbor community, di, dj, dij, gain, m\n",
      "---\n",
      "15 12 1 13 2 0.027423469387755098 28\n",
      "12\n",
      "====\n",
      "Node, Neighbor community, di, dj, dij, gain, m\n",
      "---\n",
      "10 13 6 7 4 0.04464285714285714 28\n",
      "---\n",
      "10 4 6 20 2 -0.04081632653061224 28\n",
      "---\n",
      "10 12 6 14 6 0.05357142857142857 28\n",
      "12\n",
      "====\n",
      "Node, Neighbor community, di, dj, dij, gain, m\n",
      "---\n",
      "11 7 5 9 2 0.007015306122448978 28\n",
      "---\n",
      "11 13 5 2 2 0.02933673469387755 28\n",
      "---\n",
      "11 4 5 20 2 -0.028061224489795922 28\n",
      "---\n",
      "11 12 5 20 4 0.007653061224489792 28\n",
      "13\n",
      "====\n",
      "Node, Neighbor community, di, dj, dij, gain, m\n",
      "---\n",
      "13 13 2 5 2 0.02933673469387755 28\n",
      "---\n",
      "13 12 2 20 2 0.01020408163265306 28\n",
      "13\n",
      "====\n",
      "Node, Neighbor community, di, dj, dij, gain, m\n",
      "---\n",
      "0 7 4 9 2 0.012755102040816323 28\n",
      "---\n",
      "0 4 4 16 6 0.0663265306122449 28\n",
      "4\n",
      "====\n",
      "Node, Neighbor community, di, dj, dij, gain, m\n",
      "---\n",
      "1 7 3 9 2 0.01849489795918367 28\n",
      "---\n",
      "1 4 3 17 4 0.0389030612244898 28\n",
      "4\n",
      "====\n",
      "Node, Neighbor community, di, dj, dij, gain, m\n",
      "---\n",
      "2 7 5 9 2 0.007015306122448978 28\n",
      "---\n",
      "2 4 5 15 8 0.09502551020408162 28\n",
      "4\n",
      "====\n",
      "Node, Neighbor community, di, dj, dij, gain, m\n",
      "---\n",
      "4 4 4 16 6 0.0663265306122449 28\n",
      "---\n",
      "4 12 4 20 2 -0.015306122448979591 28\n",
      "4\n",
      "====\n",
      "Node, Neighbor community, di, dj, dij, gain, m\n",
      "---\n",
      "5 7 4 9 2 0.012755102040816323 28\n",
      "---\n",
      "5 13 4 7 2 0.017857142857142856 28\n",
      "---\n",
      "5 4 4 16 4 0.030612244897959183 28\n",
      "4\n",
      "====\n",
      "Node, Neighbor community, di, dj, dij, gain, m\n",
      "---\n",
      "3 7 2 7 2 0.026785714285714284 28\n",
      "---\n",
      "3 4 2 20 2 0.01020408163265306 28\n",
      "7\n",
      "====\n",
      "Node, Neighbor community, di, dj, dij, gain, m\n",
      "---\n",
      "7 7 4 5 4 0.0586734693877551 28\n",
      "---\n",
      "7 4 4 20 4 0.02040816326530612 28\n",
      "7\n",
      "====\n",
      "Node, Neighbor community, di, dj, dij, gain, m\n",
      "---\n",
      "6 7 3 6 2 0.02423469387755102 28\n",
      "---\n",
      "6 13 3 7 2 0.02232142857142857 28\n",
      "---\n",
      "6 4 3 20 2 -0.0025510204081632642 28\n",
      "7\n",
      "====\n",
      "Node, Neighbor community, di, dj, dij, gain, m\n",
      "---\n",
      "9 12 3 17 6 0.07461734693877552 28\n",
      "12\n",
      "====\n",
      "Node, Neighbor community, di, dj, dij, gain, m\n",
      "---\n",
      "12 12 2 18 4 0.04846938775510204 28\n",
      "12\n",
      "====\n",
      "Node, Neighbor community, di, dj, dij, gain, m\n",
      "---\n",
      "14 12 3 17 6 0.07461734693877552 28\n",
      "12\n",
      "====\n",
      "Node, Neighbor community, di, dj, dij, gain, m\n",
      "---\n",
      "8 13 5 7 2 0.013392857142857142 28\n",
      "---\n",
      "8 12 5 15 8 0.09502551020408162 28\n",
      "12\n",
      "====\n",
      "Node, Neighbor community, di, dj, dij, gain, m\n",
      "---\n",
      "15 12 1 19 2 0.023596938775510203 28\n",
      "12\n",
      "====\n",
      "Node, Neighbor community, di, dj, dij, gain, m\n",
      "---\n",
      "10 13 6 7 4 0.04464285714285714 28\n",
      "---\n",
      "10 4 6 20 2 -0.04081632653061224 28\n",
      "---\n",
      "10 12 6 14 6 0.05357142857142857 28\n",
      "12\n",
      "====\n",
      "Node, Neighbor community, di, dj, dij, gain, m\n",
      "---\n",
      "11 7 5 9 2 0.007015306122448978 28\n",
      "---\n",
      "11 13 5 2 2 0.02933673469387755 28\n",
      "---\n",
      "11 4 5 20 2 -0.028061224489795922 28\n",
      "---\n",
      "11 12 5 20 4 0.007653061224489792 28\n",
      "13\n",
      "====\n",
      "Node, Neighbor community, di, dj, dij, gain, m\n",
      "---\n",
      "13 13 2 5 2 0.02933673469387755 28\n",
      "---\n",
      "13 12 2 20 2 0.01020408163265306 28\n",
      "13\n",
      "Graph after passage 1\n",
      "[('7', '7', {'weight': 4}), ('7', '13', {'weight': 1}), ('7', '4', {'weight': 4}), ('13', '13', {'weight': 2}), ('13', '4', {'weight': 1}), ('13', '12', {'weight': 3}), ('4', '4', {'weight': 14}), ('4', '12', {'weight': 1}), ('12', '12', {'weight': 16})]\n"
     ]
    },
    {
     "data": {
      "image/png": "[encoded data removed]",
      "text/plain": [
       "<Figure size 432x288 with 1 Axes>"
      ]
     },
     "metadata": {},
     "output_type": "display_data"
    },
    {
     "name": "stdout",
     "output_type": "stream",
     "text": [
      "====\n",
      "Node, Neighbor community, di, dj, dij, gain, m\n",
      "---\n",
      "4 7 20 9 8 -0.6666666666666666 9\n",
      "---\n",
      "4 13 20 7 2 -0.7530864197530863 9\n",
      "---\n",
      "4 4 20 0 28 1.5555555555555554 9\n",
      "---\n",
      "4 12 20 20 2 -2.3580246913580245 9\n",
      "4\n",
      "====\n",
      "Node, Neighbor community, di, dj, dij, gain, m\n",
      "---\n",
      "7 13 9 7 2 -0.2777777777777778 9\n",
      "---\n",
      "7 7 9 0 8 0.4444444444444444 9\n",
      "---\n",
      "7 4 9 20 8 -0.6666666666666666 9\n",
      "7\n",
      "====\n",
      "Node, Neighbor community, di, dj, dij, gain, m\n",
      "---\n",
      "12 13 20 7 6 -0.5308641975308641 9\n",
      "---\n",
      "12 4 20 20 2 -2.3580246913580245 9\n",
      "---\n",
      "12 12 20 0 32 1.7777777777777777 9\n",
      "12\n",
      "====\n",
      "Node, Neighbor community, di, dj, dij, gain, m\n",
      "---\n",
      "13 13 7 0 4 0.2222222222222222 9\n",
      "---\n",
      "13 7 7 9 2 -0.2777777777777778 9\n",
      "---\n",
      "13 4 7 20 2 -0.7530864197530863 9\n",
      "---\n",
      "13 12 7 20 6 -0.5308641975308641 9\n",
      "13\n",
      "====\n",
      "Node, Neighbor community, di, dj, dij, gain, m\n",
      "---\n",
      "4 7 20 9 8 -0.6666666666666666 9\n",
      "---\n",
      "4 13 20 7 2 -0.7530864197530863 9\n",
      "---\n",
      "4 4 20 0 28 1.5555555555555554 9\n",
      "---\n",
      "4 12 20 20 2 -2.3580246913580245 9\n",
      "4\n",
      "====\n",
      "Node, Neighbor community, di, dj, dij, gain, m\n",
      "---\n",
      "7 13 9 7 2 -0.2777777777777778 9\n",
      "---\n",
      "7 7 9 0 8 0.4444444444444444 9\n",
      "---\n",
      "7 4 9 20 8 -0.6666666666666666 9\n",
      "7\n",
      "====\n",
      "Node, Neighbor community, di, dj, dij, gain, m\n",
      "---\n",
      "12 13 20 7 6 -0.5308641975308641 9\n",
      "---\n",
      "12 4 20 20 2 -2.3580246913580245 9\n",
      "---\n",
      "12 12 20 0 32 1.7777777777777777 9\n",
      "12\n",
      "====\n",
      "Node, Neighbor community, di, dj, dij, gain, m\n",
      "---\n",
      "13 13 7 0 4 0.2222222222222222 9\n",
      "---\n",
      "13 7 7 9 2 -0.2777777777777778 9\n",
      "---\n",
      "13 4 7 20 2 -0.7530864197530863 9\n",
      "---\n",
      "13 12 7 20 6 -0.5308641975308641 9\n",
      "13\n",
      "[{'0': '4', '1': '4', '2': '4', '4': '4', '5': '4', '3': '7', '7': '7', '6': '7', '9': '12', '12': '12', '14': '12', '8': '12', '15': '12', '10': '12', '11': '13', '13': '13'}, {'4': '4', '7': '7', '12': '12', '13': '13'}]\n"
     ]
    }
   ],
   "source": [
    "# Identify users’ communities in the Facebook network using Louvain\n",
    "new_graph, communities = louvain(graph)\n",
    "print(communities)"
   ]
  },
  {
   "cell_type": "code",
   "execution_count": 41,
   "metadata": {
    "ExecuteTime": {
     "end_time": "2020-03-31T13:52:36.294398Z",
     "start_time": "2020-03-31T13:52:36.288440Z"
    },
    "scrolled": false
   },
   "outputs": [
    {
     "name": "stdout",
     "output_type": "stream",
     "text": [
      "[{'0': '4', '1': '4', '2': '4', '4': '4', '5': '4', '3': '7', '7': '7', '6': '7', '9': '12', '12': '12', '14': '12', '8': '12', '15': '12', '10': '12', '11': '13', '13': '13'}, {'4': '4', '7': '7', '12': '12', '13': '13'}]\n"
     ]
    }
   ],
   "source": [
    "print(communities)"
   ]
  },
  {
   "cell_type": "code",
   "execution_count": 13,
   "metadata": {
    "ExecuteTime": {
     "end_time": "2020-03-31T12:50:12.346058Z",
     "start_time": "2020-03-31T12:50:12.301832Z"
    },
    "scrolled": true
   },
   "outputs": [
    {
     "name": "stdout",
     "output_type": "stream",
     "text": [
      "There are 2 communities according to Louvain' method.\n",
      "partition at level 0 is {'0': 0, '2': 0, '3': 1, '4': 0, '5': 0, '1': 0, '6': 1, '7': 1, '10': 2, '11': 3, '8': 2, '13': 3, '12': 2, '14': 2, '9': 2, '15': 2}\n",
      "partition at level 1 is {'0': 0, '2': 0, '3': 0, '4': 0, '5': 0, '1': 0, '6': 0, '7': 0, '10': 1, '11': 1, '8': 1, '13': 1, '12': 1, '14': 1, '9': 1, '15': 1}\n"
     ]
    }
   ],
   "source": [
    "import community\n",
    "louvain_communities = community.best_partition(graph)\n",
    "nb_louvain_communities = len(set(louvain_communities.values()))\n",
    "louvain_communities = {k: v for k, v in sorted(louvain_communities.items(), key=lambda item: item[0])} # sort by key (node id)\n",
    "print(f'There are {nb_louvain_communities} communities according to Louvain\\' method.')\n",
    "\n",
    "dendo = community.generate_dendrogram(graph)\n",
    "for level in range(len(dendo)) :\n",
    "    print(\"partition at level\", level, \"is\", community.partition_at_level(dendo, level))"
   ]
  },
  {
   "cell_type": "raw",
   "metadata": {},
   "source": [
    "There are 2 communities according to Louvain' method.\n",
    "partition at level 0 is {'0': 0, '2': 0, '3': 1, '4': 0, '5': 0, '1': 0, '6': 1, '7': 1, '10': 2, '11': 3, '8': 2, '13': 3, '12': 2, '14': 2, '9': 2, '15': 2}\n",
    "partition at level 1 is {'0': 0, '2': 0, '3': 0, '4': 0, '5': 0, '1': 0, '6': 0, '7': 0, '10': 1, '11': 1, '8': 1, '13': 1, '12': 1, '14': 1, '9': 1, '15': 1}"
   ]
  },
  {
   "cell_type": "raw",
   "metadata": {
    "ExecuteTime": {
     "end_time": "2020-03-31T12:17:32.096439Z",
     "start_time": "2020-03-31T12:17:32.083478Z"
    }
   },
   "source": [
    "After 1st passage:\n",
    "0: 0, 1, 2, 4, 5,\n",
    "1: 3, 6, 7\n",
    "2: 8, 9, 10, 12, 14, 15\n",
    "3: 11, 13"
   ]
  },
  {
   "cell_type": "code",
   "execution_count": 14,
   "metadata": {
    "ExecuteTime": {
     "end_time": "2020-03-31T12:50:12.355374Z",
     "start_time": "2020-03-31T12:50:12.351380Z"
    }
   },
   "outputs": [],
   "source": [
    "# Identify the top k users with the highest clustering coefficient in the graph.\n",
    "# Experiment with different values of k and choose the most appropriate one."
   ]
  },
  {
   "cell_type": "code",
   "execution_count": 15,
   "metadata": {
    "ExecuteTime": {
     "end_time": "2020-03-31T12:50:12.371896Z",
     "start_time": "2020-03-31T12:50:12.362911Z"
    }
   },
   "outputs": [],
   "source": [
    "# Evaluate different random walk strategies to spread a message across the network.\n",
    "# The message should reach as many different communities as possible."
   ]
  },
  {
   "cell_type": "markdown",
   "metadata": {},
   "source": [
    "## Visualization"
   ]
  },
  {
   "cell_type": "code",
   "execution_count": 16,
   "metadata": {
    "ExecuteTime": {
     "end_time": "2020-03-31T12:50:12.388961Z",
     "start_time": "2020-03-31T12:50:12.375921Z"
    }
   },
   "outputs": [],
   "source": [
    "# Visualize the output of Louvain by coloring the nodes according to their assigned Communities."
   ]
  },
  {
   "cell_type": "code",
   "execution_count": 17,
   "metadata": {
    "ExecuteTime": {
     "end_time": "2020-03-31T12:50:12.400615Z",
     "start_time": "2020-03-31T12:50:12.394635Z"
    }
   },
   "outputs": [],
   "source": [
    "# Visualize the output of applying Random Walk algorithm, by highlighting the sequence of nodes selected in a path."
   ]
  }
 ],
 "metadata": {
  "kernelspec": {
   "display_name": "Python 3",
   "language": "python",
   "name": "python3"
  },
  "language_info": {
   "codemirror_mode": {
    "name": "ipython",
    "version": 3
   },
   "file_extension": ".py",
   "mimetype": "text/x-python",
   "name": "python",
   "nbconvert_exporter": "python",
   "pygments_lexer": "ipython3",
   "version": "3.8.1"
  },
  "toc": {
   "base_numbering": 1,
   "nav_menu": {},
   "number_sections": true,
   "sideBar": true,
   "skip_h1_title": false,
   "title_cell": "Table of Contents",
   "title_sidebar": "Contents",
   "toc_cell": false,
   "toc_position": {},
   "toc_section_display": true,
   "toc_window_display": false
  }
 },
 "nbformat": 4,
 "nbformat_minor": 4
}
