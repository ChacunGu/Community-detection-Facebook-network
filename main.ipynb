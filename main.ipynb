{
 "cells": [
  {
   "cell_type": "markdown",
   "metadata": {},
   "source": [
    "MCS - BeNeFri\n",
    "<br/>Social Media Analytics, Spring 2020\n",
    "<br/>Project - Community Detection in a Facebook network\n",
    "<br/>@authors: Guillaume Chacun, Fabien Vorpe"
   ]
  },
  {
   "cell_type": "markdown",
   "metadata": {},
   "source": [
    "# Community Detection in a Facebook network"
   ]
  },
  {
   "cell_type": "code",
   "execution_count": 1,
   "metadata": {
    "ExecuteTime": {
     "end_time": "2020-04-02T17:52:51.450507Z",
     "start_time": "2020-04-02T17:52:50.616849Z"
    }
   },
   "outputs": [],
   "source": [
    "import matplotlib.pyplot as plt\n",
    "import networkx as nx\n",
    "from random import randrange, choices\n",
    "import statistics\n",
    "from tqdm import tqdm"
   ]
  },
  {
   "cell_type": "markdown",
   "metadata": {},
   "source": [
    "## Dataset"
   ]
  },
  {
   "cell_type": "markdown",
   "metadata": {},
   "source": [
    "### Load the graph"
   ]
  },
  {
   "cell_type": "code",
   "execution_count": 2,
   "metadata": {
    "ExecuteTime": {
     "end_time": "2020-04-02T17:52:51.457146Z",
     "start_time": "2020-04-02T17:52:51.453156Z"
    }
   },
   "outputs": [],
   "source": [
    "edges_filename = 'example.txt' #facebook_combined"
   ]
  },
  {
   "cell_type": "code",
   "execution_count": 3,
   "metadata": {
    "ExecuteTime": {
     "end_time": "2020-04-02T17:52:51.468141Z",
     "start_time": "2020-04-02T17:52:51.460138Z"
    },
    "scrolled": true
   },
   "outputs": [],
   "source": [
    "# Load the Facebook dataset\n",
    "graph = nx.read_edgelist(f'data/{edges_filename}')\n",
    "#graph = nx.gnp_random_graph(200, 0.2)\n",
    "\n",
    "edge_list = ['%i %i {\\'weight\\': %i}' % (int(d[0]), int(d[1]), int(d[2])) for d in list(graph.edges.data('weight', default=1))]\n",
    "graph = nx.parse_edgelist(edge_list)"
   ]
  },
  {
   "cell_type": "markdown",
   "metadata": {
    "ExecuteTime": {
     "end_time": "2020-04-01T12:18:16.010535Z",
     "start_time": "2020-04-01T12:18:16.006902Z"
    }
   },
   "source": [
    "### Explore the properties of the graph"
   ]
  },
  {
   "cell_type": "code",
   "execution_count": 4,
   "metadata": {
    "ExecuteTime": {
     "end_time": "2020-04-02T17:52:51.480084Z",
     "start_time": "2020-04-02T17:52:51.470110Z"
    }
   },
   "outputs": [
    {
     "name": "stdout",
     "output_type": "stream",
     "text": [
      "Number of nodes: 16\n",
      "Number of edges: 28\n"
     ]
    }
   ],
   "source": [
    "print('Number of nodes:', graph.number_of_nodes())\n",
    "print('Number of edges:', graph.number_of_edges())"
   ]
  },
  {
   "cell_type": "code",
   "execution_count": 5,
   "metadata": {
    "ExecuteTime": {
     "end_time": "2020-04-02T17:52:51.494048Z",
     "start_time": "2020-04-02T17:52:51.483076Z"
    }
   },
   "outputs": [
    {
     "name": "stdout",
     "output_type": "stream",
     "text": [
      "Average shortest path length: 2.308333333333333\n",
      "Average degree: 3.5\n"
     ]
    }
   ],
   "source": [
    "print('Average shortest path length:', nx.average_shortest_path_length(graph))\n",
    "print('Average degree:', statistics.mean([graph.degree(node) for node in graph.nodes()]))"
   ]
  },
  {
   "cell_type": "code",
   "execution_count": 6,
   "metadata": {
    "ExecuteTime": {
     "end_time": "2020-04-02T17:52:51.509006Z",
     "start_time": "2020-04-02T17:52:51.497041Z"
    }
   },
   "outputs": [
    {
     "name": "stdout",
     "output_type": "stream",
     "text": [
      "Radius: 3\n",
      "Diameter: 5\n",
      "Density: 0.23333333333333334\n"
     ]
    }
   ],
   "source": [
    "print('Radius:', nx.radius(graph))\n",
    "print('Diameter:', nx.diameter(graph))\n",
    "print('Density:', nx.density(graph))"
   ]
  },
  {
   "cell_type": "markdown",
   "metadata": {},
   "source": [
    "## Algorithms implementation"
   ]
  },
  {
   "cell_type": "markdown",
   "metadata": {},
   "source": [
    "### Louvain\n",
    "\n",
    "Implement the Louvain method for community detection.  "
   ]
  },
  {
   "cell_type": "code",
   "execution_count": 7,
   "metadata": {
    "ExecuteTime": {
     "end_time": "2020-04-02T17:52:51.531946Z",
     "start_time": "2020-04-02T17:52:51.511001Z"
    },
    "code_folding": [
     0
    ]
   },
   "outputs": [],
   "source": [
    "def louvain_passage(graph):\n",
    "    \"\"\"\n",
    "    Performs one passage of Louvain's algorithm to detect communities in a graph.\n",
    "    :param graph: networkx graph\n",
    "    :returns: dictionary with graph's nodes as keys and communities' id as values\n",
    "    \"\"\"\n",
    "    m = sum([edge[2]['weight'] for edge in graph.edges().data()])\n",
    "    prev_communities = {}\n",
    "    communities = {i: i for i in graph.nodes} # keys: nodes' id, values: nodes' community id\n",
    "    while list(prev_communities.values()) != list(communities.values()): # while communities are changing\n",
    "        prev_communities = communities.copy()\n",
    "        \n",
    "        communities = {k: v for k, v in sorted(communities.items(), \n",
    "                                               key=lambda item: int(item[1]))} # sort by node id (keys)\n",
    "        for nodei in tqdm(communities.keys()):\n",
    "            communityi = communities[nodei]\n",
    "            di = sum([graph.get_edge_data(nodei, neighbor)['weight']\n",
    "                      for neighbor in graph.neighbors(nodei)])\n",
    "            # can't use degree() as we're working with undirected graphs and degree() counts self loops twice\n",
    "            \n",
    "            neighbor_communities = set(communities[neighbor] for neighbor in graph.neighbors(nodei))\n",
    "            \n",
    "            # compute modularity gain for each neighbor community of nodei\n",
    "            modularity_gains = {} # keys: community' id, values: modularity gain\n",
    "            \n",
    "            nodes_of_each_community = {}\n",
    "            for node, community in communities.items():\n",
    "                try:\n",
    "                    nodes_of_each_community[community].append(node)\n",
    "                except:\n",
    "                    nodes_of_each_community[community] = [node]\n",
    "                    \n",
    "            for communityj in neighbor_communities:\n",
    "                #nodes_in_communityj = [node for node, community in communities.items() \n",
    "                #                       if community == communityj] # modified\n",
    "                nodes_in_communityj = nodes_of_each_community[communityj] # get nodes belonging to community j\n",
    "                \n",
    "                dj = 0\n",
    "                links_ij = []\n",
    "                for node in nodes_in_communityj:\n",
    "                    dj += sum([graph.get_edge_data(node, neighbor)['weight'] \n",
    "                               for neighbor in graph.neighbors(node) \n",
    "                               if node != nodei])\n",
    "                    # count number of neighbors of nodei that are in communityj\n",
    "                    links_ij.append(graph.get_edge_data(nodei, node)['weight'] if node in graph.neighbors(nodei) else 0)\n",
    "                \n",
    "                #dj2 = sum([graph.get_edge_data(node, neighbor)['weight'] \n",
    "                #          for node in nodes_in_communityj\n",
    "                #          for neighbor in graph.neighbors(node) \n",
    "                #          if node != nodei]) #modified\n",
    "                \n",
    "                #links_ij2 = [graph.get_edge_data(nodei, node)['weight'] if node in graph.neighbors(nodei) else 0 \n",
    "                #            for node in nodes_in_communityj] #modified\n",
    "                \n",
    "                dij = 2 * sum(links_ij)\n",
    "                # compute modularity gains\n",
    "                modularity_gains[communityj] = 1 / (2 * m) * (dij - (di * dj / m))\n",
    "                \n",
    "            # update node's community\n",
    "            modularity_gains = {k: v \n",
    "                                for k, v in sorted(modularity_gains.items(), \n",
    "                                                   key=lambda item: item[1])} # sort by modularity gain (values)\n",
    "            communities[nodei] = list(modularity_gains.keys())[-1]\n",
    "    return communities"
   ]
  },
  {
   "cell_type": "code",
   "execution_count": 8,
   "metadata": {
    "ExecuteTime": {
     "end_time": "2020-04-02T17:52:51.558873Z",
     "start_time": "2020-04-02T17:52:51.535935Z"
    },
    "code_folding": [
     0
    ]
   },
   "outputs": [],
   "source": [
    "def louvain_create_hypernodes(graph, communities):\n",
    "    \"\"\"\n",
    "    Creates the hypernodes graph after one passage of Louvain's aglorithm.\n",
    "    :param graph: networkx graph\n",
    "    :param communities: dictionary with graph's nodes as keys and communityies' id as values\n",
    "    :returns: new networkx graph (communities became hypernodes)\n",
    "    \"\"\"\n",
    "    new_graph = nx.Graph()\n",
    "    # create hypernodes and reflective edges\n",
    "    for community in set(communities.values()):\n",
    "        new_graph.add_node(community)\n",
    "\n",
    "        # count number of edges in community\n",
    "        nodes_in_community = [n for n, c in communities.items() if community == c]\n",
    "        \n",
    "        #links_intra_community = [1 if neighbor in nodes_in_community else 0 \n",
    "        #                         for node in nodes_in_community\n",
    "        #                         for neighbor in graph.neighbors(node)]\n",
    "        links_intra_community = [graph.get_edge_data(node, neighbor)['weight'] if neighbor in nodes_in_community else 0 \n",
    "                                 for node in nodes_in_community\n",
    "                                 for neighbor in graph.neighbors(node)]\n",
    "        \n",
    "        new_graph.add_edge(community, community, weight=sum(links_intra_community)/2)\n",
    "\n",
    "    nodes_in_each_community = {}\n",
    "    for node, community in communities.items():\n",
    "        try:\n",
    "            nodes_in_each_community[community].append(node)\n",
    "        except:\n",
    "            nodes_in_each_community[community] = [node]\n",
    "            \n",
    "    edges_from_each_community = {}\n",
    "    for node1, node2, data in graph.edges.data():\n",
    "        for community in nodes_in_each_community.keys():\n",
    "            if node1 in nodes_in_each_community[community] or node2 in nodes_in_each_community[community]:\n",
    "                try:\n",
    "                    edges_from_each_community[community].append((node1, node2, data['weight']))\n",
    "                except:\n",
    "                    edges_from_each_community[community] = [(node1, node2, data['weight'])]\n",
    "    \n",
    "    \n",
    "    # create inter communities edges\n",
    "    for community in new_graph.nodes:\n",
    "        #nodes_in_community = [n for n, c in communities.items() if community == c] #modified\n",
    "        nodes_in_community = nodes_in_each_community[community]\n",
    "        \n",
    "        #neighbors_of_community = [neighbor\n",
    "        #                          for node in nodes_in_community\n",
    "        #                          for neighbor in graph.neighbors(node) \n",
    "        #                          if communities[neighbor] != community] # tous les noeuds voisins à l'un des noeuds de notre communauté et qui ne sont pas dans cette commu\n",
    "        for other_community in set(communities.values()):\n",
    "            if other_community != community:\n",
    "                #nodes_in_other_community = [n for n, c in communities.items() if other_community == c] #modified\n",
    "                nodes_in_other_community = nodes_in_each_community[other_community]\n",
    "                \n",
    "                #nodes_neighbors_in_other_community = [node for node in neighbors_of_community \n",
    "                #                                      if node in nodes_in_other_community]\n",
    "                #edge_weight = len(nodes_neighbors_in_other_community)\n",
    "                #edge_weight = 0\n",
    "                #for edge in graph.edges:\n",
    "                #    if edge[0] in nodes_in_community and edge[1] in nodes_in_other_community:\n",
    "                #        edge_weight += graph.get_edge_data(*edge)['weight']\n",
    "                #    elif edge[1] in nodes_in_community and edge[0] in nodes_in_other_community:\n",
    "                #        edge_weight += graph.get_edge_data(*edge)['weight']\n",
    "                \n",
    "                shared_edges = set(edges_from_each_community[community]) & set(edges_from_each_community[other_community])\n",
    "                edge_weight = sum([weight for _,_,weight in shared_edges])\n",
    "                \n",
    "                if other_community not in new_graph.neighbors(community) and edge_weight > 0:\n",
    "                    new_graph.add_edge(community, other_community, weight=edge_weight)\n",
    "    return new_graph"
   ]
  },
  {
   "cell_type": "code",
   "execution_count": 9,
   "metadata": {
    "ExecuteTime": {
     "end_time": "2020-04-02T17:52:51.573833Z",
     "start_time": "2020-04-02T17:52:51.561866Z"
    },
    "code_folding": [
     0
    ]
   },
   "outputs": [],
   "source": [
    "def louvain(graph):\n",
    "    \"\"\"\n",
    "    Louvain's algorithm to detect communities in a given graph.\n",
    "    :param graph: networkx graph\n",
    "    :returns: graph of communities, a dictionary with hypernodes as keys and communities' id as values and \n",
    "              a dictionary with graph's nodes as keys and communities' id as values\n",
    "    \"\"\"\n",
    "    all_communities_hypernodes = []\n",
    "    all_communities_nodes = [{node: node for node in list(graph.nodes())}]\n",
    "    communities_id = set(graph.nodes())\n",
    "    passage_id = 0\n",
    "    while True: # passage\n",
    "        communities = louvain_passage(graph)\n",
    "        all_communities_hypernodes.append(communities)\n",
    "\n",
    "        # check if modif\n",
    "        if communities_id == set(communities.values()):\n",
    "            break\n",
    "        communities_id = set(communities.values())\n",
    "        \n",
    "        new_passage_communities = {node: all_communities_hypernodes[passage_id][all_communities_nodes[passage_id][node]] \n",
    "                                   for node in all_communities_nodes[passage_id].keys()}\n",
    "        all_communities_nodes.append(new_passage_communities)\n",
    "        \n",
    "        graph = louvain_create_hypernodes(graph, communities)\n",
    "        \n",
    "        passage_id += 1\n",
    "        print('Graph after passage', passage_id)\n",
    "        draw_graph(graph)\n",
    "        \n",
    "    \n",
    "    return graph, all_communities_hypernodes, all_communities_nodes[1:]"
   ]
  },
  {
   "cell_type": "markdown",
   "metadata": {},
   "source": [
    "### Clustering coefficient\n",
    "Implement the clustering coefficient for a graph."
   ]
  },
  {
   "cell_type": "code",
   "execution_count": 10,
   "metadata": {
    "ExecuteTime": {
     "end_time": "2020-04-02T17:52:51.582814Z",
     "start_time": "2020-04-02T17:52:51.575828Z"
    },
    "code_folding": [
     0
    ]
   },
   "outputs": [],
   "source": [
    "def average_clustering_coefficient(graph):\n",
    "    \"\"\"\n",
    "    Computes the average clustering coefficient for a given graph.\n",
    "    :param graph: networkx graph\n",
    "    :returns: the average clustering coefficient of the given graph\n",
    "    \"\"\"\n",
    "    return statistics.mean(clustering_coefficient(graph).values())"
   ]
  },
  {
   "cell_type": "code",
   "execution_count": 11,
   "metadata": {
    "ExecuteTime": {
     "end_time": "2020-04-02T17:52:51.593781Z",
     "start_time": "2020-04-02T17:52:51.584804Z"
    },
    "code_folding": [
     0
    ]
   },
   "outputs": [],
   "source": [
    "def clustering_coefficient(graph, top_k=None):\n",
    "    \"\"\"\n",
    "    Computes the clustering coefficient for each node in a given graph.\n",
    "    :param graph: networkx graph\n",
    "    :param top_k: top k nodes with highest clustering coefficient to return. If None returns all users.\n",
    "    :returns: dictionary with graph's nodes as keys and their clustering coefficient as values\n",
    "    \"\"\"\n",
    "    coeffs = {}\n",
    "    for v in graph.nodes(): # compute coeff for each node\n",
    "        neighbors = list(graph.neighbors(v))\n",
    "        \n",
    "        connected_pairs_neighbors = []\n",
    "        for n1 in neighbors: # for each neighbor n1 of node v\n",
    "            for n2 in graph.neighbors(n1): # for each neighbor n2 of neighbor n1 of node v\n",
    "                if n2 in neighbors: # if n2 is also a neighbor of node v: (n1,n2) is a connected pair of v's neighbors\n",
    "                    connected_pairs_neighbors.append((n1, n2))\n",
    "        # C(v) = #connected pairs of v's neighbors / #pairs of v's neighbors\n",
    "        nb_pairs_neighnbors = (len(neighbors) * (len(neighbors)-1))\n",
    "        coeffs[v] = len(connected_pairs_neighbors) / nb_pairs_neighnbors if nb_pairs_neighnbors > 0 else 0\n",
    "        \n",
    "    coeffs = {k: v \n",
    "              for k, v in sorted(coeffs.items(), \n",
    "                                 key=lambda item: item[1], \n",
    "                                 reverse=True)} # order by coeffs (values)\n",
    "    return dict(list(coeffs.items())[:top_k if top_k else -1])"
   ]
  },
  {
   "cell_type": "code",
   "execution_count": 12,
   "metadata": {
    "ExecuteTime": {
     "end_time": "2020-04-02T17:52:51.612729Z",
     "start_time": "2020-04-02T17:52:51.595775Z"
    },
    "code_folding": [
     0
    ]
   },
   "outputs": [],
   "source": [
    "def plot_clustering_coefficients_distribution(coeffs, coeffs_slices_width=5):\n",
    "    \"\"\"\n",
    "    Plots the clustering coefficients distribution.\n",
    "    :param coeffs: dictionary with graph's nodes as keys and their clustering coefficient as values\n",
    "    :param coeffs_slices_width: width of a distribution slice (integer between 0 and 100)\n",
    "    \"\"\"\n",
    "    if 100 % coeffs_slices_width != 0 or coeffs_slices_width < 0 or coeffs_slices_width > 100:\n",
    "        coeffs_slices_width = 5\n",
    "        print('Given width of a distribution slice is invalid. Using default value: 5%.')\n",
    "    nodes_per_clustering_coeffs = {i: \n",
    "                                   len([node for node, coeff in coeffs.items()\n",
    "                                    if coeff*100 >= i and coeff*100 < i+coeffs_slices_width]) \n",
    "                                   for i in range(0, 100, coeffs_slices_width)}\n",
    "    fig = plt.figure(figsize=(14, 6), dpi= 80)\n",
    "    ax = fig.add_axes([0,0,1,1])\n",
    "    ax.set_title('Clustering coefficients distribution')\n",
    "    ax.set_xlabel('Clustering coefficients in percentage')\n",
    "    ax.set_ylabel('Frequency')\n",
    "    ax.bar(list(nodes_per_clustering_coeffs.keys()), list(nodes_per_clustering_coeffs.values()), width=coeffs_slices_width, alpha=0.5, align='edge')\n",
    "    plt.show()"
   ]
  },
  {
   "cell_type": "markdown",
   "metadata": {},
   "source": [
    "### Random walk"
   ]
  },
  {
   "cell_type": "code",
   "execution_count": 13,
   "metadata": {
    "ExecuteTime": {
     "end_time": "2020-04-02T17:52:51.621705Z",
     "start_time": "2020-04-02T17:52:51.615721Z"
    },
    "code_folding": [
     0
    ]
   },
   "outputs": [],
   "source": [
    "def percentage_visited_communities(visited_nodes, communities):\n",
    "    \"\"\"\n",
    "    Computes the percentages of visited communities from the given list of visited nodes.\n",
    "    :param visited_nodes: list of visited nodes\n",
    "    :param communities: dictionary with nodes as keys and communities as values\n",
    "    :returns: percentage of visited communities\n",
    "    \"\"\"\n",
    "    return len(set(communities[node] for node in visited_nodes)) / len(set(communities.values())) * 100"
   ]
  },
  {
   "cell_type": "code",
   "execution_count": 14,
   "metadata": {
    "ExecuteTime": {
     "end_time": "2020-04-02T17:52:51.630681Z",
     "start_time": "2020-04-02T17:52:51.623700Z"
    },
    "code_folding": [
     0
    ]
   },
   "outputs": [],
   "source": [
    "def random_walk(graph, starting_node, steps, random_walk_strategy):\n",
    "    \"\"\"\n",
    "    Visits a graph with a given random walk strategy.\n",
    "    :param graph: networkx graph\n",
    "    :param starting_node: node of the given graph which serves as the starting point of the random walk\n",
    "    :param steps: number of steps to perform\n",
    "    :param random_walk_strategy: function receiving a graph and a node and returning a node's neighbor to visit\n",
    "    :returns: list of nodes in their order of visit\n",
    "    \"\"\"\n",
    "    path = [starting_node]\n",
    "    node = path[0]\n",
    "    for _ in range(steps):\n",
    "        node = random_walk_strategy(graph, node)\n",
    "        path.append(node)\n",
    "    return path"
   ]
  },
  {
   "cell_type": "code",
   "execution_count": 15,
   "metadata": {
    "ExecuteTime": {
     "end_time": "2020-04-02T17:52:51.639657Z",
     "start_time": "2020-04-02T17:52:51.632675Z"
    },
    "code_folding": [
     0
    ]
   },
   "outputs": [],
   "source": [
    "def rw_strategy_degree(graph, node):\n",
    "    \"\"\"\n",
    "    Random walk strategy - the degree of a neighbor influences the probability to move to this neighbor.\n",
    "    :param graph: networkx graph\n",
    "    :param node: node of the given graph from which we search a neighbor to move to\n",
    "    :returns: node's neighbor to move to\n",
    "    \"\"\"\n",
    "    neighbors = list(graph.neighbors(node))\n",
    "    probs = [graph.degree(neighbor) for neighbor in neighbors]\n",
    "    probs = [p/sum(probs) for p in probs]\n",
    "    return choices(list(neighbors), probs)[0]"
   ]
  },
  {
   "cell_type": "code",
   "execution_count": 16,
   "metadata": {
    "ExecuteTime": {
     "end_time": "2020-04-02T17:52:51.647636Z",
     "start_time": "2020-04-02T17:52:51.641651Z"
    },
    "code_folding": [
     0
    ]
   },
   "outputs": [],
   "source": [
    "def rw_strategy_random(graph, node):\n",
    "    \"\"\"\n",
    "    Random walk strategy - completely random.\n",
    "    :param graph: networkx graph\n",
    "    :param node: node of the given graph from which we search a neighbor to move to\n",
    "    :returns: node's neighbor to move to\n",
    "    \"\"\"\n",
    "    neighbors = list(graph.neighbors(node))\n",
    "    rdm_idx = randrange(len(neighbors)-1)\n",
    "    return neighbors[rdm_idx]"
   ]
  },
  {
   "cell_type": "code",
   "execution_count": 17,
   "metadata": {
    "ExecuteTime": {
     "end_time": "2020-04-02T17:52:51.660602Z",
     "start_time": "2020-04-02T17:52:51.649631Z"
    },
    "code_folding": [
     0
    ]
   },
   "outputs": [],
   "source": [
    "def rw_strategy_connected_neighbors(graph, node):\n",
    "    \"\"\"\n",
    "    Random walk strategy - the inverse number of connected neighbors influences the probability to move to this neighbor.\n",
    "    :param graph: networkx graph\n",
    "    :param node: node of the given graph from which we search a neighbor to move to\n",
    "    :returns: node's neighbor to move to\n",
    "    \"\"\"\n",
    "    neighbors = list(graph.neighbors(node))\n",
    "    probs = [len([neighbor_of_neighbor \n",
    "                  for neighbor_of_neighbor in list(graph.neighbors(neighbor)) \n",
    "                  if neighbor_of_neighbor in neighbors]) \n",
    "             for neighbor in neighbors]\n",
    "    probs = [sum(probs)-p for p in probs]\n",
    "    probs = [p/sum(probs) if sum(probs) > 0 else 1/len(probs) for p in probs]\n",
    "    return choices(list(neighbors), probs)[0]"
   ]
  },
  {
   "cell_type": "markdown",
   "metadata": {},
   "source": [
    "### Visualization tools"
   ]
  },
  {
   "cell_type": "code",
   "execution_count": 18,
   "metadata": {
    "ExecuteTime": {
     "end_time": "2020-04-02T17:52:51.671572Z",
     "start_time": "2020-04-02T17:52:51.662595Z"
    },
    "code_folding": [
     0
    ]
   },
   "outputs": [],
   "source": [
    "def draw_graph(graph, pos=None):\n",
    "    \"\"\"\n",
    "    Plots a given graph.\n",
    "    :param graph: networkx graph\n",
    "    :param pos: dictionary with nodes as keys and positions as values\n",
    "    \"\"\"\n",
    "    #print(graph.edges.data())\n",
    "    \n",
    "    if pos is None:\n",
    "        pos = nx.spring_layout(graph)\n",
    "    \n",
    "    options = {\n",
    "        'node_color': (0,0,1,.6),\n",
    "        'node_size': 30,\n",
    "        'line_color': (.8,.8,.8,1),\n",
    "        'linewidths': 0,\n",
    "        'width': .1,\n",
    "        'with_labels': 'True',\n",
    "    }\n",
    "    nx.draw_networkx(graph, pos, **options)\n",
    "    plt.show()"
   ]
  },
  {
   "cell_type": "code",
   "execution_count": 19,
   "metadata": {
    "ExecuteTime": {
     "end_time": "2020-04-02T17:52:51.681545Z",
     "start_time": "2020-04-02T17:52:51.674564Z"
    },
    "code_folding": [
     0
    ]
   },
   "outputs": [],
   "source": [
    "def draw_graph_with_communities(graph, communities, pos=None):\n",
    "    \"\"\"\n",
    "    Plots a given graph and colors the nodes belonging to communities.\n",
    "    :param graph: networkx graph\n",
    "    :param communities: dictionary with nodes as keys and their community id as values\n",
    "    :param pos: dictionary with nodes as keys and positions as values\n",
    "    \"\"\"\n",
    "    options = {\n",
    "        'node_size': 30,\n",
    "        'linewidths': 0,\n",
    "        'width': .1,\n",
    "    }\n",
    "    communities_values = set(communities.values())\n",
    "    communities_ids = {community: i for i, community in enumerate(communities_values)}\n",
    "    nodes_community = [communities_ids[community] for community in communities.values()]\n",
    "    nx.draw(graph, pos, cmap=plt.get_cmap('gist_rainbow'), node_color=nodes_community, **options)\n",
    "    plt.show()"
   ]
  },
  {
   "cell_type": "code",
   "execution_count": 20,
   "metadata": {
    "ExecuteTime": {
     "end_time": "2020-04-02T17:52:51.693520Z",
     "start_time": "2020-04-02T17:52:51.683540Z"
    },
    "code_folding": [
     0
    ]
   },
   "outputs": [],
   "source": [
    "def draw_graph_with_path(graph, path, pos=None):\n",
    "    \"\"\"\n",
    "    Plots a given graph and highlights the given path.\n",
    "    :param graph: networkx graph\n",
    "    :param path: list of nodes belonging to a path to highlight\n",
    "    :param pos: dictionary with nodes as keys and positions as values\n",
    "    \"\"\"\n",
    "    edges_path = [(path[i], path[i+1]) for i in range(len(path)-1)]\n",
    "    \n",
    "    if pos is None:\n",
    "        pos = nx.spring_layout(graph)\n",
    "        \n",
    "    options = {\n",
    "        'node_size': 30,\n",
    "        'linewidths': 0,\n",
    "        'width': .1,\n",
    "    }\n",
    "    nx.draw(graph, pos=pos, **options)\n",
    "    nx.draw_networkx_nodes(graph, pos, nodelist=path[1:], node_color='r', **options)\n",
    "    nx.draw_networkx_nodes(graph, pos, nodelist=[path[0]], node_color='g', **options)\n",
    "    nx.draw_networkx_edges(graph, pos, edgelist=edges_path, width=2.0, edge_color='r')\n",
    "    plt.show()"
   ]
  },
  {
   "cell_type": "markdown",
   "metadata": {},
   "source": [
    "## Analysis"
   ]
  },
  {
   "cell_type": "markdown",
   "metadata": {},
   "source": [
    "### Identify users’ communities in the Facebook network using Louvain"
   ]
  },
  {
   "cell_type": "code",
   "execution_count": 21,
   "metadata": {
    "ExecuteTime": {
     "end_time": "2020-04-02T17:52:52.253018Z",
     "start_time": "2020-04-02T17:52:51.695507Z"
    },
    "scrolled": true
   },
   "outputs": [
    {
     "name": "stderr",
     "output_type": "stream",
     "text": [
      "100%|███████████████████████████████████████████████████████████████████████████████| 16/16 [00:00<00:00, 16047.07it/s]\n",
      "100%|███████████████████████████████████████████████████████████████████████████████| 16/16 [00:00<00:00, 16031.74it/s]\n",
      "100%|████████████████████████████████████████████████████████████████████████████████| 16/16 [00:00<00:00, 8033.14it/s]\n",
      "100%|███████████████████████████████████████████████████████████████████████████████| 16/16 [00:00<00:00, 16066.28it/s]\n"
     ]
    },
    {
     "name": "stdout",
     "output_type": "stream",
     "text": [
      "Graph after passage 1\n"
     ]
    },
    {
     "data": {
      "image/png": "[encoded data removed]",
      "text/plain": [
       "<Figure size 432x288 with 1 Axes>"
      ]
     },
     "metadata": {},
     "output_type": "display_data"
    },
    {
     "name": "stderr",
     "output_type": "stream",
     "text": [
      "100%|██████████████████████████████████████████████████████████████████████████████████| 4/4 [00:00<00:00, 4012.73it/s]\n",
      "100%|██████████████████████████████████████████████████████████████████████████████████| 4/4 [00:00<00:00, 4011.77it/s]\n",
      "'c' argument looks like a single numeric RGB or RGBA sequence, which should be avoided as value-mapping will have precedence in case its length matches with 'x' & 'y'.  Please use a 2-D array with a single row if you really want to specify the same RGB or RGBA value for all points.\n"
     ]
    },
    {
     "name": "stdout",
     "output_type": "stream",
     "text": [
      "Graph after passage 2\n"
     ]
    },
    {
     "data": {
      "image/png": "[encoded data removed]",
      "text/plain": [
       "<Figure size 432x288 with 1 Axes>"
      ]
     },
     "metadata": {},
     "output_type": "display_data"
    },
    {
     "name": "stderr",
     "output_type": "stream",
     "text": [
      "100%|████████████████████████████████████████████████████████████████████████████████████████████| 2/2 [00:00<?, ?it/s]\n",
      "100%|████████████████████████████████████████████████████████████████████████████████████████████| 2/2 [00:00<?, ?it/s]\n"
     ]
    }
   ],
   "source": [
    "new_graph, communities_hypernodes, communities_nodes = louvain(graph)"
   ]
  },
  {
   "cell_type": "code",
   "execution_count": 22,
   "metadata": {
    "ExecuteTime": {
     "end_time": "2020-04-02T17:52:52.260994Z",
     "start_time": "2020-04-02T17:52:52.255011Z"
    },
    "scrolled": true
   },
   "outputs": [
    {
     "name": "stdout",
     "output_type": "stream",
     "text": [
      "We found 2 communities.\n"
     ]
    }
   ],
   "source": [
    "print(f'We found {len(set(communities_nodes[-1].values()))} communities.')"
   ]
  },
  {
   "cell_type": "code",
   "execution_count": 23,
   "metadata": {
    "ExecuteTime": {
     "end_time": "2020-04-02T17:52:52.281943Z",
     "start_time": "2020-04-02T17:52:52.266978Z"
    },
    "code_folding": [],
    "scrolled": true
   },
   "outputs": [
    {
     "name": "stdout",
     "output_type": "stream",
     "text": [
      "There are 2 communities according to python-louvain.\n"
     ]
    }
   ],
   "source": [
    "import community\n",
    "louvain_communities = community.best_partition(graph)\n",
    "nb_louvain_communities = len(set(louvain_communities.values()))\n",
    "louvain_communities = {k: v for k, v in sorted(louvain_communities.items(), key=lambda item: item[0])} # sort by key (node id)\n",
    "print(f'There are {nb_louvain_communities} communities according to python-louvain.')"
   ]
  },
  {
   "cell_type": "markdown",
   "metadata": {},
   "source": [
    "### Compute the clustering coefficients & plot their distribution"
   ]
  },
  {
   "cell_type": "code",
   "execution_count": 24,
   "metadata": {
    "ExecuteTime": {
     "end_time": "2020-04-02T17:52:52.517309Z",
     "start_time": "2020-04-02T17:52:52.286925Z"
    },
    "code_folding": []
   },
   "outputs": [
    {
     "data": {
      "image/png": "[encoded data removed]",
      "text/plain": [
       "<Figure size 1120x480 with 1 Axes>"
      ]
     },
     "metadata": {
      "needs_background": "light"
     },
     "output_type": "display_data"
    },
    {
     "name": "stdout",
     "output_type": "stream",
     "text": [
      "Average clustering coefficient: 0.2777777777777778\n",
      "Top k=3 users with highest clustering coefficients: {'13': 1.0, '14': 0.6666666666666666, '0': 0.3333333333333333}\n"
     ]
    }
   ],
   "source": [
    "plot_clustering_coefficients_distribution(clustering_coefficient(graph))\n",
    "\n",
    "print('Average clustering coefficient:', average_clustering_coefficient(graph))\n",
    "print('Top k=3 users with highest clustering coefficients:', clustering_coefficient(graph, top_k=3))"
   ]
  },
  {
   "cell_type": "code",
   "execution_count": 25,
   "metadata": {
    "ExecuteTime": {
     "end_time": "2020-04-02T17:52:52.525289Z",
     "start_time": "2020-04-02T17:52:52.519305Z"
    },
    "scrolled": false
   },
   "outputs": [
    {
     "name": "stdout",
     "output_type": "stream",
     "text": [
      "Average clustering coefficient according to Networkx: 0.26041666666666663\n"
     ]
    }
   ],
   "source": [
    "print('Average clustering coefficient according to Networkx:', nx.average_clustering(graph))\n",
    "#nx.clustering(graph)"
   ]
  },
  {
   "cell_type": "markdown",
   "metadata": {},
   "source": [
    "### Evaluate different random walk strategies to spread a message across the network"
   ]
  },
  {
   "cell_type": "code",
   "execution_count": 26,
   "metadata": {
    "ExecuteTime": {
     "end_time": "2020-04-02T17:52:52.543239Z",
     "start_time": "2020-04-02T17:52:52.528279Z"
    },
    "code_folding": []
   },
   "outputs": [
    {
     "name": "stdout",
     "output_type": "stream",
     "text": [
      "Percentage of visited communities with full random rw strategy and 10 steps: 50.0 %\n",
      "Percentage of visited communities with the degree based rw strategy and 10 steps: 100.0 %\n",
      "Percentage of visited communities with the connected neighbors rw strategy and 10 steps: 100.0 %\n"
     ]
    }
   ],
   "source": [
    "starting_node = list(graph.nodes())[0]\n",
    "steps = 10\n",
    "\n",
    "rw_result_strategy_random = random_walk(graph, starting_node, steps, rw_strategy_random)\n",
    "rw_result_strategy_degree = random_walk(graph, starting_node, steps, rw_strategy_degree)\n",
    "rw_result_stategy_connected_neighbors = random_walk(graph, starting_node, steps, rw_strategy_connected_neighbors)\n",
    "\n",
    "print('Percentage of visited communities with full random rw strategy and 10 steps:', percentage_visited_communities(rw_result_strategy_random, communities_nodes[-1]), '%')\n",
    "print('Percentage of visited communities with the degree based rw strategy and 10 steps:', percentage_visited_communities(rw_result_strategy_degree, communities_nodes[-1]), '%')\n",
    "print('Percentage of visited communities with the connected neighbors rw strategy and 10 steps:', percentage_visited_communities(rw_result_stategy_connected_neighbors, communities_nodes[-1]), '%')"
   ]
  },
  {
   "cell_type": "code",
   "execution_count": 27,
   "metadata": {
    "ExecuteTime": {
     "end_time": "2020-04-02T17:52:52.566178Z",
     "start_time": "2020-04-02T17:52:52.546230Z"
    }
   },
   "outputs": [
    {
     "name": "stdout",
     "output_type": "stream",
     "text": [
      "                        Strategy  # Steps  Average percentage of visited communities\n",
      "              rw_strategy_random        3  50.00\n",
      "              rw_strategy_degree        3  66.67\n",
      " rw_strategy_connected_neighbors        3  50.00\n",
      "              rw_strategy_random        5  50.00\n",
      "              rw_strategy_degree        5  50.00\n",
      " rw_strategy_connected_neighbors        5  66.67\n",
      "              rw_strategy_random        7  50.00\n",
      "              rw_strategy_degree        7  83.33\n",
      " rw_strategy_connected_neighbors        7  50.00\n",
      "              rw_strategy_random        9  66.67\n",
      "              rw_strategy_degree        9  83.33\n",
      " rw_strategy_connected_neighbors        9  100.00\n",
      "              rw_strategy_random       11  50.00\n",
      "              rw_strategy_degree       11  83.33\n",
      " rw_strategy_connected_neighbors       11  66.67\n"
     ]
    }
   ],
   "source": [
    "print('%32s  %6s  %5s' % ('Strategy', '# Steps', 'Average percentage of visited communities'))\n",
    "for steps in range(3,13,2):\n",
    "    for strategy in [rw_strategy_random, rw_strategy_degree, rw_strategy_connected_neighbors]:\n",
    "        print('%32s  %7i  %5.2f' % (strategy.__name__, steps, statistics.mean([percentage_visited_communities(random_walk(graph, starting_node, steps, strategy), communities_nodes[-1]) for _ in range(3)])))"
   ]
  },
  {
   "cell_type": "markdown",
   "metadata": {},
   "source": [
    "## Visualization"
   ]
  },
  {
   "cell_type": "markdown",
   "metadata": {},
   "source": [
    "### Visualize the output of Louvain by coloring the nodes according to their assigned Communities"
   ]
  },
  {
   "cell_type": "code",
   "execution_count": 28,
   "metadata": {
    "ExecuteTime": {
     "end_time": "2020-04-02T17:52:52.758662Z",
     "start_time": "2020-04-02T17:52:52.568173Z"
    },
    "scrolled": false
   },
   "outputs": [
    {
     "data": {
      "image/png": "[encoded data removed]",
      "text/plain": [
       "<Figure size 432x288 with 1 Axes>"
      ]
     },
     "metadata": {},
     "output_type": "display_data"
    }
   ],
   "source": [
    "pos = nx.spring_layout(graph)\n",
    "draw_graph_with_communities(graph, communities_nodes[-1], pos)"
   ]
  },
  {
   "cell_type": "markdown",
   "metadata": {},
   "source": [
    "### Visualize the output of applying Random Walk algorithm, by highlighting the sequence of nodes selected in a path"
   ]
  },
  {
   "cell_type": "code",
   "execution_count": 29,
   "metadata": {
    "ExecuteTime": {
     "end_time": "2020-04-02T17:52:52.820497Z",
     "start_time": "2020-04-02T17:52:52.760658Z"
    }
   },
   "outputs": [
    {
     "data": {
      "application/javascript": [
       "/* Put everything inside the global mpl namespace */\n",
       "window.mpl = {};\n",
       "\n",
       "\n",
       "mpl.get_websocket_type = function() {\n",
       "    if (typeof(WebSocket) !== 'undefined') {\n",
       "        return WebSocket;\n",
       "    } else if (typeof(MozWebSocket) !== 'undefined') {\n",
       "        return MozWebSocket;\n",
       "    } else {\n",
       "        alert('Your browser does not have WebSocket support. ' +\n",
       "              'Please try Chrome, Safari or Firefox ≥ 6. ' +\n",
       "              'Firefox 4 and 5 are also supported but you ' +\n",
       "              'have to enable WebSockets in about:config.');\n",
       "    };\n",
       "}\n",
       "\n",
       "mpl.figure = function(figure_id, websocket, ondownload, parent_element) {\n",
       "    this.id = figure_id;\n",
       "\n",
       "    this.ws = websocket;\n",
       "\n",
       "    this.supports_binary = (this.ws.binaryType != undefined);\n",
       "\n",
       "    if (!this.supports_binary) {\n",
       "        var warnings = document.getElementById(\"mpl-warnings\");\n",
       "        if (warnings) {\n",
       "            warnings.style.display = 'block';\n",
       "            warnings.textContent = (\n",
       "                \"This browser does not support binary websocket messages. \" +\n",
       "                    \"Performance may be slow.\");\n",
       "        }\n",
       "    }\n",
       "\n",
       "    this.imageObj = new Image();\n",
       "\n",
       "    this.context = undefined;\n",
       "    this.message = undefined;\n",
       "    this.canvas = undefined;\n",
       "    this.rubberband_canvas = undefined;\n",
       "    this.rubberband_context = undefined;\n",
       "    this.format_dropdown = undefined;\n",
       "\n",
       "    this.image_mode = 'full';\n",
       "\n",
       "    this.root = $('<div/>');\n",
       "    this._root_extra_style(this.root)\n",
       "    this.root.attr('style', 'display: inline-block');\n",
       "\n",
       "    $(parent_element).append(this.root);\n",
       "\n",
       "    this._init_header(this);\n",
       "    this._init_canvas(this);\n",
       "    this._init_toolbar(this);\n",
       "\n",
       "    var fig = this;\n",
       "\n",
       "    this.waiting = false;\n",
       "\n",
       "    this.ws.onopen =  function () {\n",
       "            fig.send_message(\"supports_binary\", {value: fig.supports_binary});\n",
       "            fig.send_message(\"send_image_mode\", {});\n",
       "            if (mpl.ratio != 1) {\n",
       "                fig.send_message(\"set_dpi_ratio\", {'dpi_ratio': mpl.ratio});\n",
       "            }\n",
       "            fig.send_message(\"refresh\", {});\n",
       "        }\n",
       "\n",
       "    this.imageObj.onload = function() {\n",
       "            if (fig.image_mode == 'full') {\n",
       "                // Full images could contain transparency (where diff images\n",
       "                // almost always do), so we need to clear the canvas so that\n",
       "                // there is no ghosting.\n",
       "                fig.context.clearRect(0, 0, fig.canvas.width, fig.canvas.height);\n",
       "            }\n",
       "            fig.context.drawImage(fig.imageObj, 0, 0);\n",
       "        };\n",
       "\n",
       "    this.imageObj.onunload = function() {\n",
       "        fig.ws.close();\n",
       "    }\n",
       "\n",
       "    this.ws.onmessage = this._make_on_message_function(this);\n",
       "\n",
       "    this.ondownload = ondownload;\n",
       "}\n",
       "\n",
       "mpl.figure.prototype._init_header = function() {\n",
       "    var titlebar = $(\n",
       "        '<div class=\"ui-dialog-titlebar ui-widget-header ui-corner-all ' +\n",
       "        'ui-helper-clearfix\"/>');\n",
       "    var titletext = $(\n",
       "        '<div class=\"ui-dialog-title\" style=\"width: 100%; ' +\n",
       "        'text-align: center; padding: 3px;\"/>');\n",
       "    titlebar.append(titletext)\n",
       "    this.root.append(titlebar);\n",
       "    this.header = titletext[0];\n",
       "}\n",
       "\n",
       "\n",
       "\n",
       "mpl.figure.prototype._canvas_extra_style = function(canvas_div) {\n",
       "\n",
       "}\n",
       "\n",
       "\n",
       "mpl.figure.prototype._root_extra_style = function(canvas_div) {\n",
       "\n",
       "}\n",
       "\n",
       "mpl.figure.prototype._init_canvas = function() {\n",
       "    var fig = this;\n",
       "\n",
       "    var canvas_div = $('<div/>');\n",
       "\n",
       "    canvas_div.attr('style', 'position: relative; clear: both; outline: 0');\n",
       "\n",
       "    function canvas_keyboard_event(event) {\n",
       "        return fig.key_event(event, event['data']);\n",
       "    }\n",
       "\n",
       "    canvas_div.keydown('key_press', canvas_keyboard_event);\n",
       "    canvas_div.keyup('key_release', canvas_keyboard_event);\n",
       "    this.canvas_div = canvas_div\n",
       "    this._canvas_extra_style(canvas_div)\n",
       "    this.root.append(canvas_div);\n",
       "\n",
       "    var canvas = $('<canvas/>');\n",
       "    canvas.addClass('mpl-canvas');\n",
       "    canvas.attr('style', \"left: 0; top: 0; z-index: 0; outline: 0\")\n",
       "\n",
       "    this.canvas = canvas[0];\n",
       "    this.context = canvas[0].getContext(\"2d\");\n",
       "\n",
       "    var backingStore = this.context.backingStorePixelRatio ||\n",
       "\tthis.context.webkitBackingStorePixelRatio ||\n",
       "\tthis.context.mozBackingStorePixelRatio ||\n",
       "\tthis.context.msBackingStorePixelRatio ||\n",
       "\tthis.context.oBackingStorePixelRatio ||\n",
       "\tthis.context.backingStorePixelRatio || 1;\n",
       "\n",
       "    mpl.ratio = (window.devicePixelRatio || 1) / backingStore;\n",
       "\n",
       "    var rubberband = $('<canvas/>');\n",
       "    rubberband.attr('style', \"position: absolute; left: 0; top: 0; z-index: 1;\")\n",
       "\n",
       "    var pass_mouse_events = true;\n",
       "\n",
       "    canvas_div.resizable({\n",
       "        start: function(event, ui) {\n",
       "            pass_mouse_events = false;\n",
       "        },\n",
       "        resize: function(event, ui) {\n",
       "            fig.request_resize(ui.size.width, ui.size.height);\n",
       "        },\n",
       "        stop: function(event, ui) {\n",
       "            pass_mouse_events = true;\n",
       "            fig.request_resize(ui.size.width, ui.size.height);\n",
       "        },\n",
       "    });\n",
       "\n",
       "    function mouse_event_fn(event) {\n",
       "        if (pass_mouse_events)\n",
       "            return fig.mouse_event(event, event['data']);\n",
       "    }\n",
       "\n",
       "    rubberband.mousedown('button_press', mouse_event_fn);\n",
       "    rubberband.mouseup('button_release', mouse_event_fn);\n",
       "    // Throttle sequential mouse events to 1 every 20ms.\n",
       "    rubberband.mousemove('motion_notify', mouse_event_fn);\n",
       "\n",
       "    rubberband.mouseenter('figure_enter', mouse_event_fn);\n",
       "    rubberband.mouseleave('figure_leave', mouse_event_fn);\n",
       "\n",
       "    canvas_div.on(\"wheel\", function (event) {\n",
       "        event = event.originalEvent;\n",
       "        event['data'] = 'scroll'\n",
       "        if (event.deltaY < 0) {\n",
       "            event.step = 1;\n",
       "        } else {\n",
       "            event.step = -1;\n",
       "        }\n",
       "        mouse_event_fn(event);\n",
       "    });\n",
       "\n",
       "    canvas_div.append(canvas);\n",
       "    canvas_div.append(rubberband);\n",
       "\n",
       "    this.rubberband = rubberband;\n",
       "    this.rubberband_canvas = rubberband[0];\n",
       "    this.rubberband_context = rubberband[0].getContext(\"2d\");\n",
       "    this.rubberband_context.strokeStyle = \"#000000\";\n",
       "\n",
       "    this._resize_canvas = function(width, height) {\n",
       "        // Keep the size of the canvas, canvas container, and rubber band\n",
       "        // canvas in synch.\n",
       "        canvas_div.css('width', width)\n",
       "        canvas_div.css('height', height)\n",
       "\n",
       "        canvas.attr('width', width * mpl.ratio);\n",
       "        canvas.attr('height', height * mpl.ratio);\n",
       "        canvas.attr('style', 'width: ' + width + 'px; height: ' + height + 'px;');\n",
       "\n",
       "        rubberband.attr('width', width);\n",
       "        rubberband.attr('height', height);\n",
       "    }\n",
       "\n",
       "    // Set the figure to an initial 600x600px, this will subsequently be updated\n",
       "    // upon first draw.\n",
       "    this._resize_canvas(600, 600);\n",
       "\n",
       "    // Disable right mouse context menu.\n",
       "    $(this.rubberband_canvas).bind(\"contextmenu\",function(e){\n",
       "        return false;\n",
       "    });\n",
       "\n",
       "    function set_focus () {\n",
       "        canvas.focus();\n",
       "        canvas_div.focus();\n",
       "    }\n",
       "\n",
       "    window.setTimeout(set_focus, 100);\n",
       "}\n",
       "\n",
       "mpl.figure.prototype._init_toolbar = function() {\n",
       "    var fig = this;\n",
       "\n",
       "    var nav_element = $('<div/>');\n",
       "    nav_element.attr('style', 'width: 100%');\n",
       "    this.root.append(nav_element);\n",
       "\n",
       "    // Define a callback function for later on.\n",
       "    function toolbar_event(event) {\n",
       "        return fig.toolbar_button_onclick(event['data']);\n",
       "    }\n",
       "    function toolbar_mouse_event(event) {\n",
       "        return fig.toolbar_button_onmouseover(event['data']);\n",
       "    }\n",
       "\n",
       "    for(var toolbar_ind in mpl.toolbar_items) {\n",
       "        var name = mpl.toolbar_items[toolbar_ind][0];\n",
       "        var tooltip = mpl.toolbar_items[toolbar_ind][1];\n",
       "        var image = mpl.toolbar_items[toolbar_ind][2];\n",
       "        var method_name = mpl.toolbar_items[toolbar_ind][3];\n",
       "\n",
       "        if (!name) {\n",
       "            // put a spacer in here.\n",
       "            continue;\n",
       "        }\n",
       "        var button = $('<button/>');\n",
       "        button.addClass('ui-button ui-widget ui-state-default ui-corner-all ' +\n",
       "                        'ui-button-icon-only');\n",
       "        button.attr('role', 'button');\n",
       "        button.attr('aria-disabled', 'false');\n",
       "        button.click(method_name, toolbar_event);\n",
       "        button.mouseover(tooltip, toolbar_mouse_event);\n",
       "\n",
       "        var icon_img = $('<span/>');\n",
       "        icon_img.addClass('ui-button-icon-primary ui-icon');\n",
       "        icon_img.addClass(image);\n",
       "        icon_img.addClass('ui-corner-all');\n",
       "\n",
       "        var tooltip_span = $('<span/>');\n",
       "        tooltip_span.addClass('ui-button-text');\n",
       "        tooltip_span.html(tooltip);\n",
       "\n",
       "        button.append(icon_img);\n",
       "        button.append(tooltip_span);\n",
       "\n",
       "        nav_element.append(button);\n",
       "    }\n",
       "\n",
       "    var fmt_picker_span = $('<span/>');\n",
       "\n",
       "    var fmt_picker = $('<select/>');\n",
       "    fmt_picker.addClass('mpl-toolbar-option ui-widget ui-widget-content');\n",
       "    fmt_picker_span.append(fmt_picker);\n",
       "    nav_element.append(fmt_picker_span);\n",
       "    this.format_dropdown = fmt_picker[0];\n",
       "\n",
       "    for (var ind in mpl.extensions) {\n",
       "        var fmt = mpl.extensions[ind];\n",
       "        var option = $(\n",
       "            '<option/>', {selected: fmt === mpl.default_extension}).html(fmt);\n",
       "        fmt_picker.append(option);\n",
       "    }\n",
       "\n",
       "    // Add hover states to the ui-buttons\n",
       "    $( \".ui-button\" ).hover(\n",
       "        function() { $(this).addClass(\"ui-state-hover\");},\n",
       "        function() { $(this).removeClass(\"ui-state-hover\");}\n",
       "    );\n",
       "\n",
       "    var status_bar = $('<span class=\"mpl-message\"/>');\n",
       "    nav_element.append(status_bar);\n",
       "    this.message = status_bar[0];\n",
       "}\n",
       "\n",
       "mpl.figure.prototype.request_resize = function(x_pixels, y_pixels) {\n",
       "    // Request matplotlib to resize the figure. Matplotlib will then trigger a resize in the client,\n",
       "    // which will in turn request a refresh of the image.\n",
       "    this.send_message('resize', {'width': x_pixels, 'height': y_pixels});\n",
       "}\n",
       "\n",
       "mpl.figure.prototype.send_message = function(type, properties) {\n",
       "    properties['type'] = type;\n",
       "    properties['figure_id'] = this.id;\n",
       "    this.ws.send(JSON.stringify(properties));\n",
       "}\n",
       "\n",
       "mpl.figure.prototype.send_draw_message = function() {\n",
       "    if (!this.waiting) {\n",
       "        this.waiting = true;\n",
       "        this.ws.send(JSON.stringify({type: \"draw\", figure_id: this.id}));\n",
       "    }\n",
       "}\n",
       "\n",
       "\n",
       "mpl.figure.prototype.handle_save = function(fig, msg) {\n",
       "    var format_dropdown = fig.format_dropdown;\n",
       "    var format = format_dropdown.options[format_dropdown.selectedIndex].value;\n",
       "    fig.ondownload(fig, format);\n",
       "}\n",
       "\n",
       "\n",
       "mpl.figure.prototype.handle_resize = function(fig, msg) {\n",
       "    var size = msg['size'];\n",
       "    if (size[0] != fig.canvas.width || size[1] != fig.canvas.height) {\n",
       "        fig._resize_canvas(size[0], size[1]);\n",
       "        fig.send_message(\"refresh\", {});\n",
       "    };\n",
       "}\n",
       "\n",
       "mpl.figure.prototype.handle_rubberband = function(fig, msg) {\n",
       "    var x0 = msg['x0'] / mpl.ratio;\n",
       "    var y0 = (fig.canvas.height - msg['y0']) / mpl.ratio;\n",
       "    var x1 = msg['x1'] / mpl.ratio;\n",
       "    var y1 = (fig.canvas.height - msg['y1']) / mpl.ratio;\n",
       "    x0 = Math.floor(x0) + 0.5;\n",
       "    y0 = Math.floor(y0) + 0.5;\n",
       "    x1 = Math.floor(x1) + 0.5;\n",
       "    y1 = Math.floor(y1) + 0.5;\n",
       "    var min_x = Math.min(x0, x1);\n",
       "    var min_y = Math.min(y0, y1);\n",
       "    var width = Math.abs(x1 - x0);\n",
       "    var height = Math.abs(y1 - y0);\n",
       "\n",
       "    fig.rubberband_context.clearRect(\n",
       "        0, 0, fig.canvas.width / mpl.ratio, fig.canvas.height / mpl.ratio);\n",
       "\n",
       "    fig.rubberband_context.strokeRect(min_x, min_y, width, height);\n",
       "}\n",
       "\n",
       "mpl.figure.prototype.handle_figure_label = function(fig, msg) {\n",
       "    // Updates the figure title.\n",
       "    fig.header.textContent = msg['label'];\n",
       "}\n",
       "\n",
       "mpl.figure.prototype.handle_cursor = function(fig, msg) {\n",
       "    var cursor = msg['cursor'];\n",
       "    switch(cursor)\n",
       "    {\n",
       "    case 0:\n",
       "        cursor = 'pointer';\n",
       "        break;\n",
       "    case 1:\n",
       "        cursor = 'default';\n",
       "        break;\n",
       "    case 2:\n",
       "        cursor = 'crosshair';\n",
       "        break;\n",
       "    case 3:\n",
       "        cursor = 'move';\n",
       "        break;\n",
       "    }\n",
       "    fig.rubberband_canvas.style.cursor = cursor;\n",
       "}\n",
       "\n",
       "mpl.figure.prototype.handle_message = function(fig, msg) {\n",
       "    fig.message.textContent = msg['message'];\n",
       "}\n",
       "\n",
       "mpl.figure.prototype.handle_draw = function(fig, msg) {\n",
       "    // Request the server to send over a new figure.\n",
       "    fig.send_draw_message();\n",
       "}\n",
       "\n",
       "mpl.figure.prototype.handle_image_mode = function(fig, msg) {\n",
       "    fig.image_mode = msg['mode'];\n",
       "}\n",
       "\n",
       "mpl.figure.prototype.updated_canvas_event = function() {\n",
       "    // Called whenever the canvas gets updated.\n",
       "    this.send_message(\"ack\", {});\n",
       "}\n",
       "\n",
       "// A function to construct a web socket function for onmessage handling.\n",
       "// Called in the figure constructor.\n",
       "mpl.figure.prototype._make_on_message_function = function(fig) {\n",
       "    return function socket_on_message(evt) {\n",
       "        if (evt.data instanceof Blob) {\n",
       "            /* FIXME: We get \"Resource interpreted as Image but\n",
       "             * transferred with MIME type text/plain:\" errors on\n",
       "             * Chrome.  But how to set the MIME type?  It doesn't seem\n",
       "             * to be part of the websocket stream */\n",
       "            evt.data.type = \"image/png\";\n",
       "\n",
       "            /* Free the memory for the previous frames */\n",
       "            if (fig.imageObj.src) {\n",
       "                (window.URL || window.webkitURL).revokeObjectURL(\n",
       "                    fig.imageObj.src);\n",
       "            }\n",
       "\n",
       "            fig.imageObj.src = (window.URL || window.webkitURL).createObjectURL(\n",
       "                evt.data);\n",
       "            fig.updated_canvas_event();\n",
       "            fig.waiting = false;\n",
       "            return;\n",
       "        }\n",
       "        else if (typeof evt.data === 'string' && evt.data.slice(0, 21) == \"data:image/png;base64\") {\n",
       "            fig.imageObj.src = evt.data;\n",
       "            fig.updated_canvas_event();\n",
       "            fig.waiting = false;\n",
       "            return;\n",
       "        }\n",
       "\n",
       "        var msg = JSON.parse(evt.data);\n",
       "        var msg_type = msg['type'];\n",
       "\n",
       "        // Call the  \"handle_{type}\" callback, which takes\n",
       "        // the figure and JSON message as its only arguments.\n",
       "        try {\n",
       "            var callback = fig[\"handle_\" + msg_type];\n",
       "        } catch (e) {\n",
       "            console.log(\"No handler for the '\" + msg_type + \"' message type: \", msg);\n",
       "            return;\n",
       "        }\n",
       "\n",
       "        if (callback) {\n",
       "            try {\n",
       "                // console.log(\"Handling '\" + msg_type + \"' message: \", msg);\n",
       "                callback(fig, msg);\n",
       "            } catch (e) {\n",
       "                console.log(\"Exception inside the 'handler_\" + msg_type + \"' callback:\", e, e.stack, msg);\n",
       "            }\n",
       "        }\n",
       "    };\n",
       "}\n",
       "\n",
       "// from http://stackoverflow.com/questions/1114465/getting-mouse-location-in-canvas\n",
       "mpl.findpos = function(e) {\n",
       "    //this section is from http://www.quirksmode.org/js/events_properties.html\n",
       "    var targ;\n",
       "    if (!e)\n",
       "        e = window.event;\n",
       "    if (e.target)\n",
       "        targ = e.target;\n",
       "    else if (e.srcElement)\n",
       "        targ = e.srcElement;\n",
       "    if (targ.nodeType == 3) // defeat Safari bug\n",
       "        targ = targ.parentNode;\n",
       "\n",
       "    // jQuery normalizes the pageX and pageY\n",
       "    // pageX,Y are the mouse positions relative to the document\n",
       "    // offset() returns the position of the element relative to the document\n",
       "    var x = e.pageX - $(targ).offset().left;\n",
       "    var y = e.pageY - $(targ).offset().top;\n",
       "\n",
       "    return {\"x\": x, \"y\": y};\n",
       "};\n",
       "\n",
       "/*\n",
       " * return a copy of an object with only non-object keys\n",
       " * we need this to avoid circular references\n",
       " * http://stackoverflow.com/a/24161582/3208463\n",
       " */\n",
       "function simpleKeys (original) {\n",
       "  return Object.keys(original).reduce(function (obj, key) {\n",
       "    if (typeof original[key] !== 'object')\n",
       "        obj[key] = original[key]\n",
       "    return obj;\n",
       "  }, {});\n",
       "}\n",
       "\n",
       "mpl.figure.prototype.mouse_event = function(event, name) {\n",
       "    var canvas_pos = mpl.findpos(event)\n",
       "\n",
       "    if (name === 'button_press')\n",
       "    {\n",
       "        this.canvas.focus();\n",
       "        this.canvas_div.focus();\n",
       "    }\n",
       "\n",
       "    var x = canvas_pos.x * mpl.ratio;\n",
       "    var y = canvas_pos.y * mpl.ratio;\n",
       "\n",
       "    this.send_message(name, {x: x, y: y, button: event.button,\n",
       "                             step: event.step,\n",
       "                             guiEvent: simpleKeys(event)});\n",
       "\n",
       "    /* This prevents the web browser from automatically changing to\n",
       "     * the text insertion cursor when the button is pressed.  We want\n",
       "     * to control all of the cursor setting manually through the\n",
       "     * 'cursor' event from matplotlib */\n",
       "    event.preventDefault();\n",
       "    return false;\n",
       "}\n",
       "\n",
       "mpl.figure.prototype._key_event_extra = function(event, name) {\n",
       "    // Handle any extra behaviour associated with a key event\n",
       "}\n",
       "\n",
       "mpl.figure.prototype.key_event = function(event, name) {\n",
       "\n",
       "    // Prevent repeat events\n",
       "    if (name == 'key_press')\n",
       "    {\n",
       "        if (event.which === this._key)\n",
       "            return;\n",
       "        else\n",
       "            this._key = event.which;\n",
       "    }\n",
       "    if (name == 'key_release')\n",
       "        this._key = null;\n",
       "\n",
       "    var value = '';\n",
       "    if (event.ctrlKey && event.which != 17)\n",
       "        value += \"ctrl+\";\n",
       "    if (event.altKey && event.which != 18)\n",
       "        value += \"alt+\";\n",
       "    if (event.shiftKey && event.which != 16)\n",
       "        value += \"shift+\";\n",
       "\n",
       "    value += 'k';\n",
       "    value += event.which.toString();\n",
       "\n",
       "    this._key_event_extra(event, name);\n",
       "\n",
       "    this.send_message(name, {key: value,\n",
       "                             guiEvent: simpleKeys(event)});\n",
       "    return false;\n",
       "}\n",
       "\n",
       "mpl.figure.prototype.toolbar_button_onclick = function(name) {\n",
       "    if (name == 'download') {\n",
       "        this.handle_save(this, null);\n",
       "    } else {\n",
       "        this.send_message(\"toolbar_button\", {name: name});\n",
       "    }\n",
       "};\n",
       "\n",
       "mpl.figure.prototype.toolbar_button_onmouseover = function(tooltip) {\n",
       "    this.message.textContent = tooltip;\n",
       "};\n",
       "mpl.toolbar_items = [[\"Home\", \"Reset original view\", \"fa fa-home icon-home\", \"home\"], [\"Back\", \"Back to previous view\", \"fa fa-arrow-left icon-arrow-left\", \"back\"], [\"Forward\", \"Forward to next view\", \"fa fa-arrow-right icon-arrow-right\", \"forward\"], [\"\", \"\", \"\", \"\"], [\"Pan\", \"Pan axes with left mouse, zoom with right\", \"fa fa-arrows icon-move\", \"pan\"], [\"Zoom\", \"Zoom to rectangle\", \"fa fa-square-o icon-check-empty\", \"zoom\"], [\"\", \"\", \"\", \"\"], [\"Download\", \"Download plot\", \"fa fa-floppy-o icon-save\", \"download\"]];\n",
       "\n",
       "mpl.extensions = [\"eps\", \"pdf\", \"png\", \"ps\", \"raw\", \"svg\"];\n",
       "\n",
       "mpl.default_extension = \"png\";var comm_websocket_adapter = function(comm) {\n",
       "    // Create a \"websocket\"-like object which calls the given IPython comm\n",
       "    // object with the appropriate methods. Currently this is a non binary\n",
       "    // socket, so there is still some room for performance tuning.\n",
       "    var ws = {};\n",
       "\n",
       "    ws.close = function() {\n",
       "        comm.close()\n",
       "    };\n",
       "    ws.send = function(m) {\n",
       "        //console.log('sending', m);\n",
       "        comm.send(m);\n",
       "    };\n",
       "    // Register the callback with on_msg.\n",
       "    comm.on_msg(function(msg) {\n",
       "        //console.log('receiving', msg['content']['data'], msg);\n",
       "        // Pass the mpl event to the overridden (by mpl) onmessage function.\n",
       "        ws.onmessage(msg['content']['data'])\n",
       "    });\n",
       "    return ws;\n",
       "}\n",
       "\n",
       "mpl.mpl_figure_comm = function(comm, msg) {\n",
       "    // This is the function which gets called when the mpl process\n",
       "    // starts-up an IPython Comm through the \"matplotlib\" channel.\n",
       "\n",
       "    var id = msg.content.data.id;\n",
       "    // Get hold of the div created by the display call when the Comm\n",
       "    // socket was opened in Python.\n",
       "    var element = $(\"#\" + id);\n",
       "    var ws_proxy = comm_websocket_adapter(comm)\n",
       "\n",
       "    function ondownload(figure, format) {\n",
       "        window.open(figure.imageObj.src);\n",
       "    }\n",
       "\n",
       "    var fig = new mpl.figure(id, ws_proxy,\n",
       "                           ondownload,\n",
       "                           element.get(0));\n",
       "\n",
       "    // Call onopen now - mpl needs it, as it is assuming we've passed it a real\n",
       "    // web socket which is closed, not our websocket->open comm proxy.\n",
       "    ws_proxy.onopen();\n",
       "\n",
       "    fig.parent_element = element.get(0);\n",
       "    fig.cell_info = mpl.find_output_cell(\"<div id='\" + id + \"'></div>\");\n",
       "    if (!fig.cell_info) {\n",
       "        console.error(\"Failed to find cell for figure\", id, fig);\n",
       "        return;\n",
       "    }\n",
       "\n",
       "    var output_index = fig.cell_info[2]\n",
       "    var cell = fig.cell_info[0];\n",
       "\n",
       "};\n",
       "\n",
       "mpl.figure.prototype.handle_close = function(fig, msg) {\n",
       "    var width = fig.canvas.width/mpl.ratio\n",
       "    fig.root.unbind('remove')\n",
       "\n",
       "    // Update the output cell to use the data from the current canvas.\n",
       "    fig.push_to_output();\n",
       "    var dataURL = fig.canvas.toDataURL();\n",
       "    // Re-enable the keyboard manager in IPython - without this line, in FF,\n",
       "    // the notebook keyboard shortcuts fail.\n",
       "    IPython.keyboard_manager.enable()\n",
       "    $(fig.parent_element).html('<img src=\"' + dataURL + '\" width=\"' + width + '\">');\n",
       "    fig.close_ws(fig, msg);\n",
       "}\n",
       "\n",
       "mpl.figure.prototype.close_ws = function(fig, msg){\n",
       "    fig.send_message('closing', msg);\n",
       "    // fig.ws.close()\n",
       "}\n",
       "\n",
       "mpl.figure.prototype.push_to_output = function(remove_interactive) {\n",
       "    // Turn the data on the canvas into data in the output cell.\n",
       "    var width = this.canvas.width/mpl.ratio\n",
       "    var dataURL = this.canvas.toDataURL();\n",
       "    this.cell_info[1]['text/html'] = '<img src=\"' + dataURL + '\" width=\"' + width + '\">';\n",
       "}\n",
       "\n",
       "mpl.figure.prototype.updated_canvas_event = function() {\n",
       "    // Tell IPython that the notebook contents must change.\n",
       "    IPython.notebook.set_dirty(true);\n",
       "    this.send_message(\"ack\", {});\n",
       "    var fig = this;\n",
       "    // Wait a second, then push the new image to the DOM so\n",
       "    // that it is saved nicely (might be nice to debounce this).\n",
       "    setTimeout(function () { fig.push_to_output() }, 1000);\n",
       "}\n",
       "\n",
       "mpl.figure.prototype._init_toolbar = function() {\n",
       "    var fig = this;\n",
       "\n",
       "    var nav_element = $('<div/>');\n",
       "    nav_element.attr('style', 'width: 100%');\n",
       "    this.root.append(nav_element);\n",
       "\n",
       "    // Define a callback function for later on.\n",
       "    function toolbar_event(event) {\n",
       "        return fig.toolbar_button_onclick(event['data']);\n",
       "    }\n",
       "    function toolbar_mouse_event(event) {\n",
       "        return fig.toolbar_button_onmouseover(event['data']);\n",
       "    }\n",
       "\n",
       "    for(var toolbar_ind in mpl.toolbar_items){\n",
       "        var name = mpl.toolbar_items[toolbar_ind][0];\n",
       "        var tooltip = mpl.toolbar_items[toolbar_ind][1];\n",
       "        var image = mpl.toolbar_items[toolbar_ind][2];\n",
       "        var method_name = mpl.toolbar_items[toolbar_ind][3];\n",
       "\n",
       "        if (!name) { continue; };\n",
       "\n",
       "        var button = $('<button class=\"btn btn-default\" href=\"#\" title=\"' + name + '\"><i class=\"fa ' + image + ' fa-lg\"></i></button>');\n",
       "        button.click(method_name, toolbar_event);\n",
       "        button.mouseover(tooltip, toolbar_mouse_event);\n",
       "        nav_element.append(button);\n",
       "    }\n",
       "\n",
       "    // Add the status bar.\n",
       "    var status_bar = $('<span class=\"mpl-message\" style=\"text-align:right; float: right;\"/>');\n",
       "    nav_element.append(status_bar);\n",
       "    this.message = status_bar[0];\n",
       "\n",
       "    // Add the close button to the window.\n",
       "    var buttongrp = $('<div class=\"btn-group inline pull-right\"></div>');\n",
       "    var button = $('<button class=\"btn btn-mini btn-primary\" href=\"#\" title=\"Stop Interaction\"><i class=\"fa fa-power-off icon-remove icon-large\"></i></button>');\n",
       "    button.click(function (evt) { fig.handle_close(fig, {}); } );\n",
       "    button.mouseover('Stop Interaction', toolbar_mouse_event);\n",
       "    buttongrp.append(button);\n",
       "    var titlebar = this.root.find($('.ui-dialog-titlebar'));\n",
       "    titlebar.prepend(buttongrp);\n",
       "}\n",
       "\n",
       "mpl.figure.prototype._root_extra_style = function(el){\n",
       "    var fig = this\n",
       "    el.on(\"remove\", function(){\n",
       "\tfig.close_ws(fig, {});\n",
       "    });\n",
       "}\n",
       "\n",
       "mpl.figure.prototype._canvas_extra_style = function(el){\n",
       "    // this is important to make the div 'focusable\n",
       "    el.attr('tabindex', 0)\n",
       "    // reach out to IPython and tell the keyboard manager to turn it's self\n",
       "    // off when our div gets focus\n",
       "\n",
       "    // location in version 3\n",
       "    if (IPython.notebook.keyboard_manager) {\n",
       "        IPython.notebook.keyboard_manager.register_events(el);\n",
       "    }\n",
       "    else {\n",
       "        // location in version 2\n",
       "        IPython.keyboard_manager.register_events(el);\n",
       "    }\n",
       "\n",
       "}\n",
       "\n",
       "mpl.figure.prototype._key_event_extra = function(event, name) {\n",
       "    var manager = IPython.notebook.keyboard_manager;\n",
       "    if (!manager)\n",
       "        manager = IPython.keyboard_manager;\n",
       "\n",
       "    // Check for shift+enter\n",
       "    if (event.shiftKey && event.which == 13) {\n",
       "        this.canvas_div.blur();\n",
       "        // select the cell after this one\n",
       "        var index = IPython.notebook.find_cell_index(this.cell_info[0]);\n",
       "        IPython.notebook.select(index + 1);\n",
       "    }\n",
       "}\n",
       "\n",
       "mpl.figure.prototype.handle_save = function(fig, msg) {\n",
       "    fig.ondownload(fig, null);\n",
       "}\n",
       "\n",
       "\n",
       "mpl.find_output_cell = function(html_output) {\n",
       "    // Return the cell and output element which can be found *uniquely* in the notebook.\n",
       "    // Note - this is a bit hacky, but it is done because the \"notebook_saving.Notebook\"\n",
       "    // IPython event is triggered only after the cells have been serialised, which for\n",
       "    // our purposes (turning an active figure into a static one), is too late.\n",
       "    var cells = IPython.notebook.get_cells();\n",
       "    var ncells = cells.length;\n",
       "    for (var i=0; i<ncells; i++) {\n",
       "        var cell = cells[i];\n",
       "        if (cell.cell_type === 'code'){\n",
       "            for (var j=0; j<cell.output_area.outputs.length; j++) {\n",
       "                var data = cell.output_area.outputs[j];\n",
       "                if (data.data) {\n",
       "                    // IPython >= 3 moved mimebundle to data attribute of output\n",
       "                    data = data.data;\n",
       "                }\n",
       "                if (data['text/html'] == html_output) {\n",
       "                    return [cell, data, j];\n",
       "                }\n",
       "            }\n",
       "        }\n",
       "    }\n",
       "}\n",
       "\n",
       "// Register the function which deals with the matplotlib target/channel.\n",
       "// The kernel may be null if the page has been refreshed.\n",
       "if (IPython.notebook.kernel != null) {\n",
       "    IPython.notebook.kernel.comm_manager.register_target('matplotlib', mpl.mpl_figure_comm);\n",
       "}\n"
      ],
      "text/plain": [
       "<IPython.core.display.Javascript object>"
      ]
     },
     "metadata": {},
     "output_type": "display_data"
    },
    {
     "data": {
      "text/html": [
       "<img src=\"data:image/png;base64,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\" width=\"640\">"
      ],
      "text/plain": [
       "<IPython.core.display.HTML object>"
      ]
     },
     "metadata": {},
     "output_type": "display_data"
    }
   ],
   "source": [
    "%matplotlib notebook\n",
    "draw_graph_with_path(graph, rw_result_strategy_degree, pos)"
   ]
  },
  {
   "cell_type": "code",
   "execution_count": null,
   "metadata": {},
   "outputs": [],
   "source": []
  }
 ],
 "metadata": {
  "kernelspec": {
   "display_name": "Python 3",
   "language": "python",
   "name": "python3"
  },
  "language_info": {
   "codemirror_mode": {
    "name": "ipython",
    "version": 3
   },
   "file_extension": ".py",
   "mimetype": "text/x-python",
   "name": "python",
   "nbconvert_exporter": "python",
   "pygments_lexer": "ipython3",
   "version": "3.8.1"
  },
  "toc": {
   "base_numbering": 1,
   "nav_menu": {},
   "number_sections": true,
   "sideBar": true,
   "skip_h1_title": false,
   "title_cell": "Table of Contents",
   "title_sidebar": "Contents",
   "toc_cell": false,
   "toc_position": {},
   "toc_section_display": true,
   "toc_window_display": false
  }
 },
 "nbformat": 4,
 "nbformat_minor": 4
}
