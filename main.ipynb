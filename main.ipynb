{
 "cells": [
  {
   "cell_type": "markdown",
   "metadata": {},
   "source": [
    "MCS - BeNeFri\n",
    "<br/>Social Media Analytics, Spring 2020\n",
    "<br/>Project - Community Detection in a Facebook network\n",
    "<br/>@authors: Guillaume Chacun, Fabien Vorpe"
   ]
  },
  {
   "cell_type": "markdown",
   "metadata": {},
   "source": [
    "# Community Detection in a Facebook network"
   ]
  },
  {
   "cell_type": "markdown",
   "metadata": {},
   "source": [
    "## Dataset"
   ]
  },
  {
   "cell_type": "code",
   "execution_count": 1,
   "metadata": {
    "ExecuteTime": {
     "end_time": "2020-03-31T15:59:04.640420Z",
     "start_time": "2020-03-31T15:59:04.042021Z"
    }
   },
   "outputs": [],
   "source": [
    "import networkx as nx\n",
    "from tqdm import tqdm"
   ]
  },
  {
   "cell_type": "code",
   "execution_count": 2,
   "metadata": {
    "ExecuteTime": {
     "end_time": "2020-03-31T15:59:04.647402Z",
     "start_time": "2020-03-31T15:59:04.642414Z"
    }
   },
   "outputs": [],
   "source": [
    "edges_filename = 'example.txt' #facebook_combined"
   ]
  },
  {
   "cell_type": "code",
   "execution_count": 3,
   "metadata": {
    "ExecuteTime": {
     "end_time": "2020-03-31T15:59:04.661363Z",
     "start_time": "2020-03-31T15:59:04.650394Z"
    },
    "scrolled": true
   },
   "outputs": [],
   "source": [
    "# Load the Facebook dataset\n",
    "graph = nx.read_edgelist(f'data/{edges_filename}')\n",
    "#graph = nx.gnp_random_graph(100, 0.2)\n",
    "\n",
    "edge_list = ['%i %i {\\'weight\\': %i}' % (int(d[0]), int(d[1]), int(d[2])) for d in list(graph.edges.data('weight', default=1))]\n",
    "graph = nx.parse_edgelist(edge_list)"
   ]
  },
  {
   "cell_type": "code",
   "execution_count": 4,
   "metadata": {
    "ExecuteTime": {
     "end_time": "2020-03-31T15:59:04.669343Z",
     "start_time": "2020-03-31T15:59:04.664356Z"
    }
   },
   "outputs": [],
   "source": [
    "# Explore the properties of the graph"
   ]
  },
  {
   "cell_type": "code",
   "execution_count": 5,
   "metadata": {
    "ExecuteTime": {
     "end_time": "2020-03-31T15:59:04.685299Z",
     "start_time": "2020-03-31T15:59:04.671337Z"
    },
    "scrolled": true
   },
   "outputs": [
    {
     "name": "stdout",
     "output_type": "stream",
     "text": [
      "Number of nodes: 16\n",
      "Number of edges: 28\n"
     ]
    }
   ],
   "source": [
    "# print number of nodes / edges\n",
    "print('Number of nodes:', graph.number_of_nodes())\n",
    "print('Number of edges:', graph.number_of_edges())"
   ]
  },
  {
   "cell_type": "code",
   "execution_count": 6,
   "metadata": {
    "ExecuteTime": {
     "end_time": "2020-03-31T15:59:05.074795Z",
     "start_time": "2020-03-31T15:59:04.688291Z"
    },
    "code_folding": [
     1
    ]
   },
   "outputs": [],
   "source": [
    "import matplotlib.pyplot as plt\n",
    "def draw_graph(graph):\n",
    "    print(graph.edges.data())\n",
    "    # visualize network\n",
    "    options = {\n",
    "        'node_color': (0,0,1,.6),\n",
    "        'node_size': 30,\n",
    "        'line_color': (.8,.8,.8,1),\n",
    "        'linewidths': 0,\n",
    "        'width': .1,\n",
    "        'with_labels': 'True',\n",
    "    }\n",
    "    nx.draw_networkx(graph, **options)\n",
    "    plt.show()"
   ]
  },
  {
   "cell_type": "raw",
   "metadata": {
    "ExecuteTime": {
     "end_time": "2020-03-26T16:17:10.518856Z",
     "start_time": "2020-03-26T16:17:10.511882Z"
    }
   },
   "source": [
    "from networkx.drawing.nx_agraph import to_agraph \n",
    "def draw_graph(graph):\n",
    "    graph.graph['edge'] = {'arrowsize': '0.6', 'splines': 'curved'}\n",
    "    graph.graph['graph'] = {'scale': '3'}\n",
    "    A = to_agraph(graph) \n",
    "    A.layout('dot')                                                                 \n",
    "    A.draw('test.png') "
   ]
  },
  {
   "cell_type": "markdown",
   "metadata": {},
   "source": [
    "## Algorithms implementation"
   ]
  },
  {
   "cell_type": "markdown",
   "metadata": {},
   "source": [
    "### Louvain\n",
    "\n",
    "Implement the Louvain method for community detection.  "
   ]
  },
  {
   "cell_type": "code",
   "execution_count": 7,
   "metadata": {
    "ExecuteTime": {
     "end_time": "2020-03-31T15:59:05.128652Z",
     "start_time": "2020-03-31T15:59:05.077788Z"
    },
    "code_folding": [
     0,
     12
    ]
   },
   "outputs": [],
   "source": [
    "def louvain_passage(graph):\n",
    "    \"\"\"\n",
    "    Performs one passage of Louvain's algorithm to detect communities in a graph.\n",
    "    :param graph: networkx graph\n",
    "    :returns: dictionary with graph's nodes as keys and communities' id as values\n",
    "    \"\"\"\n",
    "    m = sum([edge[2]['weight'] for edge in graph.edges().data()])\n",
    "    prev_communities = {}\n",
    "    communities = {i: i for i in graph.nodes} # keys: nodes' id, values: nodes' community id\n",
    "    while list(prev_communities.values()) != list(communities.values()): # while communities are changing\n",
    "        prev_communities = communities.copy()\n",
    "        \n",
    "        communities = {k: v \n",
    "                       for k, v in sorted(communities.items(), \n",
    "                                          key=lambda item: int(item[1]))} # sort by node id (keys)\n",
    "        for nodei in tqdm(communities.keys()):\n",
    "            communityi = communities[nodei]\n",
    "            di = sum([graph.get_edge_data(nodei, neighbor)['weight']\n",
    "                      for neighbor in graph.neighbors(nodei)])\n",
    "            neighbor_communities = set(communities[neighbor] for neighbor in graph.neighbors(nodei))\n",
    "            \n",
    "            # compute modularity gain for each neighbor community of nodei\n",
    "            modularity_gains = {} # keys: community' id, values: modularity gain\n",
    "            for communityj in neighbor_communities:\n",
    "                nodes_in_communityj = [node for node, community in communities.items() \n",
    "                                       if community == communityj]\n",
    "                dj = sum([graph.get_edge_data(node, neighbor)['weight'] \n",
    "                          for node in nodes_in_communityj\n",
    "                          for neighbor in graph.neighbors(node) \n",
    "                          if node != nodei])\n",
    "                # count number of neighbors of nodei that are in communityj\n",
    "                links_ij = [graph.get_edge_data(nodei, node)['weight'] if node in graph.neighbors(nodei) else 0 \n",
    "                            for node in nodes_in_communityj]\n",
    "                dij = 2 * sum(links_ij)\n",
    "                # compute modularity\n",
    "                modularity_gains[communityj] = 1 / (2 * m) * (dij - (di * dj / m))\n",
    "                \n",
    "            # update node's community\n",
    "            modularity_gains = {k: v \n",
    "                                for k, v in sorted(modularity_gains.items(), \n",
    "                                                   key=lambda item: item[1])} # sort by modularity gain (values)\n",
    "            communities[nodei] = list(modularity_gains.keys())[-1]\n",
    "    return communities"
   ]
  },
  {
   "cell_type": "code",
   "execution_count": 8,
   "metadata": {
    "ExecuteTime": {
     "end_time": "2020-03-31T15:59:05.153586Z",
     "start_time": "2020-03-31T15:59:05.133638Z"
    },
    "code_folding": [
     0
    ]
   },
   "outputs": [],
   "source": [
    "def louvain_create_hypernodes(graph, communities):\n",
    "    \"\"\"\n",
    "    Creates the hypernodes graph after one passage of Louvain's aglorithm.\n",
    "    :param graph: networkx graph\n",
    "    :param communities: dictionary with graph's nodes as keys and communityies' id as values\n",
    "    :returns: new networkx graph (communities became hypernodes)\n",
    "    \"\"\"\n",
    "    new_graph = nx.Graph()\n",
    "    # create hypernodes and reflective edges\n",
    "    for community in set(communities.values()):\n",
    "        new_graph.add_node(community)\n",
    "\n",
    "        # count number of edges in community\n",
    "        nodes_in_community = [n for n, c in communities.items() if community == c]\n",
    "        links_intra_community = [1 if neighbor in nodes_in_community else 0 \n",
    "                                 for node in nodes_in_community\n",
    "                                 for neighbor in graph.neighbors(node)]\n",
    "        new_graph.add_edge(community, community, weight=sum(links_intra_community)/2)\n",
    "\n",
    "    # create inter communities edges\n",
    "    for community in new_graph.nodes:\n",
    "        nodes_in_community = [n for n, c in communities.items() if community == c]\n",
    "        neighbors_of_community = [neighbor\n",
    "                                  for node in nodes_in_community\n",
    "                                  for neighbor in graph.neighbors(node) \n",
    "                                  if communities[neighbor] != community]\n",
    "        for other_community in set(communities.values()):\n",
    "            if other_community != community:\n",
    "                nodes_in_other_community = [n for n, c in communities.items() if other_community == c]\n",
    "                nodes_neighbors_in_other_community = [node for node in neighbors_of_community \n",
    "                                                      if node in nodes_in_other_community]\n",
    "                edge_weight = len(nodes_neighbors_in_other_community)\n",
    "                if other_community not in new_graph.neighbors(community) and edge_weight > 0:\n",
    "                    new_graph.add_edge(community, other_community, weight=edge_weight)\n",
    "    return new_graph"
   ]
  },
  {
   "cell_type": "code",
   "execution_count": 9,
   "metadata": {
    "ExecuteTime": {
     "end_time": "2020-03-31T15:59:05.172534Z",
     "start_time": "2020-03-31T15:59:05.157575Z"
    },
    "code_folding": [
     0
    ]
   },
   "outputs": [],
   "source": [
    "def louvain(graph):\n",
    "    \"\"\"\n",
    "    Louvain's algorithm to detect communities in a given graph.\n",
    "    :param graph: networkx graph\n",
    "    :returns: graph of communities and a dictionary with graph's nodes as keys and communities' id as values\n",
    "    \"\"\"\n",
    "    all_communities = []\n",
    "    communities_id = set(graph.nodes())\n",
    "    passage_id = 0\n",
    "    while True: # passage\n",
    "        communities = louvain_passage(graph)\n",
    "        all_communities.append(communities)\n",
    "\n",
    "        # check if modif\n",
    "        if communities_id == set(communities.values()):\n",
    "            break\n",
    "        communities_id = set(communities.values())\n",
    "        \n",
    "        graph = louvain_create_hypernodes(graph, communities)\n",
    "        \n",
    "        passage_id += 1\n",
    "        print('Graph after passage', passage_id)\n",
    "        draw_graph(graph)\n",
    "    return graph, all_communities"
   ]
  },
  {
   "cell_type": "markdown",
   "metadata": {},
   "source": [
    "### Clustering coefficient\n",
    "Implement the clustering coefficient for a graph."
   ]
  },
  {
   "cell_type": "code",
   "execution_count": 10,
   "metadata": {
    "ExecuteTime": {
     "end_time": "2020-03-31T15:59:05.188491Z",
     "start_time": "2020-03-31T15:59:05.177521Z"
    },
    "code_folding": [
     0
    ]
   },
   "outputs": [],
   "source": [
    "def clustering_coefficient(graph):\n",
    "    \"\"\"\n",
    "    Computes the clustering coefficient for each node in a given graph.\n",
    "    :param graph: networkx graph\n",
    "    :returns: dictionary with graph's nodes as keys and their clustering coefficient as values\n",
    "    \"\"\"\n",
    "    coeffs = {}\n",
    "    for v in graph.nodes(): # compute coeff for each node\n",
    "        neighbors = list(graph.neighbors(v))\n",
    "        \n",
    "        connected_pairs_neighbors = []\n",
    "        for n1 in neighbors: # for each neighbor n1 of node v\n",
    "            for n2 in graph.neighbors(n1): # for each neighbor n2 of neighbor n1 of node v\n",
    "                if n2 in neighbors: # if n2 is also a neighbor of node v: (n1,n2) is a connected pair of v's neighbors\n",
    "                    connected_pairs_neighbors.append((n1, n2))\n",
    "        # C(v) = #connected pairs of v's neighbors / #pairs of v's neighbors\n",
    "        nb_pairs_neighnbors = (len(neighbors) * (len(neighbors)-1))\n",
    "        coeffs[v] = len(connected_pairs_neighbors) / nb_pairs_neighnbors if nb_pairs_neighnbors > 0 else 0\n",
    "    return coeffs"
   ]
  },
  {
   "cell_type": "markdown",
   "metadata": {},
   "source": [
    "### Random walk"
   ]
  },
  {
   "cell_type": "code",
   "execution_count": 11,
   "metadata": {
    "ExecuteTime": {
     "end_time": "2020-03-31T15:59:05.204449Z",
     "start_time": "2020-03-31T15:59:05.195473Z"
    },
    "code_folding": []
   },
   "outputs": [],
   "source": [
    "def random_walk(graph, starting_node, steps, random_walk_strategy):\n",
    "    \"\"\"\n",
    "    Visits a graph with a given random walk strategy.\n",
    "    :param graph: networkx graph\n",
    "    :param starting_node: node of the given graph which serves as the starting point of the random walk\n",
    "    :param steps: number of steps to perform\n",
    "    :param random_walk_strategy: function receiving a graph and a node and returning a node's neighbor to visit\n",
    "    :returns: list of nodes in their order of visit\n",
    "    \"\"\"\n",
    "    path = [starting_node]\n",
    "    node = path[0]\n",
    "    for _ in range(steps):\n",
    "        node = random_walk_strategy(graph, node)\n",
    "        path.append(node)\n",
    "    return path"
   ]
  },
  {
   "cell_type": "code",
   "execution_count": 12,
   "metadata": {
    "ExecuteTime": {
     "end_time": "2020-03-31T15:59:05.214423Z",
     "start_time": "2020-03-31T15:59:05.207442Z"
    }
   },
   "outputs": [],
   "source": [
    "from random import randrange, choices"
   ]
  },
  {
   "cell_type": "code",
   "execution_count": 13,
   "metadata": {
    "ExecuteTime": {
     "end_time": "2020-03-31T15:59:05.224396Z",
     "start_time": "2020-03-31T15:59:05.216417Z"
    }
   },
   "outputs": [],
   "source": [
    "def rw_strategy_degree(graph, node):\n",
    "    \"\"\"\n",
    "    Random walk strategy - the degree of a neighbor influences the probability to move to this neighbor.\n",
    "    :param graph: networkx graph\n",
    "    :param node: node of the given graph from which we search a neighbor to move to\n",
    "    :returns: node's neighbor to move to\n",
    "    \"\"\"\n",
    "    neighbors = list(graph.neighbors(node))\n",
    "    probs = [graph.degree(neighbor) for neighbor in neighbors]\n",
    "    probs = [p/sum(probs) for p in probs]\n",
    "    return choices(list(neighbors), probs)[0]"
   ]
  },
  {
   "cell_type": "code",
   "execution_count": 14,
   "metadata": {
    "ExecuteTime": {
     "end_time": "2020-03-31T15:59:05.236364Z",
     "start_time": "2020-03-31T15:59:05.227387Z"
    },
    "code_folding": [
     0
    ]
   },
   "outputs": [],
   "source": [
    "def rw_strategy_random(graph, node):\n",
    "    \"\"\"\n",
    "    Random walk strategy - completely random.\n",
    "    :param graph: networkx graph\n",
    "    :param node: node of the given graph from which we search a neighbor to move to\n",
    "    :returns: node's neighbor to move to\n",
    "    \"\"\"\n",
    "    neighbors = list(graph.neighbors(node))\n",
    "    rdm_idx = randrange(len(neighbors)-1)\n",
    "    return neighbors[rdm_idx]"
   ]
  },
  {
   "cell_type": "markdown",
   "metadata": {},
   "source": [
    "## Analysis"
   ]
  },
  {
   "cell_type": "code",
   "execution_count": 15,
   "metadata": {
    "ExecuteTime": {
     "end_time": "2020-03-31T15:59:06.015279Z",
     "start_time": "2020-03-31T15:59:05.239355Z"
    }
   },
   "outputs": [
    {
     "name": "stderr",
     "output_type": "stream",
     "text": [
      "100%|████████████████████████████████████████████████████████████████████████████████| 16/16 [00:00<00:00, 7980.60it/s]\n",
      "100%|███████████████████████████████████████████████████████████████████████████████| 16/16 [00:00<00:00, 16054.75it/s]\n",
      "100%|████████████████████████████████████████████████████████████████████████████████| 16/16 [00:00<00:00, 8021.62it/s]\n",
      "100%|███████████████████████████████████████████████████████████████████████████████| 16/16 [00:00<00:00, 16016.44it/s]\n"
     ]
    },
    {
     "name": "stdout",
     "output_type": "stream",
     "text": [
      "Graph after passage 1\n",
      "[('13', '13', {'weight': 1.0}), ('13', '12', {'weight': 3}), ('13', '7', {'weight': 1}), ('13', '4', {'weight': 1}), ('12', '12', {'weight': 8.0}), ('12', '4', {'weight': 1}), ('7', '7', {'weight': 2.0}), ('7', '4', {'weight': 4}), ('4', '4', {'weight': 7.0})]\n"
     ]
    },
    {
     "data": {
      "image/png": "[encoded data removed]",
      "text/plain": [
       "<Figure size 432x288 with 1 Axes>"
      ]
     },
     "metadata": {},
     "output_type": "display_data"
    },
    {
     "name": "stderr",
     "output_type": "stream",
     "text": [
      "100%|████████████████████████████████████████████████████████████████████████████████████████████| 4/4 [00:00<?, ?it/s]\n",
      "100%|██████████████████████████████████████████████████████████████████████████████████| 4/4 [00:00<00:00, 4008.89it/s]\n",
      "'c' argument looks like a single numeric RGB or RGBA sequence, which should be avoided as value-mapping will have precedence in case its length matches with 'x' & 'y'.  Please use a 2-D array with a single row if you really want to specify the same RGB or RGBA value for all points.\n"
     ]
    },
    {
     "name": "stdout",
     "output_type": "stream",
     "text": [
      "Graph after passage 2\n",
      "[('12', '12', {'weight': 2.0}), ('12', '4', {'weight': 3}), ('4', '4', {'weight': 2.0})]\n"
     ]
    },
    {
     "data": {
      "image/png": "[encoded data removed]",
      "text/plain": [
       "<Figure size 432x288 with 1 Axes>"
      ]
     },
     "metadata": {},
     "output_type": "display_data"
    },
    {
     "name": "stderr",
     "output_type": "stream",
     "text": [
      "100%|████████████████████████████████████████████████████████████████████████████████████████████| 2/2 [00:00<?, ?it/s]\n",
      "100%|████████████████████████████████████████████████████████████████████████████████████████████| 2/2 [00:00<?, ?it/s]\n"
     ]
    }
   ],
   "source": [
    "# Identify users’ communities in the Facebook network using Louvain\n",
    "new_graph, communities = louvain(graph)"
   ]
  },
  {
   "cell_type": "code",
   "execution_count": 16,
   "metadata": {
    "ExecuteTime": {
     "end_time": "2020-03-31T15:59:06.023257Z",
     "start_time": "2020-03-31T15:59:06.017274Z"
    },
    "scrolled": false
   },
   "outputs": [
    {
     "name": "stdout",
     "output_type": "stream",
     "text": [
      "There are 2 communities.\n"
     ]
    }
   ],
   "source": [
    "print(f'There are {len(set(communities[-1].values()))} communities.')\n",
    "#print(communities)"
   ]
  },
  {
   "cell_type": "code",
   "execution_count": 17,
   "metadata": {
    "ExecuteTime": {
     "end_time": "2020-03-31T15:59:06.050186Z",
     "start_time": "2020-03-31T15:59:06.025252Z"
    },
    "scrolled": true
   },
   "outputs": [
    {
     "name": "stdout",
     "output_type": "stream",
     "text": [
      "There are 2 communities according to Louvain' method.\n"
     ]
    }
   ],
   "source": [
    "import community\n",
    "louvain_communities = community.best_partition(graph)\n",
    "nb_louvain_communities = len(set(louvain_communities.values()))\n",
    "louvain_communities = {k: v for k, v in sorted(louvain_communities.items(), key=lambda item: item[0])} # sort by key (node id)\n",
    "print(f'There are {nb_louvain_communities} communities according to Louvain\\' method.')\n",
    "\n",
    "#dendo = community.generate_dendrogram(graph)\n",
    "#for level in range(len(dendo)) :\n",
    "#    print(\"partition at level\", level, \"is\", community.partition_at_level(dendo, level))"
   ]
  },
  {
   "cell_type": "code",
   "execution_count": 18,
   "metadata": {
    "ExecuteTime": {
     "end_time": "2020-03-31T15:59:06.061156Z",
     "start_time": "2020-03-31T15:59:06.052180Z"
    },
    "code_folding": [
     0
    ]
   },
   "outputs": [
    {
     "name": "stdout",
     "output_type": "stream",
     "text": [
      "{'13': 1.0, '14': 0.6666666666666666, '0': 0.3333333333333333, '4': 0.3333333333333333, '1': 0.3333333333333333, '9': 0.3333333333333333, '2': 0.3, '8': 0.3, '10': 0.2, '11': 0.2, '5': 0.16666666666666666, '3': 0.0, '6': 0.0, '7': 0.0, '12': 0.0, '15': 0}\n"
     ]
    }
   ],
   "source": [
    "# Identify the top k users with the highest clustering coefficient in the graph.\n",
    "# Experiment with different values of k and choose the most appropriate one.\n",
    "clustering_coefficients = {k: v \n",
    "                           for k, v in sorted(clustering_coefficient(graph).items(), \n",
    "                                              key=lambda item: item[1], \n",
    "                                              reverse=True)}\n",
    "print(clustering_coefficients)"
   ]
  },
  {
   "cell_type": "code",
   "execution_count": 19,
   "metadata": {
    "ExecuteTime": {
     "end_time": "2020-03-31T15:59:06.078110Z",
     "start_time": "2020-03-31T15:59:06.064149Z"
    }
   },
   "outputs": [
    {
     "data": {
      "text/plain": [
       "{'0': 0.3333333333333333,\n",
       " '2': 0.3,\n",
       " '3': 0,\n",
       " '4': 0.3333333333333333,\n",
       " '5': 0.16666666666666666,\n",
       " '1': 0.3333333333333333,\n",
       " '6': 0,\n",
       " '7': 0,\n",
       " '10': 0.2,\n",
       " '11': 0.2,\n",
       " '8': 0.3,\n",
       " '13': 1.0,\n",
       " '12': 0,\n",
       " '14': 0.6666666666666666,\n",
       " '9': 0.3333333333333333,\n",
       " '15': 0}"
      ]
     },
     "execution_count": 19,
     "metadata": {},
     "output_type": "execute_result"
    }
   ],
   "source": [
    "nx.clustering(graph)"
   ]
  },
  {
   "cell_type": "code",
   "execution_count": 20,
   "metadata": {
    "ExecuteTime": {
     "end_time": "2020-03-31T15:59:06.094069Z",
     "start_time": "2020-03-31T15:59:06.081103Z"
    }
   },
   "outputs": [
    {
     "name": "stdout",
     "output_type": "stream",
     "text": [
      "['0', '5', '2', '4', '2', '0', '4', '10', '14', '9', '12']\n",
      "['0', '2', '5', '0', '2', '4', '0', '4', '1', '2', '1']\n"
     ]
    }
   ],
   "source": [
    "# Evaluate different random walk strategies to spread a message across the network.\n",
    "# The message should reach as many different communities as possible.\n",
    "starting_node = list(graph.nodes())[0]\n",
    "steps = 10\n",
    "rw_result_strategy_degree = random_walk(graph, starting_node, steps, rw_strategy_degree)\n",
    "rw_result_strategy_random = random_walk(graph, starting_node, steps, rw_strategy_random)\n",
    "\n",
    "print(rw_result_strategy_degree)\n",
    "print(rw_result_strategy_random)"
   ]
  },
  {
   "cell_type": "markdown",
   "metadata": {},
   "source": [
    "## Visualization"
   ]
  },
  {
   "cell_type": "code",
   "execution_count": 21,
   "metadata": {
    "ExecuteTime": {
     "end_time": "2020-03-31T15:59:06.105039Z",
     "start_time": "2020-03-31T15:59:06.097060Z"
    }
   },
   "outputs": [],
   "source": [
    "# Visualize the output of Louvain by coloring the nodes according to their assigned Communities."
   ]
  },
  {
   "cell_type": "code",
   "execution_count": 22,
   "metadata": {
    "ExecuteTime": {
     "end_time": "2020-03-31T15:59:06.115013Z",
     "start_time": "2020-03-31T15:59:06.108031Z"
    }
   },
   "outputs": [],
   "source": [
    "# Visualize the output of applying Random Walk algorithm, by highlighting the sequence of nodes selected in a path."
   ]
  }
 ],
 "metadata": {
  "kernelspec": {
   "display_name": "Python 3",
   "language": "python",
   "name": "python3"
  },
  "language_info": {
   "codemirror_mode": {
    "name": "ipython",
    "version": 3
   },
   "file_extension": ".py",
   "mimetype": "text/x-python",
   "name": "python",
   "nbconvert_exporter": "python",
   "pygments_lexer": "ipython3",
   "version": "3.8.1"
  },
  "toc": {
   "base_numbering": 1,
   "nav_menu": {},
   "number_sections": true,
   "sideBar": true,
   "skip_h1_title": false,
   "title_cell": "Table of Contents",
   "title_sidebar": "Contents",
   "toc_cell": false,
   "toc_position": {},
   "toc_section_display": true,
   "toc_window_display": false
  }
 },
 "nbformat": 4,
 "nbformat_minor": 4
}
